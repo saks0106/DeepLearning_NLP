{
  "nbformat": 4,
  "nbformat_minor": 0,
  "metadata": {
    "colab": {
      "provenance": [],
      "include_colab_link": true
    },
    "kernelspec": {
      "name": "python3",
      "display_name": "Python 3"
    },
    "language_info": {
      "name": "python"
    },
    "accelerator": "GPU",
    "gpuClass": "standard",
    "widgets": {
      "application/vnd.jupyter.widget-state+json": {
        "6a1789de9ceb4f7d9188577dd0564776": {
          "model_module": "@jupyter-widgets/controls",
          "model_name": "HBoxModel",
          "model_module_version": "1.5.0",
          "state": {
            "_dom_classes": [],
            "_model_module": "@jupyter-widgets/controls",
            "_model_module_version": "1.5.0",
            "_model_name": "HBoxModel",
            "_view_count": null,
            "_view_module": "@jupyter-widgets/controls",
            "_view_module_version": "1.5.0",
            "_view_name": "HBoxView",
            "box_style": "",
            "children": [
              "IPY_MODEL_8be5e376302748ef8de86ac9c0d058e2",
              "IPY_MODEL_5f24b328fe1a47b9ac83de6233750e21",
              "IPY_MODEL_e9f239be1efa4891a3caa42c43d40db7"
            ],
            "layout": "IPY_MODEL_52e3327faaa240caa71ce85d8be9c889"
          }
        },
        "8be5e376302748ef8de86ac9c0d058e2": {
          "model_module": "@jupyter-widgets/controls",
          "model_name": "HTMLModel",
          "model_module_version": "1.5.0",
          "state": {
            "_dom_classes": [],
            "_model_module": "@jupyter-widgets/controls",
            "_model_module_version": "1.5.0",
            "_model_name": "HTMLModel",
            "_view_count": null,
            "_view_module": "@jupyter-widgets/controls",
            "_view_module_version": "1.5.0",
            "_view_name": "HTMLView",
            "description": "",
            "description_tooltip": null,
            "layout": "IPY_MODEL_478ccda40dc4405b9c51098cb5f51af5",
            "placeholder": "​",
            "style": "IPY_MODEL_289e4f45c41c440395423150df22445b",
            "value": "Dl Completed...: 100%"
          }
        },
        "5f24b328fe1a47b9ac83de6233750e21": {
          "model_module": "@jupyter-widgets/controls",
          "model_name": "FloatProgressModel",
          "model_module_version": "1.5.0",
          "state": {
            "_dom_classes": [],
            "_model_module": "@jupyter-widgets/controls",
            "_model_module_version": "1.5.0",
            "_model_name": "FloatProgressModel",
            "_view_count": null,
            "_view_module": "@jupyter-widgets/controls",
            "_view_module_version": "1.5.0",
            "_view_name": "ProgressView",
            "bar_style": "success",
            "description": "",
            "description_tooltip": null,
            "layout": "IPY_MODEL_e5c429c5d55543d48e2c098116b54b6d",
            "max": 1,
            "min": 0,
            "orientation": "horizontal",
            "style": "IPY_MODEL_0ddf1ca9c3764a8c80b2b4df53133926",
            "value": 1
          }
        },
        "e9f239be1efa4891a3caa42c43d40db7": {
          "model_module": "@jupyter-widgets/controls",
          "model_name": "HTMLModel",
          "model_module_version": "1.5.0",
          "state": {
            "_dom_classes": [],
            "_model_module": "@jupyter-widgets/controls",
            "_model_module_version": "1.5.0",
            "_model_name": "HTMLModel",
            "_view_count": null,
            "_view_module": "@jupyter-widgets/controls",
            "_view_module_version": "1.5.0",
            "_view_name": "HTMLView",
            "description": "",
            "description_tooltip": null,
            "layout": "IPY_MODEL_fa52b34310ff45ea85e3da46ad567ebf",
            "placeholder": "​",
            "style": "IPY_MODEL_89d3da09a9144ceba1959902761a7fd3",
            "value": " 1/1 [00:09&lt;00:00,  9.28s/ url]"
          }
        },
        "52e3327faaa240caa71ce85d8be9c889": {
          "model_module": "@jupyter-widgets/base",
          "model_name": "LayoutModel",
          "model_module_version": "1.2.0",
          "state": {
            "_model_module": "@jupyter-widgets/base",
            "_model_module_version": "1.2.0",
            "_model_name": "LayoutModel",
            "_view_count": null,
            "_view_module": "@jupyter-widgets/base",
            "_view_module_version": "1.2.0",
            "_view_name": "LayoutView",
            "align_content": null,
            "align_items": null,
            "align_self": null,
            "border": null,
            "bottom": null,
            "display": null,
            "flex": null,
            "flex_flow": null,
            "grid_area": null,
            "grid_auto_columns": null,
            "grid_auto_flow": null,
            "grid_auto_rows": null,
            "grid_column": null,
            "grid_gap": null,
            "grid_row": null,
            "grid_template_areas": null,
            "grid_template_columns": null,
            "grid_template_rows": null,
            "height": null,
            "justify_content": null,
            "justify_items": null,
            "left": null,
            "margin": null,
            "max_height": null,
            "max_width": null,
            "min_height": null,
            "min_width": null,
            "object_fit": null,
            "object_position": null,
            "order": null,
            "overflow": null,
            "overflow_x": null,
            "overflow_y": null,
            "padding": null,
            "right": null,
            "top": null,
            "visibility": null,
            "width": null
          }
        },
        "478ccda40dc4405b9c51098cb5f51af5": {
          "model_module": "@jupyter-widgets/base",
          "model_name": "LayoutModel",
          "model_module_version": "1.2.0",
          "state": {
            "_model_module": "@jupyter-widgets/base",
            "_model_module_version": "1.2.0",
            "_model_name": "LayoutModel",
            "_view_count": null,
            "_view_module": "@jupyter-widgets/base",
            "_view_module_version": "1.2.0",
            "_view_name": "LayoutView",
            "align_content": null,
            "align_items": null,
            "align_self": null,
            "border": null,
            "bottom": null,
            "display": null,
            "flex": null,
            "flex_flow": null,
            "grid_area": null,
            "grid_auto_columns": null,
            "grid_auto_flow": null,
            "grid_auto_rows": null,
            "grid_column": null,
            "grid_gap": null,
            "grid_row": null,
            "grid_template_areas": null,
            "grid_template_columns": null,
            "grid_template_rows": null,
            "height": null,
            "justify_content": null,
            "justify_items": null,
            "left": null,
            "margin": null,
            "max_height": null,
            "max_width": null,
            "min_height": null,
            "min_width": null,
            "object_fit": null,
            "object_position": null,
            "order": null,
            "overflow": null,
            "overflow_x": null,
            "overflow_y": null,
            "padding": null,
            "right": null,
            "top": null,
            "visibility": null,
            "width": null
          }
        },
        "289e4f45c41c440395423150df22445b": {
          "model_module": "@jupyter-widgets/controls",
          "model_name": "DescriptionStyleModel",
          "model_module_version": "1.5.0",
          "state": {
            "_model_module": "@jupyter-widgets/controls",
            "_model_module_version": "1.5.0",
            "_model_name": "DescriptionStyleModel",
            "_view_count": null,
            "_view_module": "@jupyter-widgets/base",
            "_view_module_version": "1.2.0",
            "_view_name": "StyleView",
            "description_width": ""
          }
        },
        "e5c429c5d55543d48e2c098116b54b6d": {
          "model_module": "@jupyter-widgets/base",
          "model_name": "LayoutModel",
          "model_module_version": "1.2.0",
          "state": {
            "_model_module": "@jupyter-widgets/base",
            "_model_module_version": "1.2.0",
            "_model_name": "LayoutModel",
            "_view_count": null,
            "_view_module": "@jupyter-widgets/base",
            "_view_module_version": "1.2.0",
            "_view_name": "LayoutView",
            "align_content": null,
            "align_items": null,
            "align_self": null,
            "border": null,
            "bottom": null,
            "display": null,
            "flex": null,
            "flex_flow": null,
            "grid_area": null,
            "grid_auto_columns": null,
            "grid_auto_flow": null,
            "grid_auto_rows": null,
            "grid_column": null,
            "grid_gap": null,
            "grid_row": null,
            "grid_template_areas": null,
            "grid_template_columns": null,
            "grid_template_rows": null,
            "height": null,
            "justify_content": null,
            "justify_items": null,
            "left": null,
            "margin": null,
            "max_height": null,
            "max_width": null,
            "min_height": null,
            "min_width": null,
            "object_fit": null,
            "object_position": null,
            "order": null,
            "overflow": null,
            "overflow_x": null,
            "overflow_y": null,
            "padding": null,
            "right": null,
            "top": null,
            "visibility": null,
            "width": "20px"
          }
        },
        "0ddf1ca9c3764a8c80b2b4df53133926": {
          "model_module": "@jupyter-widgets/controls",
          "model_name": "ProgressStyleModel",
          "model_module_version": "1.5.0",
          "state": {
            "_model_module": "@jupyter-widgets/controls",
            "_model_module_version": "1.5.0",
            "_model_name": "ProgressStyleModel",
            "_view_count": null,
            "_view_module": "@jupyter-widgets/base",
            "_view_module_version": "1.2.0",
            "_view_name": "StyleView",
            "bar_color": null,
            "description_width": ""
          }
        },
        "fa52b34310ff45ea85e3da46ad567ebf": {
          "model_module": "@jupyter-widgets/base",
          "model_name": "LayoutModel",
          "model_module_version": "1.2.0",
          "state": {
            "_model_module": "@jupyter-widgets/base",
            "_model_module_version": "1.2.0",
            "_model_name": "LayoutModel",
            "_view_count": null,
            "_view_module": "@jupyter-widgets/base",
            "_view_module_version": "1.2.0",
            "_view_name": "LayoutView",
            "align_content": null,
            "align_items": null,
            "align_self": null,
            "border": null,
            "bottom": null,
            "display": null,
            "flex": null,
            "flex_flow": null,
            "grid_area": null,
            "grid_auto_columns": null,
            "grid_auto_flow": null,
            "grid_auto_rows": null,
            "grid_column": null,
            "grid_gap": null,
            "grid_row": null,
            "grid_template_areas": null,
            "grid_template_columns": null,
            "grid_template_rows": null,
            "height": null,
            "justify_content": null,
            "justify_items": null,
            "left": null,
            "margin": null,
            "max_height": null,
            "max_width": null,
            "min_height": null,
            "min_width": null,
            "object_fit": null,
            "object_position": null,
            "order": null,
            "overflow": null,
            "overflow_x": null,
            "overflow_y": null,
            "padding": null,
            "right": null,
            "top": null,
            "visibility": null,
            "width": null
          }
        },
        "89d3da09a9144ceba1959902761a7fd3": {
          "model_module": "@jupyter-widgets/controls",
          "model_name": "DescriptionStyleModel",
          "model_module_version": "1.5.0",
          "state": {
            "_model_module": "@jupyter-widgets/controls",
            "_model_module_version": "1.5.0",
            "_model_name": "DescriptionStyleModel",
            "_view_count": null,
            "_view_module": "@jupyter-widgets/base",
            "_view_module_version": "1.2.0",
            "_view_name": "StyleView",
            "description_width": ""
          }
        },
        "7493d734f30349908d0c9c4fbaad05dd": {
          "model_module": "@jupyter-widgets/controls",
          "model_name": "HBoxModel",
          "model_module_version": "1.5.0",
          "state": {
            "_dom_classes": [],
            "_model_module": "@jupyter-widgets/controls",
            "_model_module_version": "1.5.0",
            "_model_name": "HBoxModel",
            "_view_count": null,
            "_view_module": "@jupyter-widgets/controls",
            "_view_module_version": "1.5.0",
            "_view_name": "HBoxView",
            "box_style": "",
            "children": [
              "IPY_MODEL_2acd239a8d3645dfacd4acc75ac84678",
              "IPY_MODEL_1da44976df73425da55ad6d0f9b3ddc7",
              "IPY_MODEL_5a181e97930c4332a55a570de4d5906a"
            ],
            "layout": "IPY_MODEL_9584273504564185b7c1dcba27190cc0"
          }
        },
        "2acd239a8d3645dfacd4acc75ac84678": {
          "model_module": "@jupyter-widgets/controls",
          "model_name": "HTMLModel",
          "model_module_version": "1.5.0",
          "state": {
            "_dom_classes": [],
            "_model_module": "@jupyter-widgets/controls",
            "_model_module_version": "1.5.0",
            "_model_name": "HTMLModel",
            "_view_count": null,
            "_view_module": "@jupyter-widgets/controls",
            "_view_module_version": "1.5.0",
            "_view_name": "HTMLView",
            "description": "",
            "description_tooltip": null,
            "layout": "IPY_MODEL_d44cbc83fa6a480992a402a8f8659292",
            "placeholder": "​",
            "style": "IPY_MODEL_572b0d4228fa49e0a0dea3dcf614d1af",
            "value": "Dl Size...: 100%"
          }
        },
        "1da44976df73425da55ad6d0f9b3ddc7": {
          "model_module": "@jupyter-widgets/controls",
          "model_name": "FloatProgressModel",
          "model_module_version": "1.5.0",
          "state": {
            "_dom_classes": [],
            "_model_module": "@jupyter-widgets/controls",
            "_model_module_version": "1.5.0",
            "_model_name": "FloatProgressModel",
            "_view_count": null,
            "_view_module": "@jupyter-widgets/controls",
            "_view_module_version": "1.5.0",
            "_view_name": "ProgressView",
            "bar_style": "success",
            "description": "",
            "description_tooltip": null,
            "layout": "IPY_MODEL_c8f6c1abc69b4799b6799d95cafeb765",
            "max": 1,
            "min": 0,
            "orientation": "horizontal",
            "style": "IPY_MODEL_6069d015265849b2958084c278cf182f",
            "value": 1
          }
        },
        "5a181e97930c4332a55a570de4d5906a": {
          "model_module": "@jupyter-widgets/controls",
          "model_name": "HTMLModel",
          "model_module_version": "1.5.0",
          "state": {
            "_dom_classes": [],
            "_model_module": "@jupyter-widgets/controls",
            "_model_module_version": "1.5.0",
            "_model_name": "HTMLModel",
            "_view_count": null,
            "_view_module": "@jupyter-widgets/controls",
            "_view_module_version": "1.5.0",
            "_view_name": "HTMLView",
            "description": "",
            "description_tooltip": null,
            "layout": "IPY_MODEL_8a1c5c79ff8146038d446a8611d48182",
            "placeholder": "​",
            "style": "IPY_MODEL_bddbb58e8714485f92dc17f44a265878",
            "value": " 80/80 [00:09&lt;00:00, 18.22 MiB/s]"
          }
        },
        "9584273504564185b7c1dcba27190cc0": {
          "model_module": "@jupyter-widgets/base",
          "model_name": "LayoutModel",
          "model_module_version": "1.2.0",
          "state": {
            "_model_module": "@jupyter-widgets/base",
            "_model_module_version": "1.2.0",
            "_model_name": "LayoutModel",
            "_view_count": null,
            "_view_module": "@jupyter-widgets/base",
            "_view_module_version": "1.2.0",
            "_view_name": "LayoutView",
            "align_content": null,
            "align_items": null,
            "align_self": null,
            "border": null,
            "bottom": null,
            "display": null,
            "flex": null,
            "flex_flow": null,
            "grid_area": null,
            "grid_auto_columns": null,
            "grid_auto_flow": null,
            "grid_auto_rows": null,
            "grid_column": null,
            "grid_gap": null,
            "grid_row": null,
            "grid_template_areas": null,
            "grid_template_columns": null,
            "grid_template_rows": null,
            "height": null,
            "justify_content": null,
            "justify_items": null,
            "left": null,
            "margin": null,
            "max_height": null,
            "max_width": null,
            "min_height": null,
            "min_width": null,
            "object_fit": null,
            "object_position": null,
            "order": null,
            "overflow": null,
            "overflow_x": null,
            "overflow_y": null,
            "padding": null,
            "right": null,
            "top": null,
            "visibility": null,
            "width": null
          }
        },
        "d44cbc83fa6a480992a402a8f8659292": {
          "model_module": "@jupyter-widgets/base",
          "model_name": "LayoutModel",
          "model_module_version": "1.2.0",
          "state": {
            "_model_module": "@jupyter-widgets/base",
            "_model_module_version": "1.2.0",
            "_model_name": "LayoutModel",
            "_view_count": null,
            "_view_module": "@jupyter-widgets/base",
            "_view_module_version": "1.2.0",
            "_view_name": "LayoutView",
            "align_content": null,
            "align_items": null,
            "align_self": null,
            "border": null,
            "bottom": null,
            "display": null,
            "flex": null,
            "flex_flow": null,
            "grid_area": null,
            "grid_auto_columns": null,
            "grid_auto_flow": null,
            "grid_auto_rows": null,
            "grid_column": null,
            "grid_gap": null,
            "grid_row": null,
            "grid_template_areas": null,
            "grid_template_columns": null,
            "grid_template_rows": null,
            "height": null,
            "justify_content": null,
            "justify_items": null,
            "left": null,
            "margin": null,
            "max_height": null,
            "max_width": null,
            "min_height": null,
            "min_width": null,
            "object_fit": null,
            "object_position": null,
            "order": null,
            "overflow": null,
            "overflow_x": null,
            "overflow_y": null,
            "padding": null,
            "right": null,
            "top": null,
            "visibility": null,
            "width": null
          }
        },
        "572b0d4228fa49e0a0dea3dcf614d1af": {
          "model_module": "@jupyter-widgets/controls",
          "model_name": "DescriptionStyleModel",
          "model_module_version": "1.5.0",
          "state": {
            "_model_module": "@jupyter-widgets/controls",
            "_model_module_version": "1.5.0",
            "_model_name": "DescriptionStyleModel",
            "_view_count": null,
            "_view_module": "@jupyter-widgets/base",
            "_view_module_version": "1.2.0",
            "_view_name": "StyleView",
            "description_width": ""
          }
        },
        "c8f6c1abc69b4799b6799d95cafeb765": {
          "model_module": "@jupyter-widgets/base",
          "model_name": "LayoutModel",
          "model_module_version": "1.2.0",
          "state": {
            "_model_module": "@jupyter-widgets/base",
            "_model_module_version": "1.2.0",
            "_model_name": "LayoutModel",
            "_view_count": null,
            "_view_module": "@jupyter-widgets/base",
            "_view_module_version": "1.2.0",
            "_view_name": "LayoutView",
            "align_content": null,
            "align_items": null,
            "align_self": null,
            "border": null,
            "bottom": null,
            "display": null,
            "flex": null,
            "flex_flow": null,
            "grid_area": null,
            "grid_auto_columns": null,
            "grid_auto_flow": null,
            "grid_auto_rows": null,
            "grid_column": null,
            "grid_gap": null,
            "grid_row": null,
            "grid_template_areas": null,
            "grid_template_columns": null,
            "grid_template_rows": null,
            "height": null,
            "justify_content": null,
            "justify_items": null,
            "left": null,
            "margin": null,
            "max_height": null,
            "max_width": null,
            "min_height": null,
            "min_width": null,
            "object_fit": null,
            "object_position": null,
            "order": null,
            "overflow": null,
            "overflow_x": null,
            "overflow_y": null,
            "padding": null,
            "right": null,
            "top": null,
            "visibility": null,
            "width": "20px"
          }
        },
        "6069d015265849b2958084c278cf182f": {
          "model_module": "@jupyter-widgets/controls",
          "model_name": "ProgressStyleModel",
          "model_module_version": "1.5.0",
          "state": {
            "_model_module": "@jupyter-widgets/controls",
            "_model_module_version": "1.5.0",
            "_model_name": "ProgressStyleModel",
            "_view_count": null,
            "_view_module": "@jupyter-widgets/base",
            "_view_module_version": "1.2.0",
            "_view_name": "StyleView",
            "bar_color": null,
            "description_width": ""
          }
        },
        "8a1c5c79ff8146038d446a8611d48182": {
          "model_module": "@jupyter-widgets/base",
          "model_name": "LayoutModel",
          "model_module_version": "1.2.0",
          "state": {
            "_model_module": "@jupyter-widgets/base",
            "_model_module_version": "1.2.0",
            "_model_name": "LayoutModel",
            "_view_count": null,
            "_view_module": "@jupyter-widgets/base",
            "_view_module_version": "1.2.0",
            "_view_name": "LayoutView",
            "align_content": null,
            "align_items": null,
            "align_self": null,
            "border": null,
            "bottom": null,
            "display": null,
            "flex": null,
            "flex_flow": null,
            "grid_area": null,
            "grid_auto_columns": null,
            "grid_auto_flow": null,
            "grid_auto_rows": null,
            "grid_column": null,
            "grid_gap": null,
            "grid_row": null,
            "grid_template_areas": null,
            "grid_template_columns": null,
            "grid_template_rows": null,
            "height": null,
            "justify_content": null,
            "justify_items": null,
            "left": null,
            "margin": null,
            "max_height": null,
            "max_width": null,
            "min_height": null,
            "min_width": null,
            "object_fit": null,
            "object_position": null,
            "order": null,
            "overflow": null,
            "overflow_x": null,
            "overflow_y": null,
            "padding": null,
            "right": null,
            "top": null,
            "visibility": null,
            "width": null
          }
        },
        "bddbb58e8714485f92dc17f44a265878": {
          "model_module": "@jupyter-widgets/controls",
          "model_name": "DescriptionStyleModel",
          "model_module_version": "1.5.0",
          "state": {
            "_model_module": "@jupyter-widgets/controls",
            "_model_module_version": "1.5.0",
            "_model_name": "DescriptionStyleModel",
            "_view_count": null,
            "_view_module": "@jupyter-widgets/base",
            "_view_module_version": "1.2.0",
            "_view_name": "StyleView",
            "description_width": ""
          }
        },
        "8e8c5a0c6f8b4de4bc72f7b56be16c38": {
          "model_module": "@jupyter-widgets/controls",
          "model_name": "HBoxModel",
          "model_module_version": "1.5.0",
          "state": {
            "_dom_classes": [],
            "_model_module": "@jupyter-widgets/controls",
            "_model_module_version": "1.5.0",
            "_model_name": "HBoxModel",
            "_view_count": null,
            "_view_module": "@jupyter-widgets/controls",
            "_view_module_version": "1.5.0",
            "_view_name": "HBoxView",
            "box_style": "",
            "children": [
              "IPY_MODEL_19a05997f27f4b41a1153421c7cd66ac",
              "IPY_MODEL_67865f53c1cf4e40970d0898c9187bdf",
              "IPY_MODEL_b8904c5cc3db4eb28a89137889dbe712"
            ],
            "layout": "IPY_MODEL_f0bf97dbb4e24b7ca24ebe28423057c4"
          }
        },
        "19a05997f27f4b41a1153421c7cd66ac": {
          "model_module": "@jupyter-widgets/controls",
          "model_name": "HTMLModel",
          "model_module_version": "1.5.0",
          "state": {
            "_dom_classes": [],
            "_model_module": "@jupyter-widgets/controls",
            "_model_module_version": "1.5.0",
            "_model_name": "HTMLModel",
            "_view_count": null,
            "_view_module": "@jupyter-widgets/controls",
            "_view_module_version": "1.5.0",
            "_view_name": "HTMLView",
            "description": "",
            "description_tooltip": null,
            "layout": "IPY_MODEL_945d3a2217bd42329540ef235622a64f",
            "placeholder": "​",
            "style": "IPY_MODEL_ce6174505e9c4d92bb64c315fac7875a",
            "value": "Generating splits...: 100%"
          }
        },
        "67865f53c1cf4e40970d0898c9187bdf": {
          "model_module": "@jupyter-widgets/controls",
          "model_name": "FloatProgressModel",
          "model_module_version": "1.5.0",
          "state": {
            "_dom_classes": [],
            "_model_module": "@jupyter-widgets/controls",
            "_model_module_version": "1.5.0",
            "_model_name": "FloatProgressModel",
            "_view_count": null,
            "_view_module": "@jupyter-widgets/controls",
            "_view_module_version": "1.5.0",
            "_view_name": "ProgressView",
            "bar_style": "",
            "description": "",
            "description_tooltip": null,
            "layout": "IPY_MODEL_1075284326ab4b0e8bef29c44ffca743",
            "max": 3,
            "min": 0,
            "orientation": "horizontal",
            "style": "IPY_MODEL_8e53568fd4004007962e2b0684349f90",
            "value": 3
          }
        },
        "b8904c5cc3db4eb28a89137889dbe712": {
          "model_module": "@jupyter-widgets/controls",
          "model_name": "HTMLModel",
          "model_module_version": "1.5.0",
          "state": {
            "_dom_classes": [],
            "_model_module": "@jupyter-widgets/controls",
            "_model_module_version": "1.5.0",
            "_model_name": "HTMLModel",
            "_view_count": null,
            "_view_module": "@jupyter-widgets/controls",
            "_view_module_version": "1.5.0",
            "_view_name": "HTMLView",
            "description": "",
            "description_tooltip": null,
            "layout": "IPY_MODEL_cd1ca95607b64d459146272885563800",
            "placeholder": "​",
            "style": "IPY_MODEL_96584aec41ca47ddb184fbdf63e9afd6",
            "value": " 3/3 [00:44&lt;00:00, 14.51s/ splits]"
          }
        },
        "f0bf97dbb4e24b7ca24ebe28423057c4": {
          "model_module": "@jupyter-widgets/base",
          "model_name": "LayoutModel",
          "model_module_version": "1.2.0",
          "state": {
            "_model_module": "@jupyter-widgets/base",
            "_model_module_version": "1.2.0",
            "_model_name": "LayoutModel",
            "_view_count": null,
            "_view_module": "@jupyter-widgets/base",
            "_view_module_version": "1.2.0",
            "_view_name": "LayoutView",
            "align_content": null,
            "align_items": null,
            "align_self": null,
            "border": null,
            "bottom": null,
            "display": null,
            "flex": null,
            "flex_flow": null,
            "grid_area": null,
            "grid_auto_columns": null,
            "grid_auto_flow": null,
            "grid_auto_rows": null,
            "grid_column": null,
            "grid_gap": null,
            "grid_row": null,
            "grid_template_areas": null,
            "grid_template_columns": null,
            "grid_template_rows": null,
            "height": null,
            "justify_content": null,
            "justify_items": null,
            "left": null,
            "margin": null,
            "max_height": null,
            "max_width": null,
            "min_height": null,
            "min_width": null,
            "object_fit": null,
            "object_position": null,
            "order": null,
            "overflow": null,
            "overflow_x": null,
            "overflow_y": null,
            "padding": null,
            "right": null,
            "top": null,
            "visibility": "hidden",
            "width": null
          }
        },
        "945d3a2217bd42329540ef235622a64f": {
          "model_module": "@jupyter-widgets/base",
          "model_name": "LayoutModel",
          "model_module_version": "1.2.0",
          "state": {
            "_model_module": "@jupyter-widgets/base",
            "_model_module_version": "1.2.0",
            "_model_name": "LayoutModel",
            "_view_count": null,
            "_view_module": "@jupyter-widgets/base",
            "_view_module_version": "1.2.0",
            "_view_name": "LayoutView",
            "align_content": null,
            "align_items": null,
            "align_self": null,
            "border": null,
            "bottom": null,
            "display": null,
            "flex": null,
            "flex_flow": null,
            "grid_area": null,
            "grid_auto_columns": null,
            "grid_auto_flow": null,
            "grid_auto_rows": null,
            "grid_column": null,
            "grid_gap": null,
            "grid_row": null,
            "grid_template_areas": null,
            "grid_template_columns": null,
            "grid_template_rows": null,
            "height": null,
            "justify_content": null,
            "justify_items": null,
            "left": null,
            "margin": null,
            "max_height": null,
            "max_width": null,
            "min_height": null,
            "min_width": null,
            "object_fit": null,
            "object_position": null,
            "order": null,
            "overflow": null,
            "overflow_x": null,
            "overflow_y": null,
            "padding": null,
            "right": null,
            "top": null,
            "visibility": null,
            "width": null
          }
        },
        "ce6174505e9c4d92bb64c315fac7875a": {
          "model_module": "@jupyter-widgets/controls",
          "model_name": "DescriptionStyleModel",
          "model_module_version": "1.5.0",
          "state": {
            "_model_module": "@jupyter-widgets/controls",
            "_model_module_version": "1.5.0",
            "_model_name": "DescriptionStyleModel",
            "_view_count": null,
            "_view_module": "@jupyter-widgets/base",
            "_view_module_version": "1.2.0",
            "_view_name": "StyleView",
            "description_width": ""
          }
        },
        "1075284326ab4b0e8bef29c44ffca743": {
          "model_module": "@jupyter-widgets/base",
          "model_name": "LayoutModel",
          "model_module_version": "1.2.0",
          "state": {
            "_model_module": "@jupyter-widgets/base",
            "_model_module_version": "1.2.0",
            "_model_name": "LayoutModel",
            "_view_count": null,
            "_view_module": "@jupyter-widgets/base",
            "_view_module_version": "1.2.0",
            "_view_name": "LayoutView",
            "align_content": null,
            "align_items": null,
            "align_self": null,
            "border": null,
            "bottom": null,
            "display": null,
            "flex": null,
            "flex_flow": null,
            "grid_area": null,
            "grid_auto_columns": null,
            "grid_auto_flow": null,
            "grid_auto_rows": null,
            "grid_column": null,
            "grid_gap": null,
            "grid_row": null,
            "grid_template_areas": null,
            "grid_template_columns": null,
            "grid_template_rows": null,
            "height": null,
            "justify_content": null,
            "justify_items": null,
            "left": null,
            "margin": null,
            "max_height": null,
            "max_width": null,
            "min_height": null,
            "min_width": null,
            "object_fit": null,
            "object_position": null,
            "order": null,
            "overflow": null,
            "overflow_x": null,
            "overflow_y": null,
            "padding": null,
            "right": null,
            "top": null,
            "visibility": null,
            "width": null
          }
        },
        "8e53568fd4004007962e2b0684349f90": {
          "model_module": "@jupyter-widgets/controls",
          "model_name": "ProgressStyleModel",
          "model_module_version": "1.5.0",
          "state": {
            "_model_module": "@jupyter-widgets/controls",
            "_model_module_version": "1.5.0",
            "_model_name": "ProgressStyleModel",
            "_view_count": null,
            "_view_module": "@jupyter-widgets/base",
            "_view_module_version": "1.2.0",
            "_view_name": "StyleView",
            "bar_color": null,
            "description_width": ""
          }
        },
        "cd1ca95607b64d459146272885563800": {
          "model_module": "@jupyter-widgets/base",
          "model_name": "LayoutModel",
          "model_module_version": "1.2.0",
          "state": {
            "_model_module": "@jupyter-widgets/base",
            "_model_module_version": "1.2.0",
            "_model_name": "LayoutModel",
            "_view_count": null,
            "_view_module": "@jupyter-widgets/base",
            "_view_module_version": "1.2.0",
            "_view_name": "LayoutView",
            "align_content": null,
            "align_items": null,
            "align_self": null,
            "border": null,
            "bottom": null,
            "display": null,
            "flex": null,
            "flex_flow": null,
            "grid_area": null,
            "grid_auto_columns": null,
            "grid_auto_flow": null,
            "grid_auto_rows": null,
            "grid_column": null,
            "grid_gap": null,
            "grid_row": null,
            "grid_template_areas": null,
            "grid_template_columns": null,
            "grid_template_rows": null,
            "height": null,
            "justify_content": null,
            "justify_items": null,
            "left": null,
            "margin": null,
            "max_height": null,
            "max_width": null,
            "min_height": null,
            "min_width": null,
            "object_fit": null,
            "object_position": null,
            "order": null,
            "overflow": null,
            "overflow_x": null,
            "overflow_y": null,
            "padding": null,
            "right": null,
            "top": null,
            "visibility": null,
            "width": null
          }
        },
        "96584aec41ca47ddb184fbdf63e9afd6": {
          "model_module": "@jupyter-widgets/controls",
          "model_name": "DescriptionStyleModel",
          "model_module_version": "1.5.0",
          "state": {
            "_model_module": "@jupyter-widgets/controls",
            "_model_module_version": "1.5.0",
            "_model_name": "DescriptionStyleModel",
            "_view_count": null,
            "_view_module": "@jupyter-widgets/base",
            "_view_module_version": "1.2.0",
            "_view_name": "StyleView",
            "description_width": ""
          }
        },
        "d2f789e517ec49a684d47624b9c16623": {
          "model_module": "@jupyter-widgets/controls",
          "model_name": "HBoxModel",
          "model_module_version": "1.5.0",
          "state": {
            "_dom_classes": [],
            "_model_module": "@jupyter-widgets/controls",
            "_model_module_version": "1.5.0",
            "_model_name": "HBoxModel",
            "_view_count": null,
            "_view_module": "@jupyter-widgets/controls",
            "_view_module_version": "1.5.0",
            "_view_name": "HBoxView",
            "box_style": "",
            "children": [
              "IPY_MODEL_315e283c0d994102ad937aaa6f37f450",
              "IPY_MODEL_b7936e245d7d4f948a1af05cd4b63f75",
              "IPY_MODEL_7b2409855a6c48ef89117cb7421b4b9a"
            ],
            "layout": "IPY_MODEL_3b6a83d899b446bdba760b49974c2570"
          }
        },
        "315e283c0d994102ad937aaa6f37f450": {
          "model_module": "@jupyter-widgets/controls",
          "model_name": "HTMLModel",
          "model_module_version": "1.5.0",
          "state": {
            "_dom_classes": [],
            "_model_module": "@jupyter-widgets/controls",
            "_model_module_version": "1.5.0",
            "_model_name": "HTMLModel",
            "_view_count": null,
            "_view_module": "@jupyter-widgets/controls",
            "_view_module_version": "1.5.0",
            "_view_name": "HTMLView",
            "description": "",
            "description_tooltip": null,
            "layout": "IPY_MODEL_aebf4389022b4ee6823c017a1fe23e2d",
            "placeholder": "​",
            "style": "IPY_MODEL_2c75bad56ace4121bd0d3a1d4f593424",
            "value": "Generating train examples...:  99%"
          }
        },
        "b7936e245d7d4f948a1af05cd4b63f75": {
          "model_module": "@jupyter-widgets/controls",
          "model_name": "FloatProgressModel",
          "model_module_version": "1.5.0",
          "state": {
            "_dom_classes": [],
            "_model_module": "@jupyter-widgets/controls",
            "_model_module_version": "1.5.0",
            "_model_name": "FloatProgressModel",
            "_view_count": null,
            "_view_module": "@jupyter-widgets/controls",
            "_view_module_version": "1.5.0",
            "_view_name": "ProgressView",
            "bar_style": "",
            "description": "",
            "description_tooltip": null,
            "layout": "IPY_MODEL_5a0f139e75854c0c99923dd27160b292",
            "max": 25000,
            "min": 0,
            "orientation": "horizontal",
            "style": "IPY_MODEL_536b16b66df948b1894685a9f2dd68eb",
            "value": 25000
          }
        },
        "7b2409855a6c48ef89117cb7421b4b9a": {
          "model_module": "@jupyter-widgets/controls",
          "model_name": "HTMLModel",
          "model_module_version": "1.5.0",
          "state": {
            "_dom_classes": [],
            "_model_module": "@jupyter-widgets/controls",
            "_model_module_version": "1.5.0",
            "_model_name": "HTMLModel",
            "_view_count": null,
            "_view_module": "@jupyter-widgets/controls",
            "_view_module_version": "1.5.0",
            "_view_name": "HTMLView",
            "description": "",
            "description_tooltip": null,
            "layout": "IPY_MODEL_5fcbf21d24444a2e848140dcf4d7233c",
            "placeholder": "​",
            "style": "IPY_MODEL_b4f0282ed449497f9ba0d722dc1eb73c",
            "value": " 24638/25000 [00:14&lt;00:00, 4687.26 examples/s]"
          }
        },
        "3b6a83d899b446bdba760b49974c2570": {
          "model_module": "@jupyter-widgets/base",
          "model_name": "LayoutModel",
          "model_module_version": "1.2.0",
          "state": {
            "_model_module": "@jupyter-widgets/base",
            "_model_module_version": "1.2.0",
            "_model_name": "LayoutModel",
            "_view_count": null,
            "_view_module": "@jupyter-widgets/base",
            "_view_module_version": "1.2.0",
            "_view_name": "LayoutView",
            "align_content": null,
            "align_items": null,
            "align_self": null,
            "border": null,
            "bottom": null,
            "display": null,
            "flex": null,
            "flex_flow": null,
            "grid_area": null,
            "grid_auto_columns": null,
            "grid_auto_flow": null,
            "grid_auto_rows": null,
            "grid_column": null,
            "grid_gap": null,
            "grid_row": null,
            "grid_template_areas": null,
            "grid_template_columns": null,
            "grid_template_rows": null,
            "height": null,
            "justify_content": null,
            "justify_items": null,
            "left": null,
            "margin": null,
            "max_height": null,
            "max_width": null,
            "min_height": null,
            "min_width": null,
            "object_fit": null,
            "object_position": null,
            "order": null,
            "overflow": null,
            "overflow_x": null,
            "overflow_y": null,
            "padding": null,
            "right": null,
            "top": null,
            "visibility": "hidden",
            "width": null
          }
        },
        "aebf4389022b4ee6823c017a1fe23e2d": {
          "model_module": "@jupyter-widgets/base",
          "model_name": "LayoutModel",
          "model_module_version": "1.2.0",
          "state": {
            "_model_module": "@jupyter-widgets/base",
            "_model_module_version": "1.2.0",
            "_model_name": "LayoutModel",
            "_view_count": null,
            "_view_module": "@jupyter-widgets/base",
            "_view_module_version": "1.2.0",
            "_view_name": "LayoutView",
            "align_content": null,
            "align_items": null,
            "align_self": null,
            "border": null,
            "bottom": null,
            "display": null,
            "flex": null,
            "flex_flow": null,
            "grid_area": null,
            "grid_auto_columns": null,
            "grid_auto_flow": null,
            "grid_auto_rows": null,
            "grid_column": null,
            "grid_gap": null,
            "grid_row": null,
            "grid_template_areas": null,
            "grid_template_columns": null,
            "grid_template_rows": null,
            "height": null,
            "justify_content": null,
            "justify_items": null,
            "left": null,
            "margin": null,
            "max_height": null,
            "max_width": null,
            "min_height": null,
            "min_width": null,
            "object_fit": null,
            "object_position": null,
            "order": null,
            "overflow": null,
            "overflow_x": null,
            "overflow_y": null,
            "padding": null,
            "right": null,
            "top": null,
            "visibility": null,
            "width": null
          }
        },
        "2c75bad56ace4121bd0d3a1d4f593424": {
          "model_module": "@jupyter-widgets/controls",
          "model_name": "DescriptionStyleModel",
          "model_module_version": "1.5.0",
          "state": {
            "_model_module": "@jupyter-widgets/controls",
            "_model_module_version": "1.5.0",
            "_model_name": "DescriptionStyleModel",
            "_view_count": null,
            "_view_module": "@jupyter-widgets/base",
            "_view_module_version": "1.2.0",
            "_view_name": "StyleView",
            "description_width": ""
          }
        },
        "5a0f139e75854c0c99923dd27160b292": {
          "model_module": "@jupyter-widgets/base",
          "model_name": "LayoutModel",
          "model_module_version": "1.2.0",
          "state": {
            "_model_module": "@jupyter-widgets/base",
            "_model_module_version": "1.2.0",
            "_model_name": "LayoutModel",
            "_view_count": null,
            "_view_module": "@jupyter-widgets/base",
            "_view_module_version": "1.2.0",
            "_view_name": "LayoutView",
            "align_content": null,
            "align_items": null,
            "align_self": null,
            "border": null,
            "bottom": null,
            "display": null,
            "flex": null,
            "flex_flow": null,
            "grid_area": null,
            "grid_auto_columns": null,
            "grid_auto_flow": null,
            "grid_auto_rows": null,
            "grid_column": null,
            "grid_gap": null,
            "grid_row": null,
            "grid_template_areas": null,
            "grid_template_columns": null,
            "grid_template_rows": null,
            "height": null,
            "justify_content": null,
            "justify_items": null,
            "left": null,
            "margin": null,
            "max_height": null,
            "max_width": null,
            "min_height": null,
            "min_width": null,
            "object_fit": null,
            "object_position": null,
            "order": null,
            "overflow": null,
            "overflow_x": null,
            "overflow_y": null,
            "padding": null,
            "right": null,
            "top": null,
            "visibility": null,
            "width": null
          }
        },
        "536b16b66df948b1894685a9f2dd68eb": {
          "model_module": "@jupyter-widgets/controls",
          "model_name": "ProgressStyleModel",
          "model_module_version": "1.5.0",
          "state": {
            "_model_module": "@jupyter-widgets/controls",
            "_model_module_version": "1.5.0",
            "_model_name": "ProgressStyleModel",
            "_view_count": null,
            "_view_module": "@jupyter-widgets/base",
            "_view_module_version": "1.2.0",
            "_view_name": "StyleView",
            "bar_color": null,
            "description_width": ""
          }
        },
        "5fcbf21d24444a2e848140dcf4d7233c": {
          "model_module": "@jupyter-widgets/base",
          "model_name": "LayoutModel",
          "model_module_version": "1.2.0",
          "state": {
            "_model_module": "@jupyter-widgets/base",
            "_model_module_version": "1.2.0",
            "_model_name": "LayoutModel",
            "_view_count": null,
            "_view_module": "@jupyter-widgets/base",
            "_view_module_version": "1.2.0",
            "_view_name": "LayoutView",
            "align_content": null,
            "align_items": null,
            "align_self": null,
            "border": null,
            "bottom": null,
            "display": null,
            "flex": null,
            "flex_flow": null,
            "grid_area": null,
            "grid_auto_columns": null,
            "grid_auto_flow": null,
            "grid_auto_rows": null,
            "grid_column": null,
            "grid_gap": null,
            "grid_row": null,
            "grid_template_areas": null,
            "grid_template_columns": null,
            "grid_template_rows": null,
            "height": null,
            "justify_content": null,
            "justify_items": null,
            "left": null,
            "margin": null,
            "max_height": null,
            "max_width": null,
            "min_height": null,
            "min_width": null,
            "object_fit": null,
            "object_position": null,
            "order": null,
            "overflow": null,
            "overflow_x": null,
            "overflow_y": null,
            "padding": null,
            "right": null,
            "top": null,
            "visibility": null,
            "width": null
          }
        },
        "b4f0282ed449497f9ba0d722dc1eb73c": {
          "model_module": "@jupyter-widgets/controls",
          "model_name": "DescriptionStyleModel",
          "model_module_version": "1.5.0",
          "state": {
            "_model_module": "@jupyter-widgets/controls",
            "_model_module_version": "1.5.0",
            "_model_name": "DescriptionStyleModel",
            "_view_count": null,
            "_view_module": "@jupyter-widgets/base",
            "_view_module_version": "1.2.0",
            "_view_name": "StyleView",
            "description_width": ""
          }
        },
        "671993480f194e0983085d309c7bdacc": {
          "model_module": "@jupyter-widgets/controls",
          "model_name": "HBoxModel",
          "model_module_version": "1.5.0",
          "state": {
            "_dom_classes": [],
            "_model_module": "@jupyter-widgets/controls",
            "_model_module_version": "1.5.0",
            "_model_name": "HBoxModel",
            "_view_count": null,
            "_view_module": "@jupyter-widgets/controls",
            "_view_module_version": "1.5.0",
            "_view_name": "HBoxView",
            "box_style": "",
            "children": [
              "IPY_MODEL_528a1a22b75844fd9d6d51f9371a18ff",
              "IPY_MODEL_bfc32cc7c4bb4c5cbce5026d632f677c",
              "IPY_MODEL_a81b4d688fa04b349e6174fccbfddc23"
            ],
            "layout": "IPY_MODEL_bd6dee6206d2429a8e9b56f2c2020e65"
          }
        },
        "528a1a22b75844fd9d6d51f9371a18ff": {
          "model_module": "@jupyter-widgets/controls",
          "model_name": "HTMLModel",
          "model_module_version": "1.5.0",
          "state": {
            "_dom_classes": [],
            "_model_module": "@jupyter-widgets/controls",
            "_model_module_version": "1.5.0",
            "_model_name": "HTMLModel",
            "_view_count": null,
            "_view_module": "@jupyter-widgets/controls",
            "_view_module_version": "1.5.0",
            "_view_name": "HTMLView",
            "description": "",
            "description_tooltip": null,
            "layout": "IPY_MODEL_310563af56584378bb4eef53fe493ea4",
            "placeholder": "​",
            "style": "IPY_MODEL_6a7945475ac64a3b9f8241393173338a",
            "value": "Shuffling ~/tensorflow_datasets/imdb_reviews/plain_text/1.0.0.incompleteZPQ8TA/imdb_reviews-train.tfrecord*...:  31%"
          }
        },
        "bfc32cc7c4bb4c5cbce5026d632f677c": {
          "model_module": "@jupyter-widgets/controls",
          "model_name": "FloatProgressModel",
          "model_module_version": "1.5.0",
          "state": {
            "_dom_classes": [],
            "_model_module": "@jupyter-widgets/controls",
            "_model_module_version": "1.5.0",
            "_model_name": "FloatProgressModel",
            "_view_count": null,
            "_view_module": "@jupyter-widgets/controls",
            "_view_module_version": "1.5.0",
            "_view_name": "ProgressView",
            "bar_style": "",
            "description": "",
            "description_tooltip": null,
            "layout": "IPY_MODEL_5df27d1988884d11b68ed0b959c8ed94",
            "max": 25000,
            "min": 0,
            "orientation": "horizontal",
            "style": "IPY_MODEL_ddeea7b79df1432491bc512871c1357b",
            "value": 25000
          }
        },
        "a81b4d688fa04b349e6174fccbfddc23": {
          "model_module": "@jupyter-widgets/controls",
          "model_name": "HTMLModel",
          "model_module_version": "1.5.0",
          "state": {
            "_dom_classes": [],
            "_model_module": "@jupyter-widgets/controls",
            "_model_module_version": "1.5.0",
            "_model_name": "HTMLModel",
            "_view_count": null,
            "_view_module": "@jupyter-widgets/controls",
            "_view_module_version": "1.5.0",
            "_view_name": "HTMLView",
            "description": "",
            "description_tooltip": null,
            "layout": "IPY_MODEL_fc6d9a44725f4fd69e6a43e9c86dfbb6",
            "placeholder": "​",
            "style": "IPY_MODEL_b7ab7f70620a497094e9f557ae660f17",
            "value": " 7632/25000 [00:00&lt;00:00, 76310.43 examples/s]"
          }
        },
        "bd6dee6206d2429a8e9b56f2c2020e65": {
          "model_module": "@jupyter-widgets/base",
          "model_name": "LayoutModel",
          "model_module_version": "1.2.0",
          "state": {
            "_model_module": "@jupyter-widgets/base",
            "_model_module_version": "1.2.0",
            "_model_name": "LayoutModel",
            "_view_count": null,
            "_view_module": "@jupyter-widgets/base",
            "_view_module_version": "1.2.0",
            "_view_name": "LayoutView",
            "align_content": null,
            "align_items": null,
            "align_self": null,
            "border": null,
            "bottom": null,
            "display": null,
            "flex": null,
            "flex_flow": null,
            "grid_area": null,
            "grid_auto_columns": null,
            "grid_auto_flow": null,
            "grid_auto_rows": null,
            "grid_column": null,
            "grid_gap": null,
            "grid_row": null,
            "grid_template_areas": null,
            "grid_template_columns": null,
            "grid_template_rows": null,
            "height": null,
            "justify_content": null,
            "justify_items": null,
            "left": null,
            "margin": null,
            "max_height": null,
            "max_width": null,
            "min_height": null,
            "min_width": null,
            "object_fit": null,
            "object_position": null,
            "order": null,
            "overflow": null,
            "overflow_x": null,
            "overflow_y": null,
            "padding": null,
            "right": null,
            "top": null,
            "visibility": "hidden",
            "width": null
          }
        },
        "310563af56584378bb4eef53fe493ea4": {
          "model_module": "@jupyter-widgets/base",
          "model_name": "LayoutModel",
          "model_module_version": "1.2.0",
          "state": {
            "_model_module": "@jupyter-widgets/base",
            "_model_module_version": "1.2.0",
            "_model_name": "LayoutModel",
            "_view_count": null,
            "_view_module": "@jupyter-widgets/base",
            "_view_module_version": "1.2.0",
            "_view_name": "LayoutView",
            "align_content": null,
            "align_items": null,
            "align_self": null,
            "border": null,
            "bottom": null,
            "display": null,
            "flex": null,
            "flex_flow": null,
            "grid_area": null,
            "grid_auto_columns": null,
            "grid_auto_flow": null,
            "grid_auto_rows": null,
            "grid_column": null,
            "grid_gap": null,
            "grid_row": null,
            "grid_template_areas": null,
            "grid_template_columns": null,
            "grid_template_rows": null,
            "height": null,
            "justify_content": null,
            "justify_items": null,
            "left": null,
            "margin": null,
            "max_height": null,
            "max_width": null,
            "min_height": null,
            "min_width": null,
            "object_fit": null,
            "object_position": null,
            "order": null,
            "overflow": null,
            "overflow_x": null,
            "overflow_y": null,
            "padding": null,
            "right": null,
            "top": null,
            "visibility": null,
            "width": null
          }
        },
        "6a7945475ac64a3b9f8241393173338a": {
          "model_module": "@jupyter-widgets/controls",
          "model_name": "DescriptionStyleModel",
          "model_module_version": "1.5.0",
          "state": {
            "_model_module": "@jupyter-widgets/controls",
            "_model_module_version": "1.5.0",
            "_model_name": "DescriptionStyleModel",
            "_view_count": null,
            "_view_module": "@jupyter-widgets/base",
            "_view_module_version": "1.2.0",
            "_view_name": "StyleView",
            "description_width": ""
          }
        },
        "5df27d1988884d11b68ed0b959c8ed94": {
          "model_module": "@jupyter-widgets/base",
          "model_name": "LayoutModel",
          "model_module_version": "1.2.0",
          "state": {
            "_model_module": "@jupyter-widgets/base",
            "_model_module_version": "1.2.0",
            "_model_name": "LayoutModel",
            "_view_count": null,
            "_view_module": "@jupyter-widgets/base",
            "_view_module_version": "1.2.0",
            "_view_name": "LayoutView",
            "align_content": null,
            "align_items": null,
            "align_self": null,
            "border": null,
            "bottom": null,
            "display": null,
            "flex": null,
            "flex_flow": null,
            "grid_area": null,
            "grid_auto_columns": null,
            "grid_auto_flow": null,
            "grid_auto_rows": null,
            "grid_column": null,
            "grid_gap": null,
            "grid_row": null,
            "grid_template_areas": null,
            "grid_template_columns": null,
            "grid_template_rows": null,
            "height": null,
            "justify_content": null,
            "justify_items": null,
            "left": null,
            "margin": null,
            "max_height": null,
            "max_width": null,
            "min_height": null,
            "min_width": null,
            "object_fit": null,
            "object_position": null,
            "order": null,
            "overflow": null,
            "overflow_x": null,
            "overflow_y": null,
            "padding": null,
            "right": null,
            "top": null,
            "visibility": null,
            "width": null
          }
        },
        "ddeea7b79df1432491bc512871c1357b": {
          "model_module": "@jupyter-widgets/controls",
          "model_name": "ProgressStyleModel",
          "model_module_version": "1.5.0",
          "state": {
            "_model_module": "@jupyter-widgets/controls",
            "_model_module_version": "1.5.0",
            "_model_name": "ProgressStyleModel",
            "_view_count": null,
            "_view_module": "@jupyter-widgets/base",
            "_view_module_version": "1.2.0",
            "_view_name": "StyleView",
            "bar_color": null,
            "description_width": ""
          }
        },
        "fc6d9a44725f4fd69e6a43e9c86dfbb6": {
          "model_module": "@jupyter-widgets/base",
          "model_name": "LayoutModel",
          "model_module_version": "1.2.0",
          "state": {
            "_model_module": "@jupyter-widgets/base",
            "_model_module_version": "1.2.0",
            "_model_name": "LayoutModel",
            "_view_count": null,
            "_view_module": "@jupyter-widgets/base",
            "_view_module_version": "1.2.0",
            "_view_name": "LayoutView",
            "align_content": null,
            "align_items": null,
            "align_self": null,
            "border": null,
            "bottom": null,
            "display": null,
            "flex": null,
            "flex_flow": null,
            "grid_area": null,
            "grid_auto_columns": null,
            "grid_auto_flow": null,
            "grid_auto_rows": null,
            "grid_column": null,
            "grid_gap": null,
            "grid_row": null,
            "grid_template_areas": null,
            "grid_template_columns": null,
            "grid_template_rows": null,
            "height": null,
            "justify_content": null,
            "justify_items": null,
            "left": null,
            "margin": null,
            "max_height": null,
            "max_width": null,
            "min_height": null,
            "min_width": null,
            "object_fit": null,
            "object_position": null,
            "order": null,
            "overflow": null,
            "overflow_x": null,
            "overflow_y": null,
            "padding": null,
            "right": null,
            "top": null,
            "visibility": null,
            "width": null
          }
        },
        "b7ab7f70620a497094e9f557ae660f17": {
          "model_module": "@jupyter-widgets/controls",
          "model_name": "DescriptionStyleModel",
          "model_module_version": "1.5.0",
          "state": {
            "_model_module": "@jupyter-widgets/controls",
            "_model_module_version": "1.5.0",
            "_model_name": "DescriptionStyleModel",
            "_view_count": null,
            "_view_module": "@jupyter-widgets/base",
            "_view_module_version": "1.2.0",
            "_view_name": "StyleView",
            "description_width": ""
          }
        },
        "d86b6d7eeb344e26b1a89e2a896b8241": {
          "model_module": "@jupyter-widgets/controls",
          "model_name": "HBoxModel",
          "model_module_version": "1.5.0",
          "state": {
            "_dom_classes": [],
            "_model_module": "@jupyter-widgets/controls",
            "_model_module_version": "1.5.0",
            "_model_name": "HBoxModel",
            "_view_count": null,
            "_view_module": "@jupyter-widgets/controls",
            "_view_module_version": "1.5.0",
            "_view_name": "HBoxView",
            "box_style": "",
            "children": [
              "IPY_MODEL_3e0ea7191b474de1b5036416510d4924",
              "IPY_MODEL_769f1cf6b6024ad087a9e59abce92199",
              "IPY_MODEL_c99c4293ae9442e4bf16f83eda446688"
            ],
            "layout": "IPY_MODEL_81fd3fd40dd9474fb7b3f66eb4631286"
          }
        },
        "3e0ea7191b474de1b5036416510d4924": {
          "model_module": "@jupyter-widgets/controls",
          "model_name": "HTMLModel",
          "model_module_version": "1.5.0",
          "state": {
            "_dom_classes": [],
            "_model_module": "@jupyter-widgets/controls",
            "_model_module_version": "1.5.0",
            "_model_name": "HTMLModel",
            "_view_count": null,
            "_view_module": "@jupyter-widgets/controls",
            "_view_module_version": "1.5.0",
            "_view_name": "HTMLView",
            "description": "",
            "description_tooltip": null,
            "layout": "IPY_MODEL_0906b9dcefd9458e8e0566fe2bdbd648",
            "placeholder": "​",
            "style": "IPY_MODEL_6161d0a2e32243b28fbb952f5f039e10",
            "value": "Generating test examples...: 100%"
          }
        },
        "769f1cf6b6024ad087a9e59abce92199": {
          "model_module": "@jupyter-widgets/controls",
          "model_name": "FloatProgressModel",
          "model_module_version": "1.5.0",
          "state": {
            "_dom_classes": [],
            "_model_module": "@jupyter-widgets/controls",
            "_model_module_version": "1.5.0",
            "_model_name": "FloatProgressModel",
            "_view_count": null,
            "_view_module": "@jupyter-widgets/controls",
            "_view_module_version": "1.5.0",
            "_view_name": "ProgressView",
            "bar_style": "",
            "description": "",
            "description_tooltip": null,
            "layout": "IPY_MODEL_42e7ae8ff9dd4d009fdee258334d9ee3",
            "max": 25000,
            "min": 0,
            "orientation": "horizontal",
            "style": "IPY_MODEL_faf7077aaf0b4e768207321088239fc1",
            "value": 25000
          }
        },
        "c99c4293ae9442e4bf16f83eda446688": {
          "model_module": "@jupyter-widgets/controls",
          "model_name": "HTMLModel",
          "model_module_version": "1.5.0",
          "state": {
            "_dom_classes": [],
            "_model_module": "@jupyter-widgets/controls",
            "_model_module_version": "1.5.0",
            "_model_name": "HTMLModel",
            "_view_count": null,
            "_view_module": "@jupyter-widgets/controls",
            "_view_module_version": "1.5.0",
            "_view_name": "HTMLView",
            "description": "",
            "description_tooltip": null,
            "layout": "IPY_MODEL_95aeed377fb04f8a826fe5035f163397",
            "placeholder": "​",
            "style": "IPY_MODEL_81c9e236b1594b83ac773c764ce9e054",
            "value": " 24978/25000 [00:05&lt;00:00, 4836.42 examples/s]"
          }
        },
        "81fd3fd40dd9474fb7b3f66eb4631286": {
          "model_module": "@jupyter-widgets/base",
          "model_name": "LayoutModel",
          "model_module_version": "1.2.0",
          "state": {
            "_model_module": "@jupyter-widgets/base",
            "_model_module_version": "1.2.0",
            "_model_name": "LayoutModel",
            "_view_count": null,
            "_view_module": "@jupyter-widgets/base",
            "_view_module_version": "1.2.0",
            "_view_name": "LayoutView",
            "align_content": null,
            "align_items": null,
            "align_self": null,
            "border": null,
            "bottom": null,
            "display": null,
            "flex": null,
            "flex_flow": null,
            "grid_area": null,
            "grid_auto_columns": null,
            "grid_auto_flow": null,
            "grid_auto_rows": null,
            "grid_column": null,
            "grid_gap": null,
            "grid_row": null,
            "grid_template_areas": null,
            "grid_template_columns": null,
            "grid_template_rows": null,
            "height": null,
            "justify_content": null,
            "justify_items": null,
            "left": null,
            "margin": null,
            "max_height": null,
            "max_width": null,
            "min_height": null,
            "min_width": null,
            "object_fit": null,
            "object_position": null,
            "order": null,
            "overflow": null,
            "overflow_x": null,
            "overflow_y": null,
            "padding": null,
            "right": null,
            "top": null,
            "visibility": "hidden",
            "width": null
          }
        },
        "0906b9dcefd9458e8e0566fe2bdbd648": {
          "model_module": "@jupyter-widgets/base",
          "model_name": "LayoutModel",
          "model_module_version": "1.2.0",
          "state": {
            "_model_module": "@jupyter-widgets/base",
            "_model_module_version": "1.2.0",
            "_model_name": "LayoutModel",
            "_view_count": null,
            "_view_module": "@jupyter-widgets/base",
            "_view_module_version": "1.2.0",
            "_view_name": "LayoutView",
            "align_content": null,
            "align_items": null,
            "align_self": null,
            "border": null,
            "bottom": null,
            "display": null,
            "flex": null,
            "flex_flow": null,
            "grid_area": null,
            "grid_auto_columns": null,
            "grid_auto_flow": null,
            "grid_auto_rows": null,
            "grid_column": null,
            "grid_gap": null,
            "grid_row": null,
            "grid_template_areas": null,
            "grid_template_columns": null,
            "grid_template_rows": null,
            "height": null,
            "justify_content": null,
            "justify_items": null,
            "left": null,
            "margin": null,
            "max_height": null,
            "max_width": null,
            "min_height": null,
            "min_width": null,
            "object_fit": null,
            "object_position": null,
            "order": null,
            "overflow": null,
            "overflow_x": null,
            "overflow_y": null,
            "padding": null,
            "right": null,
            "top": null,
            "visibility": null,
            "width": null
          }
        },
        "6161d0a2e32243b28fbb952f5f039e10": {
          "model_module": "@jupyter-widgets/controls",
          "model_name": "DescriptionStyleModel",
          "model_module_version": "1.5.0",
          "state": {
            "_model_module": "@jupyter-widgets/controls",
            "_model_module_version": "1.5.0",
            "_model_name": "DescriptionStyleModel",
            "_view_count": null,
            "_view_module": "@jupyter-widgets/base",
            "_view_module_version": "1.2.0",
            "_view_name": "StyleView",
            "description_width": ""
          }
        },
        "42e7ae8ff9dd4d009fdee258334d9ee3": {
          "model_module": "@jupyter-widgets/base",
          "model_name": "LayoutModel",
          "model_module_version": "1.2.0",
          "state": {
            "_model_module": "@jupyter-widgets/base",
            "_model_module_version": "1.2.0",
            "_model_name": "LayoutModel",
            "_view_count": null,
            "_view_module": "@jupyter-widgets/base",
            "_view_module_version": "1.2.0",
            "_view_name": "LayoutView",
            "align_content": null,
            "align_items": null,
            "align_self": null,
            "border": null,
            "bottom": null,
            "display": null,
            "flex": null,
            "flex_flow": null,
            "grid_area": null,
            "grid_auto_columns": null,
            "grid_auto_flow": null,
            "grid_auto_rows": null,
            "grid_column": null,
            "grid_gap": null,
            "grid_row": null,
            "grid_template_areas": null,
            "grid_template_columns": null,
            "grid_template_rows": null,
            "height": null,
            "justify_content": null,
            "justify_items": null,
            "left": null,
            "margin": null,
            "max_height": null,
            "max_width": null,
            "min_height": null,
            "min_width": null,
            "object_fit": null,
            "object_position": null,
            "order": null,
            "overflow": null,
            "overflow_x": null,
            "overflow_y": null,
            "padding": null,
            "right": null,
            "top": null,
            "visibility": null,
            "width": null
          }
        },
        "faf7077aaf0b4e768207321088239fc1": {
          "model_module": "@jupyter-widgets/controls",
          "model_name": "ProgressStyleModel",
          "model_module_version": "1.5.0",
          "state": {
            "_model_module": "@jupyter-widgets/controls",
            "_model_module_version": "1.5.0",
            "_model_name": "ProgressStyleModel",
            "_view_count": null,
            "_view_module": "@jupyter-widgets/base",
            "_view_module_version": "1.2.0",
            "_view_name": "StyleView",
            "bar_color": null,
            "description_width": ""
          }
        },
        "95aeed377fb04f8a826fe5035f163397": {
          "model_module": "@jupyter-widgets/base",
          "model_name": "LayoutModel",
          "model_module_version": "1.2.0",
          "state": {
            "_model_module": "@jupyter-widgets/base",
            "_model_module_version": "1.2.0",
            "_model_name": "LayoutModel",
            "_view_count": null,
            "_view_module": "@jupyter-widgets/base",
            "_view_module_version": "1.2.0",
            "_view_name": "LayoutView",
            "align_content": null,
            "align_items": null,
            "align_self": null,
            "border": null,
            "bottom": null,
            "display": null,
            "flex": null,
            "flex_flow": null,
            "grid_area": null,
            "grid_auto_columns": null,
            "grid_auto_flow": null,
            "grid_auto_rows": null,
            "grid_column": null,
            "grid_gap": null,
            "grid_row": null,
            "grid_template_areas": null,
            "grid_template_columns": null,
            "grid_template_rows": null,
            "height": null,
            "justify_content": null,
            "justify_items": null,
            "left": null,
            "margin": null,
            "max_height": null,
            "max_width": null,
            "min_height": null,
            "min_width": null,
            "object_fit": null,
            "object_position": null,
            "order": null,
            "overflow": null,
            "overflow_x": null,
            "overflow_y": null,
            "padding": null,
            "right": null,
            "top": null,
            "visibility": null,
            "width": null
          }
        },
        "81c9e236b1594b83ac773c764ce9e054": {
          "model_module": "@jupyter-widgets/controls",
          "model_name": "DescriptionStyleModel",
          "model_module_version": "1.5.0",
          "state": {
            "_model_module": "@jupyter-widgets/controls",
            "_model_module_version": "1.5.0",
            "_model_name": "DescriptionStyleModel",
            "_view_count": null,
            "_view_module": "@jupyter-widgets/base",
            "_view_module_version": "1.2.0",
            "_view_name": "StyleView",
            "description_width": ""
          }
        },
        "8967c82df3ea4713a6d6a8de7c538221": {
          "model_module": "@jupyter-widgets/controls",
          "model_name": "HBoxModel",
          "model_module_version": "1.5.0",
          "state": {
            "_dom_classes": [],
            "_model_module": "@jupyter-widgets/controls",
            "_model_module_version": "1.5.0",
            "_model_name": "HBoxModel",
            "_view_count": null,
            "_view_module": "@jupyter-widgets/controls",
            "_view_module_version": "1.5.0",
            "_view_name": "HBoxView",
            "box_style": "",
            "children": [
              "IPY_MODEL_737c7509f5174e3880406a31edf76f1c",
              "IPY_MODEL_5e72e9a570fc46609f653b5cce506e40",
              "IPY_MODEL_6ae496900b7e4843afa4ece5d25cc2b6"
            ],
            "layout": "IPY_MODEL_c0fa1693bce54081b632e55ecc6c1954"
          }
        },
        "737c7509f5174e3880406a31edf76f1c": {
          "model_module": "@jupyter-widgets/controls",
          "model_name": "HTMLModel",
          "model_module_version": "1.5.0",
          "state": {
            "_dom_classes": [],
            "_model_module": "@jupyter-widgets/controls",
            "_model_module_version": "1.5.0",
            "_model_name": "HTMLModel",
            "_view_count": null,
            "_view_module": "@jupyter-widgets/controls",
            "_view_module_version": "1.5.0",
            "_view_name": "HTMLView",
            "description": "",
            "description_tooltip": null,
            "layout": "IPY_MODEL_af4c999aae1744b9af6c9433941dba14",
            "placeholder": "​",
            "style": "IPY_MODEL_9b5583c7b44849f9b2605446d5c60e4d",
            "value": "Shuffling ~/tensorflow_datasets/imdb_reviews/plain_text/1.0.0.incompleteZPQ8TA/imdb_reviews-test.tfrecord*...:  35%"
          }
        },
        "5e72e9a570fc46609f653b5cce506e40": {
          "model_module": "@jupyter-widgets/controls",
          "model_name": "FloatProgressModel",
          "model_module_version": "1.5.0",
          "state": {
            "_dom_classes": [],
            "_model_module": "@jupyter-widgets/controls",
            "_model_module_version": "1.5.0",
            "_model_name": "FloatProgressModel",
            "_view_count": null,
            "_view_module": "@jupyter-widgets/controls",
            "_view_module_version": "1.5.0",
            "_view_name": "ProgressView",
            "bar_style": "",
            "description": "",
            "description_tooltip": null,
            "layout": "IPY_MODEL_8f1cc44f32c341c1ac97d21d35b79cac",
            "max": 25000,
            "min": 0,
            "orientation": "horizontal",
            "style": "IPY_MODEL_7bb1fd548bf246baa96e8e409ef66aba",
            "value": 25000
          }
        },
        "6ae496900b7e4843afa4ece5d25cc2b6": {
          "model_module": "@jupyter-widgets/controls",
          "model_name": "HTMLModel",
          "model_module_version": "1.5.0",
          "state": {
            "_dom_classes": [],
            "_model_module": "@jupyter-widgets/controls",
            "_model_module_version": "1.5.0",
            "_model_name": "HTMLModel",
            "_view_count": null,
            "_view_module": "@jupyter-widgets/controls",
            "_view_module_version": "1.5.0",
            "_view_name": "HTMLView",
            "description": "",
            "description_tooltip": null,
            "layout": "IPY_MODEL_17e82e5d064f4087ac27173bc76b2afe",
            "placeholder": "​",
            "style": "IPY_MODEL_29da4223933c4463955cca178c8e248f",
            "value": " 8757/25000 [00:00&lt;00:00, 87559.65 examples/s]"
          }
        },
        "c0fa1693bce54081b632e55ecc6c1954": {
          "model_module": "@jupyter-widgets/base",
          "model_name": "LayoutModel",
          "model_module_version": "1.2.0",
          "state": {
            "_model_module": "@jupyter-widgets/base",
            "_model_module_version": "1.2.0",
            "_model_name": "LayoutModel",
            "_view_count": null,
            "_view_module": "@jupyter-widgets/base",
            "_view_module_version": "1.2.0",
            "_view_name": "LayoutView",
            "align_content": null,
            "align_items": null,
            "align_self": null,
            "border": null,
            "bottom": null,
            "display": null,
            "flex": null,
            "flex_flow": null,
            "grid_area": null,
            "grid_auto_columns": null,
            "grid_auto_flow": null,
            "grid_auto_rows": null,
            "grid_column": null,
            "grid_gap": null,
            "grid_row": null,
            "grid_template_areas": null,
            "grid_template_columns": null,
            "grid_template_rows": null,
            "height": null,
            "justify_content": null,
            "justify_items": null,
            "left": null,
            "margin": null,
            "max_height": null,
            "max_width": null,
            "min_height": null,
            "min_width": null,
            "object_fit": null,
            "object_position": null,
            "order": null,
            "overflow": null,
            "overflow_x": null,
            "overflow_y": null,
            "padding": null,
            "right": null,
            "top": null,
            "visibility": "hidden",
            "width": null
          }
        },
        "af4c999aae1744b9af6c9433941dba14": {
          "model_module": "@jupyter-widgets/base",
          "model_name": "LayoutModel",
          "model_module_version": "1.2.0",
          "state": {
            "_model_module": "@jupyter-widgets/base",
            "_model_module_version": "1.2.0",
            "_model_name": "LayoutModel",
            "_view_count": null,
            "_view_module": "@jupyter-widgets/base",
            "_view_module_version": "1.2.0",
            "_view_name": "LayoutView",
            "align_content": null,
            "align_items": null,
            "align_self": null,
            "border": null,
            "bottom": null,
            "display": null,
            "flex": null,
            "flex_flow": null,
            "grid_area": null,
            "grid_auto_columns": null,
            "grid_auto_flow": null,
            "grid_auto_rows": null,
            "grid_column": null,
            "grid_gap": null,
            "grid_row": null,
            "grid_template_areas": null,
            "grid_template_columns": null,
            "grid_template_rows": null,
            "height": null,
            "justify_content": null,
            "justify_items": null,
            "left": null,
            "margin": null,
            "max_height": null,
            "max_width": null,
            "min_height": null,
            "min_width": null,
            "object_fit": null,
            "object_position": null,
            "order": null,
            "overflow": null,
            "overflow_x": null,
            "overflow_y": null,
            "padding": null,
            "right": null,
            "top": null,
            "visibility": null,
            "width": null
          }
        },
        "9b5583c7b44849f9b2605446d5c60e4d": {
          "model_module": "@jupyter-widgets/controls",
          "model_name": "DescriptionStyleModel",
          "model_module_version": "1.5.0",
          "state": {
            "_model_module": "@jupyter-widgets/controls",
            "_model_module_version": "1.5.0",
            "_model_name": "DescriptionStyleModel",
            "_view_count": null,
            "_view_module": "@jupyter-widgets/base",
            "_view_module_version": "1.2.0",
            "_view_name": "StyleView",
            "description_width": ""
          }
        },
        "8f1cc44f32c341c1ac97d21d35b79cac": {
          "model_module": "@jupyter-widgets/base",
          "model_name": "LayoutModel",
          "model_module_version": "1.2.0",
          "state": {
            "_model_module": "@jupyter-widgets/base",
            "_model_module_version": "1.2.0",
            "_model_name": "LayoutModel",
            "_view_count": null,
            "_view_module": "@jupyter-widgets/base",
            "_view_module_version": "1.2.0",
            "_view_name": "LayoutView",
            "align_content": null,
            "align_items": null,
            "align_self": null,
            "border": null,
            "bottom": null,
            "display": null,
            "flex": null,
            "flex_flow": null,
            "grid_area": null,
            "grid_auto_columns": null,
            "grid_auto_flow": null,
            "grid_auto_rows": null,
            "grid_column": null,
            "grid_gap": null,
            "grid_row": null,
            "grid_template_areas": null,
            "grid_template_columns": null,
            "grid_template_rows": null,
            "height": null,
            "justify_content": null,
            "justify_items": null,
            "left": null,
            "margin": null,
            "max_height": null,
            "max_width": null,
            "min_height": null,
            "min_width": null,
            "object_fit": null,
            "object_position": null,
            "order": null,
            "overflow": null,
            "overflow_x": null,
            "overflow_y": null,
            "padding": null,
            "right": null,
            "top": null,
            "visibility": null,
            "width": null
          }
        },
        "7bb1fd548bf246baa96e8e409ef66aba": {
          "model_module": "@jupyter-widgets/controls",
          "model_name": "ProgressStyleModel",
          "model_module_version": "1.5.0",
          "state": {
            "_model_module": "@jupyter-widgets/controls",
            "_model_module_version": "1.5.0",
            "_model_name": "ProgressStyleModel",
            "_view_count": null,
            "_view_module": "@jupyter-widgets/base",
            "_view_module_version": "1.2.0",
            "_view_name": "StyleView",
            "bar_color": null,
            "description_width": ""
          }
        },
        "17e82e5d064f4087ac27173bc76b2afe": {
          "model_module": "@jupyter-widgets/base",
          "model_name": "LayoutModel",
          "model_module_version": "1.2.0",
          "state": {
            "_model_module": "@jupyter-widgets/base",
            "_model_module_version": "1.2.0",
            "_model_name": "LayoutModel",
            "_view_count": null,
            "_view_module": "@jupyter-widgets/base",
            "_view_module_version": "1.2.0",
            "_view_name": "LayoutView",
            "align_content": null,
            "align_items": null,
            "align_self": null,
            "border": null,
            "bottom": null,
            "display": null,
            "flex": null,
            "flex_flow": null,
            "grid_area": null,
            "grid_auto_columns": null,
            "grid_auto_flow": null,
            "grid_auto_rows": null,
            "grid_column": null,
            "grid_gap": null,
            "grid_row": null,
            "grid_template_areas": null,
            "grid_template_columns": null,
            "grid_template_rows": null,
            "height": null,
            "justify_content": null,
            "justify_items": null,
            "left": null,
            "margin": null,
            "max_height": null,
            "max_width": null,
            "min_height": null,
            "min_width": null,
            "object_fit": null,
            "object_position": null,
            "order": null,
            "overflow": null,
            "overflow_x": null,
            "overflow_y": null,
            "padding": null,
            "right": null,
            "top": null,
            "visibility": null,
            "width": null
          }
        },
        "29da4223933c4463955cca178c8e248f": {
          "model_module": "@jupyter-widgets/controls",
          "model_name": "DescriptionStyleModel",
          "model_module_version": "1.5.0",
          "state": {
            "_model_module": "@jupyter-widgets/controls",
            "_model_module_version": "1.5.0",
            "_model_name": "DescriptionStyleModel",
            "_view_count": null,
            "_view_module": "@jupyter-widgets/base",
            "_view_module_version": "1.2.0",
            "_view_name": "StyleView",
            "description_width": ""
          }
        },
        "9b97726dde3f4755b44c2979c378cb43": {
          "model_module": "@jupyter-widgets/controls",
          "model_name": "HBoxModel",
          "model_module_version": "1.5.0",
          "state": {
            "_dom_classes": [],
            "_model_module": "@jupyter-widgets/controls",
            "_model_module_version": "1.5.0",
            "_model_name": "HBoxModel",
            "_view_count": null,
            "_view_module": "@jupyter-widgets/controls",
            "_view_module_version": "1.5.0",
            "_view_name": "HBoxView",
            "box_style": "",
            "children": [
              "IPY_MODEL_3f5cd395448a48f9872211e209413814",
              "IPY_MODEL_f860e774a26a4ac4951b47c0abd90b16",
              "IPY_MODEL_a2e74c937dc04338821ac6ddc9799f5c"
            ],
            "layout": "IPY_MODEL_235065b7bd4c45e98906167ec8dbb9bc"
          }
        },
        "3f5cd395448a48f9872211e209413814": {
          "model_module": "@jupyter-widgets/controls",
          "model_name": "HTMLModel",
          "model_module_version": "1.5.0",
          "state": {
            "_dom_classes": [],
            "_model_module": "@jupyter-widgets/controls",
            "_model_module_version": "1.5.0",
            "_model_name": "HTMLModel",
            "_view_count": null,
            "_view_module": "@jupyter-widgets/controls",
            "_view_module_version": "1.5.0",
            "_view_name": "HTMLView",
            "description": "",
            "description_tooltip": null,
            "layout": "IPY_MODEL_e3fcc4de472a4b7387058979ba03554f",
            "placeholder": "​",
            "style": "IPY_MODEL_1f8c83a7161941228ff67835d6b7447f",
            "value": "Generating unsupervised examples...: 100%"
          }
        },
        "f860e774a26a4ac4951b47c0abd90b16": {
          "model_module": "@jupyter-widgets/controls",
          "model_name": "FloatProgressModel",
          "model_module_version": "1.5.0",
          "state": {
            "_dom_classes": [],
            "_model_module": "@jupyter-widgets/controls",
            "_model_module_version": "1.5.0",
            "_model_name": "FloatProgressModel",
            "_view_count": null,
            "_view_module": "@jupyter-widgets/controls",
            "_view_module_version": "1.5.0",
            "_view_name": "ProgressView",
            "bar_style": "",
            "description": "",
            "description_tooltip": null,
            "layout": "IPY_MODEL_c1dbea95eeb446b9a8d285b265608e48",
            "max": 50000,
            "min": 0,
            "orientation": "horizontal",
            "style": "IPY_MODEL_9590da919a554ffd9c63550aabfd8fd8",
            "value": 50000
          }
        },
        "a2e74c937dc04338821ac6ddc9799f5c": {
          "model_module": "@jupyter-widgets/controls",
          "model_name": "HTMLModel",
          "model_module_version": "1.5.0",
          "state": {
            "_dom_classes": [],
            "_model_module": "@jupyter-widgets/controls",
            "_model_module_version": "1.5.0",
            "_model_name": "HTMLModel",
            "_view_count": null,
            "_view_module": "@jupyter-widgets/controls",
            "_view_module_version": "1.5.0",
            "_view_name": "HTMLView",
            "description": "",
            "description_tooltip": null,
            "layout": "IPY_MODEL_8df7263bded14155a9fe20874df4ba93",
            "placeholder": "​",
            "style": "IPY_MODEL_3f27b703a66746f58a507a394fa43e3d",
            "value": " 49950/50000 [00:14&lt;00:00, 4798.18 examples/s]"
          }
        },
        "235065b7bd4c45e98906167ec8dbb9bc": {
          "model_module": "@jupyter-widgets/base",
          "model_name": "LayoutModel",
          "model_module_version": "1.2.0",
          "state": {
            "_model_module": "@jupyter-widgets/base",
            "_model_module_version": "1.2.0",
            "_model_name": "LayoutModel",
            "_view_count": null,
            "_view_module": "@jupyter-widgets/base",
            "_view_module_version": "1.2.0",
            "_view_name": "LayoutView",
            "align_content": null,
            "align_items": null,
            "align_self": null,
            "border": null,
            "bottom": null,
            "display": null,
            "flex": null,
            "flex_flow": null,
            "grid_area": null,
            "grid_auto_columns": null,
            "grid_auto_flow": null,
            "grid_auto_rows": null,
            "grid_column": null,
            "grid_gap": null,
            "grid_row": null,
            "grid_template_areas": null,
            "grid_template_columns": null,
            "grid_template_rows": null,
            "height": null,
            "justify_content": null,
            "justify_items": null,
            "left": null,
            "margin": null,
            "max_height": null,
            "max_width": null,
            "min_height": null,
            "min_width": null,
            "object_fit": null,
            "object_position": null,
            "order": null,
            "overflow": null,
            "overflow_x": null,
            "overflow_y": null,
            "padding": null,
            "right": null,
            "top": null,
            "visibility": "hidden",
            "width": null
          }
        },
        "e3fcc4de472a4b7387058979ba03554f": {
          "model_module": "@jupyter-widgets/base",
          "model_name": "LayoutModel",
          "model_module_version": "1.2.0",
          "state": {
            "_model_module": "@jupyter-widgets/base",
            "_model_module_version": "1.2.0",
            "_model_name": "LayoutModel",
            "_view_count": null,
            "_view_module": "@jupyter-widgets/base",
            "_view_module_version": "1.2.0",
            "_view_name": "LayoutView",
            "align_content": null,
            "align_items": null,
            "align_self": null,
            "border": null,
            "bottom": null,
            "display": null,
            "flex": null,
            "flex_flow": null,
            "grid_area": null,
            "grid_auto_columns": null,
            "grid_auto_flow": null,
            "grid_auto_rows": null,
            "grid_column": null,
            "grid_gap": null,
            "grid_row": null,
            "grid_template_areas": null,
            "grid_template_columns": null,
            "grid_template_rows": null,
            "height": null,
            "justify_content": null,
            "justify_items": null,
            "left": null,
            "margin": null,
            "max_height": null,
            "max_width": null,
            "min_height": null,
            "min_width": null,
            "object_fit": null,
            "object_position": null,
            "order": null,
            "overflow": null,
            "overflow_x": null,
            "overflow_y": null,
            "padding": null,
            "right": null,
            "top": null,
            "visibility": null,
            "width": null
          }
        },
        "1f8c83a7161941228ff67835d6b7447f": {
          "model_module": "@jupyter-widgets/controls",
          "model_name": "DescriptionStyleModel",
          "model_module_version": "1.5.0",
          "state": {
            "_model_module": "@jupyter-widgets/controls",
            "_model_module_version": "1.5.0",
            "_model_name": "DescriptionStyleModel",
            "_view_count": null,
            "_view_module": "@jupyter-widgets/base",
            "_view_module_version": "1.2.0",
            "_view_name": "StyleView",
            "description_width": ""
          }
        },
        "c1dbea95eeb446b9a8d285b265608e48": {
          "model_module": "@jupyter-widgets/base",
          "model_name": "LayoutModel",
          "model_module_version": "1.2.0",
          "state": {
            "_model_module": "@jupyter-widgets/base",
            "_model_module_version": "1.2.0",
            "_model_name": "LayoutModel",
            "_view_count": null,
            "_view_module": "@jupyter-widgets/base",
            "_view_module_version": "1.2.0",
            "_view_name": "LayoutView",
            "align_content": null,
            "align_items": null,
            "align_self": null,
            "border": null,
            "bottom": null,
            "display": null,
            "flex": null,
            "flex_flow": null,
            "grid_area": null,
            "grid_auto_columns": null,
            "grid_auto_flow": null,
            "grid_auto_rows": null,
            "grid_column": null,
            "grid_gap": null,
            "grid_row": null,
            "grid_template_areas": null,
            "grid_template_columns": null,
            "grid_template_rows": null,
            "height": null,
            "justify_content": null,
            "justify_items": null,
            "left": null,
            "margin": null,
            "max_height": null,
            "max_width": null,
            "min_height": null,
            "min_width": null,
            "object_fit": null,
            "object_position": null,
            "order": null,
            "overflow": null,
            "overflow_x": null,
            "overflow_y": null,
            "padding": null,
            "right": null,
            "top": null,
            "visibility": null,
            "width": null
          }
        },
        "9590da919a554ffd9c63550aabfd8fd8": {
          "model_module": "@jupyter-widgets/controls",
          "model_name": "ProgressStyleModel",
          "model_module_version": "1.5.0",
          "state": {
            "_model_module": "@jupyter-widgets/controls",
            "_model_module_version": "1.5.0",
            "_model_name": "ProgressStyleModel",
            "_view_count": null,
            "_view_module": "@jupyter-widgets/base",
            "_view_module_version": "1.2.0",
            "_view_name": "StyleView",
            "bar_color": null,
            "description_width": ""
          }
        },
        "8df7263bded14155a9fe20874df4ba93": {
          "model_module": "@jupyter-widgets/base",
          "model_name": "LayoutModel",
          "model_module_version": "1.2.0",
          "state": {
            "_model_module": "@jupyter-widgets/base",
            "_model_module_version": "1.2.0",
            "_model_name": "LayoutModel",
            "_view_count": null,
            "_view_module": "@jupyter-widgets/base",
            "_view_module_version": "1.2.0",
            "_view_name": "LayoutView",
            "align_content": null,
            "align_items": null,
            "align_self": null,
            "border": null,
            "bottom": null,
            "display": null,
            "flex": null,
            "flex_flow": null,
            "grid_area": null,
            "grid_auto_columns": null,
            "grid_auto_flow": null,
            "grid_auto_rows": null,
            "grid_column": null,
            "grid_gap": null,
            "grid_row": null,
            "grid_template_areas": null,
            "grid_template_columns": null,
            "grid_template_rows": null,
            "height": null,
            "justify_content": null,
            "justify_items": null,
            "left": null,
            "margin": null,
            "max_height": null,
            "max_width": null,
            "min_height": null,
            "min_width": null,
            "object_fit": null,
            "object_position": null,
            "order": null,
            "overflow": null,
            "overflow_x": null,
            "overflow_y": null,
            "padding": null,
            "right": null,
            "top": null,
            "visibility": null,
            "width": null
          }
        },
        "3f27b703a66746f58a507a394fa43e3d": {
          "model_module": "@jupyter-widgets/controls",
          "model_name": "DescriptionStyleModel",
          "model_module_version": "1.5.0",
          "state": {
            "_model_module": "@jupyter-widgets/controls",
            "_model_module_version": "1.5.0",
            "_model_name": "DescriptionStyleModel",
            "_view_count": null,
            "_view_module": "@jupyter-widgets/base",
            "_view_module_version": "1.2.0",
            "_view_name": "StyleView",
            "description_width": ""
          }
        },
        "e07e80f5eb4148e58463789d9e6f1304": {
          "model_module": "@jupyter-widgets/controls",
          "model_name": "HBoxModel",
          "model_module_version": "1.5.0",
          "state": {
            "_dom_classes": [],
            "_model_module": "@jupyter-widgets/controls",
            "_model_module_version": "1.5.0",
            "_model_name": "HBoxModel",
            "_view_count": null,
            "_view_module": "@jupyter-widgets/controls",
            "_view_module_version": "1.5.0",
            "_view_name": "HBoxView",
            "box_style": "",
            "children": [
              "IPY_MODEL_4f7597c0efcd4ad3b1dd2d4ca0d1c1dc",
              "IPY_MODEL_29d82c6c276e4335b7a975382600e98a",
              "IPY_MODEL_809af22a9e5945ea88aa2cc34094723c"
            ],
            "layout": "IPY_MODEL_df4b694f5f3045778a7872d8c35cd2f7"
          }
        },
        "4f7597c0efcd4ad3b1dd2d4ca0d1c1dc": {
          "model_module": "@jupyter-widgets/controls",
          "model_name": "HTMLModel",
          "model_module_version": "1.5.0",
          "state": {
            "_dom_classes": [],
            "_model_module": "@jupyter-widgets/controls",
            "_model_module_version": "1.5.0",
            "_model_name": "HTMLModel",
            "_view_count": null,
            "_view_module": "@jupyter-widgets/controls",
            "_view_module_version": "1.5.0",
            "_view_name": "HTMLView",
            "description": "",
            "description_tooltip": null,
            "layout": "IPY_MODEL_ec6f32799b334c05a132950759cbecdc",
            "placeholder": "​",
            "style": "IPY_MODEL_cb238a5b0da7458a82d7d470ae3f58b9",
            "value": "Shuffling ~/tensorflow_datasets/imdb_reviews/plain_text/1.0.0.incompleteZPQ8TA/imdb_reviews-unsupervised.tfrecord*...:  60%"
          }
        },
        "29d82c6c276e4335b7a975382600e98a": {
          "model_module": "@jupyter-widgets/controls",
          "model_name": "FloatProgressModel",
          "model_module_version": "1.5.0",
          "state": {
            "_dom_classes": [],
            "_model_module": "@jupyter-widgets/controls",
            "_model_module_version": "1.5.0",
            "_model_name": "FloatProgressModel",
            "_view_count": null,
            "_view_module": "@jupyter-widgets/controls",
            "_view_module_version": "1.5.0",
            "_view_name": "ProgressView",
            "bar_style": "",
            "description": "",
            "description_tooltip": null,
            "layout": "IPY_MODEL_1488621ed8a040e19941c019ef346701",
            "max": 50000,
            "min": 0,
            "orientation": "horizontal",
            "style": "IPY_MODEL_f2cfa4cabefd4412ac3fab31c337c9e2",
            "value": 50000
          }
        },
        "809af22a9e5945ea88aa2cc34094723c": {
          "model_module": "@jupyter-widgets/controls",
          "model_name": "HTMLModel",
          "model_module_version": "1.5.0",
          "state": {
            "_dom_classes": [],
            "_model_module": "@jupyter-widgets/controls",
            "_model_module_version": "1.5.0",
            "_model_name": "HTMLModel",
            "_view_count": null,
            "_view_module": "@jupyter-widgets/controls",
            "_view_module_version": "1.5.0",
            "_view_name": "HTMLView",
            "description": "",
            "description_tooltip": null,
            "layout": "IPY_MODEL_2cd6314defd34970b76031028b1ee64f",
            "placeholder": "​",
            "style": "IPY_MODEL_e52c79c6e66b4e90bb1f8e07497c0b77",
            "value": " 29772/50000 [00:00&lt;00:00, 170294.99 examples/s]"
          }
        },
        "df4b694f5f3045778a7872d8c35cd2f7": {
          "model_module": "@jupyter-widgets/base",
          "model_name": "LayoutModel",
          "model_module_version": "1.2.0",
          "state": {
            "_model_module": "@jupyter-widgets/base",
            "_model_module_version": "1.2.0",
            "_model_name": "LayoutModel",
            "_view_count": null,
            "_view_module": "@jupyter-widgets/base",
            "_view_module_version": "1.2.0",
            "_view_name": "LayoutView",
            "align_content": null,
            "align_items": null,
            "align_self": null,
            "border": null,
            "bottom": null,
            "display": null,
            "flex": null,
            "flex_flow": null,
            "grid_area": null,
            "grid_auto_columns": null,
            "grid_auto_flow": null,
            "grid_auto_rows": null,
            "grid_column": null,
            "grid_gap": null,
            "grid_row": null,
            "grid_template_areas": null,
            "grid_template_columns": null,
            "grid_template_rows": null,
            "height": null,
            "justify_content": null,
            "justify_items": null,
            "left": null,
            "margin": null,
            "max_height": null,
            "max_width": null,
            "min_height": null,
            "min_width": null,
            "object_fit": null,
            "object_position": null,
            "order": null,
            "overflow": null,
            "overflow_x": null,
            "overflow_y": null,
            "padding": null,
            "right": null,
            "top": null,
            "visibility": "hidden",
            "width": null
          }
        },
        "ec6f32799b334c05a132950759cbecdc": {
          "model_module": "@jupyter-widgets/base",
          "model_name": "LayoutModel",
          "model_module_version": "1.2.0",
          "state": {
            "_model_module": "@jupyter-widgets/base",
            "_model_module_version": "1.2.0",
            "_model_name": "LayoutModel",
            "_view_count": null,
            "_view_module": "@jupyter-widgets/base",
            "_view_module_version": "1.2.0",
            "_view_name": "LayoutView",
            "align_content": null,
            "align_items": null,
            "align_self": null,
            "border": null,
            "bottom": null,
            "display": null,
            "flex": null,
            "flex_flow": null,
            "grid_area": null,
            "grid_auto_columns": null,
            "grid_auto_flow": null,
            "grid_auto_rows": null,
            "grid_column": null,
            "grid_gap": null,
            "grid_row": null,
            "grid_template_areas": null,
            "grid_template_columns": null,
            "grid_template_rows": null,
            "height": null,
            "justify_content": null,
            "justify_items": null,
            "left": null,
            "margin": null,
            "max_height": null,
            "max_width": null,
            "min_height": null,
            "min_width": null,
            "object_fit": null,
            "object_position": null,
            "order": null,
            "overflow": null,
            "overflow_x": null,
            "overflow_y": null,
            "padding": null,
            "right": null,
            "top": null,
            "visibility": null,
            "width": null
          }
        },
        "cb238a5b0da7458a82d7d470ae3f58b9": {
          "model_module": "@jupyter-widgets/controls",
          "model_name": "DescriptionStyleModel",
          "model_module_version": "1.5.0",
          "state": {
            "_model_module": "@jupyter-widgets/controls",
            "_model_module_version": "1.5.0",
            "_model_name": "DescriptionStyleModel",
            "_view_count": null,
            "_view_module": "@jupyter-widgets/base",
            "_view_module_version": "1.2.0",
            "_view_name": "StyleView",
            "description_width": ""
          }
        },
        "1488621ed8a040e19941c019ef346701": {
          "model_module": "@jupyter-widgets/base",
          "model_name": "LayoutModel",
          "model_module_version": "1.2.0",
          "state": {
            "_model_module": "@jupyter-widgets/base",
            "_model_module_version": "1.2.0",
            "_model_name": "LayoutModel",
            "_view_count": null,
            "_view_module": "@jupyter-widgets/base",
            "_view_module_version": "1.2.0",
            "_view_name": "LayoutView",
            "align_content": null,
            "align_items": null,
            "align_self": null,
            "border": null,
            "bottom": null,
            "display": null,
            "flex": null,
            "flex_flow": null,
            "grid_area": null,
            "grid_auto_columns": null,
            "grid_auto_flow": null,
            "grid_auto_rows": null,
            "grid_column": null,
            "grid_gap": null,
            "grid_row": null,
            "grid_template_areas": null,
            "grid_template_columns": null,
            "grid_template_rows": null,
            "height": null,
            "justify_content": null,
            "justify_items": null,
            "left": null,
            "margin": null,
            "max_height": null,
            "max_width": null,
            "min_height": null,
            "min_width": null,
            "object_fit": null,
            "object_position": null,
            "order": null,
            "overflow": null,
            "overflow_x": null,
            "overflow_y": null,
            "padding": null,
            "right": null,
            "top": null,
            "visibility": null,
            "width": null
          }
        },
        "f2cfa4cabefd4412ac3fab31c337c9e2": {
          "model_module": "@jupyter-widgets/controls",
          "model_name": "ProgressStyleModel",
          "model_module_version": "1.5.0",
          "state": {
            "_model_module": "@jupyter-widgets/controls",
            "_model_module_version": "1.5.0",
            "_model_name": "ProgressStyleModel",
            "_view_count": null,
            "_view_module": "@jupyter-widgets/base",
            "_view_module_version": "1.2.0",
            "_view_name": "StyleView",
            "bar_color": null,
            "description_width": ""
          }
        },
        "2cd6314defd34970b76031028b1ee64f": {
          "model_module": "@jupyter-widgets/base",
          "model_name": "LayoutModel",
          "model_module_version": "1.2.0",
          "state": {
            "_model_module": "@jupyter-widgets/base",
            "_model_module_version": "1.2.0",
            "_model_name": "LayoutModel",
            "_view_count": null,
            "_view_module": "@jupyter-widgets/base",
            "_view_module_version": "1.2.0",
            "_view_name": "LayoutView",
            "align_content": null,
            "align_items": null,
            "align_self": null,
            "border": null,
            "bottom": null,
            "display": null,
            "flex": null,
            "flex_flow": null,
            "grid_area": null,
            "grid_auto_columns": null,
            "grid_auto_flow": null,
            "grid_auto_rows": null,
            "grid_column": null,
            "grid_gap": null,
            "grid_row": null,
            "grid_template_areas": null,
            "grid_template_columns": null,
            "grid_template_rows": null,
            "height": null,
            "justify_content": null,
            "justify_items": null,
            "left": null,
            "margin": null,
            "max_height": null,
            "max_width": null,
            "min_height": null,
            "min_width": null,
            "object_fit": null,
            "object_position": null,
            "order": null,
            "overflow": null,
            "overflow_x": null,
            "overflow_y": null,
            "padding": null,
            "right": null,
            "top": null,
            "visibility": null,
            "width": null
          }
        },
        "e52c79c6e66b4e90bb1f8e07497c0b77": {
          "model_module": "@jupyter-widgets/controls",
          "model_name": "DescriptionStyleModel",
          "model_module_version": "1.5.0",
          "state": {
            "_model_module": "@jupyter-widgets/controls",
            "_model_module_version": "1.5.0",
            "_model_name": "DescriptionStyleModel",
            "_view_count": null,
            "_view_module": "@jupyter-widgets/base",
            "_view_module_version": "1.2.0",
            "_view_name": "StyleView",
            "description_width": ""
          }
        }
      }
    }
  },
  "cells": [
    {
      "cell_type": "markdown",
      "metadata": {
        "id": "view-in-github",
        "colab_type": "text"
      },
      "source": [
        "<a href=\"https://colab.research.google.com/github/saks0106/DeepLearning_NLP/blob/main/6_Sentiment_Analysis_with_Transformers.ipynb\" target=\"_parent\"><img src=\"https://colab.research.google.com/assets/colab-badge.svg\" alt=\"Open In Colab\"/></a>"
      ]
    },
    {
      "cell_type": "markdown",
      "source": [
        "https://arxiv.org/pdf/2009.06732.pdf"
      ],
      "metadata": {
        "id": "AS5AGLxM49sU"
      }
    },
    {
      "cell_type": "code",
      "source": [
        "import tensorflow as tf### models\n",
        "import numpy as np### math computations\n",
        "import matplotlib.pyplot as plt### plotting bar chart\n",
        "import sklearn### machine learning library\n",
        "import cv2## image processing\n",
        "from sklearn.metrics import confusion_matrix, roc_curve### metrics\n",
        "import seaborn as sns### visualizations\n",
        "import datetime\n",
        "import pathlib\n",
        "import io\n",
        "import os\n",
        "import re\n",
        "import string\n",
        "import time\n",
        "from numpy import random\n",
        "import gensim.downloader as api\n",
        "from PIL import Image\n",
        "import tensorflow_datasets as tfds\n",
        "import tensorflow_probability as tfp\n",
        "from tensorflow.keras.models import Model\n",
        "from tensorflow.keras.layers import Layer\n",
        "from tensorflow.keras.layers import (Dense,Flatten,SimpleRNN,InputLayer,Conv1D,Bidirectional,GRU,LSTM,BatchNormalization,Dropout,Input,GlobalMaxPooling1D,Embedding,TextVectorization,LayerNormalization,MultiHeadAttention)\n",
        "from tensorflow.keras.losses import BinaryCrossentropy,CategoricalCrossentropy, SparseCategoricalCrossentropy\n",
        "from tensorflow.keras.metrics import Accuracy,TopKCategoricalAccuracy, CategoricalAccuracy, SparseCategoricalAccuracy\n",
        "from tensorflow.keras.optimizers import Adam\n",
        "from google.colab import drive\n",
        "from google.colab import files\n",
        "from tensorboard.plugins import projector"
      ],
      "metadata": {
        "id": "ZslyJl_QV7rt"
      },
      "execution_count": 1,
      "outputs": []
    },
    {
      "cell_type": "code",
      "source": [
        "BATCH_SIZE=64"
      ],
      "metadata": {
        "id": "8phsQmoYUJWK"
      },
      "execution_count": null,
      "outputs": []
    },
    {
      "cell_type": "markdown",
      "source": [
        "# Data Preparation"
      ],
      "metadata": {
        "id": "y3CEdBN2aX9k"
      }
    },
    {
      "cell_type": "code",
      "execution_count": null,
      "metadata": {
        "id": "IuErSCoPS1kN",
        "colab": {
          "base_uri": "https://localhost:8080/",
          "height": 136,
          "referenced_widgets": [
            "6a1789de9ceb4f7d9188577dd0564776",
            "8be5e376302748ef8de86ac9c0d058e2",
            "5f24b328fe1a47b9ac83de6233750e21",
            "e9f239be1efa4891a3caa42c43d40db7",
            "52e3327faaa240caa71ce85d8be9c889",
            "478ccda40dc4405b9c51098cb5f51af5",
            "289e4f45c41c440395423150df22445b",
            "e5c429c5d55543d48e2c098116b54b6d",
            "0ddf1ca9c3764a8c80b2b4df53133926",
            "fa52b34310ff45ea85e3da46ad567ebf",
            "89d3da09a9144ceba1959902761a7fd3",
            "7493d734f30349908d0c9c4fbaad05dd",
            "2acd239a8d3645dfacd4acc75ac84678",
            "1da44976df73425da55ad6d0f9b3ddc7",
            "5a181e97930c4332a55a570de4d5906a",
            "9584273504564185b7c1dcba27190cc0",
            "d44cbc83fa6a480992a402a8f8659292",
            "572b0d4228fa49e0a0dea3dcf614d1af",
            "c8f6c1abc69b4799b6799d95cafeb765",
            "6069d015265849b2958084c278cf182f",
            "8a1c5c79ff8146038d446a8611d48182",
            "bddbb58e8714485f92dc17f44a265878",
            "8e8c5a0c6f8b4de4bc72f7b56be16c38",
            "19a05997f27f4b41a1153421c7cd66ac",
            "67865f53c1cf4e40970d0898c9187bdf",
            "b8904c5cc3db4eb28a89137889dbe712",
            "f0bf97dbb4e24b7ca24ebe28423057c4",
            "945d3a2217bd42329540ef235622a64f",
            "ce6174505e9c4d92bb64c315fac7875a",
            "1075284326ab4b0e8bef29c44ffca743",
            "8e53568fd4004007962e2b0684349f90",
            "cd1ca95607b64d459146272885563800",
            "96584aec41ca47ddb184fbdf63e9afd6",
            "d2f789e517ec49a684d47624b9c16623",
            "315e283c0d994102ad937aaa6f37f450",
            "b7936e245d7d4f948a1af05cd4b63f75",
            "7b2409855a6c48ef89117cb7421b4b9a",
            "3b6a83d899b446bdba760b49974c2570",
            "aebf4389022b4ee6823c017a1fe23e2d",
            "2c75bad56ace4121bd0d3a1d4f593424",
            "5a0f139e75854c0c99923dd27160b292",
            "536b16b66df948b1894685a9f2dd68eb",
            "5fcbf21d24444a2e848140dcf4d7233c",
            "b4f0282ed449497f9ba0d722dc1eb73c",
            "671993480f194e0983085d309c7bdacc",
            "528a1a22b75844fd9d6d51f9371a18ff",
            "bfc32cc7c4bb4c5cbce5026d632f677c",
            "a81b4d688fa04b349e6174fccbfddc23",
            "bd6dee6206d2429a8e9b56f2c2020e65",
            "310563af56584378bb4eef53fe493ea4",
            "6a7945475ac64a3b9f8241393173338a",
            "5df27d1988884d11b68ed0b959c8ed94",
            "ddeea7b79df1432491bc512871c1357b",
            "fc6d9a44725f4fd69e6a43e9c86dfbb6",
            "b7ab7f70620a497094e9f557ae660f17",
            "d86b6d7eeb344e26b1a89e2a896b8241",
            "3e0ea7191b474de1b5036416510d4924",
            "769f1cf6b6024ad087a9e59abce92199",
            "c99c4293ae9442e4bf16f83eda446688",
            "81fd3fd40dd9474fb7b3f66eb4631286",
            "0906b9dcefd9458e8e0566fe2bdbd648",
            "6161d0a2e32243b28fbb952f5f039e10",
            "42e7ae8ff9dd4d009fdee258334d9ee3",
            "faf7077aaf0b4e768207321088239fc1",
            "95aeed377fb04f8a826fe5035f163397",
            "81c9e236b1594b83ac773c764ce9e054",
            "8967c82df3ea4713a6d6a8de7c538221",
            "737c7509f5174e3880406a31edf76f1c",
            "5e72e9a570fc46609f653b5cce506e40",
            "6ae496900b7e4843afa4ece5d25cc2b6",
            "c0fa1693bce54081b632e55ecc6c1954",
            "af4c999aae1744b9af6c9433941dba14",
            "9b5583c7b44849f9b2605446d5c60e4d",
            "8f1cc44f32c341c1ac97d21d35b79cac",
            "7bb1fd548bf246baa96e8e409ef66aba",
            "17e82e5d064f4087ac27173bc76b2afe",
            "29da4223933c4463955cca178c8e248f",
            "9b97726dde3f4755b44c2979c378cb43",
            "3f5cd395448a48f9872211e209413814",
            "f860e774a26a4ac4951b47c0abd90b16",
            "a2e74c937dc04338821ac6ddc9799f5c",
            "235065b7bd4c45e98906167ec8dbb9bc",
            "e3fcc4de472a4b7387058979ba03554f",
            "1f8c83a7161941228ff67835d6b7447f",
            "c1dbea95eeb446b9a8d285b265608e48",
            "9590da919a554ffd9c63550aabfd8fd8",
            "8df7263bded14155a9fe20874df4ba93",
            "3f27b703a66746f58a507a394fa43e3d",
            "e07e80f5eb4148e58463789d9e6f1304",
            "4f7597c0efcd4ad3b1dd2d4ca0d1c1dc",
            "29d82c6c276e4335b7a975382600e98a",
            "809af22a9e5945ea88aa2cc34094723c",
            "df4b694f5f3045778a7872d8c35cd2f7",
            "ec6f32799b334c05a132950759cbecdc",
            "cb238a5b0da7458a82d7d470ae3f58b9",
            "1488621ed8a040e19941c019ef346701",
            "f2cfa4cabefd4412ac3fab31c337c9e2",
            "2cd6314defd34970b76031028b1ee64f",
            "e52c79c6e66b4e90bb1f8e07497c0b77"
          ]
        },
        "outputId": "ed11623f-5c1b-45b4-e52c-2597e8a5752a"
      },
      "outputs": [
        {
          "output_type": "stream",
          "name": "stdout",
          "text": [
            "\u001b[1mDownloading and preparing dataset 80.23 MiB (download: 80.23 MiB, generated: Unknown size, total: 80.23 MiB) to ~/tensorflow_datasets/imdb_reviews/plain_text/1.0.0...\u001b[0m\n"
          ]
        },
        {
          "output_type": "display_data",
          "data": {
            "text/plain": [
              "Dl Completed...: 0 url [00:00, ? url/s]"
            ],
            "application/vnd.jupyter.widget-view+json": {
              "version_major": 2,
              "version_minor": 0,
              "model_id": "6a1789de9ceb4f7d9188577dd0564776"
            }
          },
          "metadata": {}
        },
        {
          "output_type": "display_data",
          "data": {
            "text/plain": [
              "Dl Size...: 0 MiB [00:00, ? MiB/s]"
            ],
            "application/vnd.jupyter.widget-view+json": {
              "version_major": 2,
              "version_minor": 0,
              "model_id": "7493d734f30349908d0c9c4fbaad05dd"
            }
          },
          "metadata": {}
        },
        {
          "output_type": "display_data",
          "data": {
            "text/plain": [
              "Generating splits...:   0%|          | 0/3 [00:00<?, ? splits/s]"
            ],
            "application/vnd.jupyter.widget-view+json": {
              "version_major": 2,
              "version_minor": 0,
              "model_id": "8e8c5a0c6f8b4de4bc72f7b56be16c38"
            }
          },
          "metadata": {}
        },
        {
          "output_type": "display_data",
          "data": {
            "text/plain": [
              "Generating train examples...:   0%|          | 0/25000 [00:00<?, ? examples/s]"
            ],
            "application/vnd.jupyter.widget-view+json": {
              "version_major": 2,
              "version_minor": 0,
              "model_id": "d2f789e517ec49a684d47624b9c16623"
            }
          },
          "metadata": {}
        },
        {
          "output_type": "display_data",
          "data": {
            "text/plain": [
              "Shuffling ~/tensorflow_datasets/imdb_reviews/plain_text/1.0.0.incompleteZPQ8TA/imdb_reviews-train.tfrecord*...…"
            ],
            "application/vnd.jupyter.widget-view+json": {
              "version_major": 2,
              "version_minor": 0,
              "model_id": "671993480f194e0983085d309c7bdacc"
            }
          },
          "metadata": {}
        },
        {
          "output_type": "display_data",
          "data": {
            "text/plain": [
              "Generating test examples...:   0%|          | 0/25000 [00:00<?, ? examples/s]"
            ],
            "application/vnd.jupyter.widget-view+json": {
              "version_major": 2,
              "version_minor": 0,
              "model_id": "d86b6d7eeb344e26b1a89e2a896b8241"
            }
          },
          "metadata": {}
        },
        {
          "output_type": "display_data",
          "data": {
            "text/plain": [
              "Shuffling ~/tensorflow_datasets/imdb_reviews/plain_text/1.0.0.incompleteZPQ8TA/imdb_reviews-test.tfrecord*...:…"
            ],
            "application/vnd.jupyter.widget-view+json": {
              "version_major": 2,
              "version_minor": 0,
              "model_id": "8967c82df3ea4713a6d6a8de7c538221"
            }
          },
          "metadata": {}
        },
        {
          "output_type": "display_data",
          "data": {
            "text/plain": [
              "Generating unsupervised examples...:   0%|          | 0/50000 [00:00<?, ? examples/s]"
            ],
            "application/vnd.jupyter.widget-view+json": {
              "version_major": 2,
              "version_minor": 0,
              "model_id": "9b97726dde3f4755b44c2979c378cb43"
            }
          },
          "metadata": {}
        },
        {
          "output_type": "display_data",
          "data": {
            "text/plain": [
              "Shuffling ~/tensorflow_datasets/imdb_reviews/plain_text/1.0.0.incompleteZPQ8TA/imdb_reviews-unsupervised.tfrec…"
            ],
            "application/vnd.jupyter.widget-view+json": {
              "version_major": 2,
              "version_minor": 0,
              "model_id": "e07e80f5eb4148e58463789d9e6f1304"
            }
          },
          "metadata": {}
        },
        {
          "output_type": "stream",
          "name": "stdout",
          "text": [
            "\u001b[1mDataset imdb_reviews downloaded and prepared to ~/tensorflow_datasets/imdb_reviews/plain_text/1.0.0. Subsequent calls will reuse this data.\u001b[0m\n"
          ]
        }
      ],
      "source": [
        "train_ds,val_ds,test_ds=tfds.load('imdb_reviews', split=['train', 'test[:50%]', 'test[50%:]'],as_supervised=True)"
      ]
    },
    {
      "cell_type": "code",
      "source": [
        "train_ds"
      ],
      "metadata": {
        "id": "Ds46Y1rPp7fD",
        "colab": {
          "base_uri": "https://localhost:8080/"
        },
        "outputId": "932c2d2d-a1e2-46f5-eaa8-ee1841907662"
      },
      "execution_count": null,
      "outputs": [
        {
          "output_type": "execute_result",
          "data": {
            "text/plain": [
              "<PrefetchDataset element_spec=(TensorSpec(shape=(), dtype=tf.string, name=None), TensorSpec(shape=(), dtype=tf.int64, name=None))>"
            ]
          },
          "metadata": {},
          "execution_count": 4
        }
      ]
    },
    {
      "cell_type": "code",
      "source": [
        "for review,label in val_ds.take(2):\n",
        "  print(review)\n",
        "  print(label)"
      ],
      "metadata": {
        "id": "NyBV6yL0p7hy",
        "colab": {
          "base_uri": "https://localhost:8080/"
        },
        "outputId": "cbb176dc-53d6-4875-dce4-26bcae2f74ab"
      },
      "execution_count": null,
      "outputs": [
        {
          "output_type": "stream",
          "name": "stdout",
          "text": [
            "tf.Tensor(b\"There are films that make careers. For George Romero, it was NIGHT OF THE LIVING DEAD; for Kevin Smith, CLERKS; for Robert Rodriguez, EL MARIACHI. Add to that list Onur Tukel's absolutely amazing DING-A-LING-LESS. Flawless film-making, and as assured and as professional as any of the aforementioned movies. I haven't laughed this hard since I saw THE FULL MONTY. (And, even then, I don't think I laughed quite this hard... So to speak.) Tukel's talent is considerable: DING-A-LING-LESS is so chock full of double entendres that one would have to sit down with a copy of this script and do a line-by-line examination of it to fully appreciate the, uh, breadth and width of it. Every shot is beautifully composed (a clear sign of a sure-handed director), and the performances all around are solid (there's none of the over-the-top scenery chewing one might've expected from a film like this). DING-A-LING-LESS is a film whose time has come.\", shape=(), dtype=string)\n",
            "tf.Tensor(1, shape=(), dtype=int64)\n",
            "tf.Tensor(b\"A blackly comic tale of a down-trodden priest, Nazarin showcases the economy that Luis Bunuel was able to achieve in being able to tell a deeply humanist fable with a minimum of fuss. As an output from his Mexican era of film making, it was an invaluable talent to possess, with little money and extremely tight schedules. Nazarin, however, surpasses many of Bunuel's previous Mexican films in terms of the acting (Francisco Rabal is excellent), narrative and theme.<br /><br />The theme, interestingly, is something that was explored again in Viridiana, made three years later in Spain. It concerns the individual's struggle for humanity and altruism amongst a society that rejects any notion of virtue. Father Nazarin, however, is portrayed more sympathetically than Sister Viridiana. Whereas the latter seems to choose charity because she wishes to atone for her (perceived) sins, Nazarin's whole existence and reason for being seems to be to help others, whether they (or we) like it or not. The film's last scenes, in which he casts doubt on his behaviour and, in a split second, has to choose between the life he has been leading or the conventional life that is expected of a priest, are so emotional because they concern his moral integrity and we are never quite sure whether it remains intact or not.<br /><br />This is a remarkable film and I would urge anyone interested in classic cinema to seek it out. It is one of Bunuel's most moving films, and encapsulates many of his obsessions: frustrated desire, mad love, religious hypocrisy etc. In my view 'Nazarin' is second only to 'The Exterminating Angel', in terms of his Mexican movies, and is certainly near the top of the list of Bunuel's total filmic output.\", shape=(), dtype=string)\n",
            "tf.Tensor(1, shape=(), dtype=int64)\n"
          ]
        }
      ]
    },
    {
      "cell_type": "code",
      "source": [
        "def standardization(input_data):\n",
        "    '''\n",
        "    Input: raw reviews\n",
        "    output: standardized reviews\n",
        "    '''\n",
        "    lowercase=tf.strings.lower(input_data)\n",
        "    no_tag=tf.strings.regex_replace(lowercase,\"<[^>]+>\",\"\")\n",
        "    output=tf.strings.regex_replace(no_tag,\"[%s]\"%re.escape(string.punctuation),\"\")\n",
        "\n",
        "    return output"
      ],
      "metadata": {
        "id": "leMqphTKVQ8k"
      },
      "execution_count": null,
      "outputs": []
    },
    {
      "cell_type": "code",
      "source": [
        "standardization(tf.constant(\"<u>In the movie?, </u>man called Tévèz, went to a friend’s pl**ce and they had a tensed discussion. I don’t love this movie! would you?<br> <br /><br />T\"))"
      ],
      "metadata": {
        "id": "4VA77aebGMVQ",
        "colab": {
          "base_uri": "https://localhost:8080/"
        },
        "outputId": "d2e019e9-0d06-42ad-85a5-daf24efc1df2"
      },
      "execution_count": null,
      "outputs": [
        {
          "output_type": "execute_result",
          "data": {
            "text/plain": [
              "<tf.Tensor: shape=(), dtype=string, numpy=b'in the movie man called t\\xc3\\xa9v\\xc3\\xa8z went to a friend\\xe2\\x80\\x99s plce and they had a tensed discussion i don\\xe2\\x80\\x99t love this movie would you t'>"
            ]
          },
          "metadata": {},
          "execution_count": 7
        }
      ]
    },
    {
      "cell_type": "code",
      "source": [
        "VOCAB_SIZE=10000\n",
        "SEQUENCE_LENGTH=250\n",
        "EMBEDDING_DIM=300"
      ],
      "metadata": {
        "id": "i1_nUM7l6gbF"
      },
      "execution_count": null,
      "outputs": []
    },
    {
      "cell_type": "code",
      "source": [
        "vectorize_layer=TextVectorization(\n",
        "    standardize=standardization,\n",
        "    max_tokens=VOCAB_SIZE,\n",
        "    output_mode='int',\n",
        "    output_sequence_length=SEQUENCE_LENGTH\n",
        ")"
      ],
      "metadata": {
        "id": "EgJXEr9H1mRT"
      },
      "execution_count": null,
      "outputs": []
    },
    {
      "cell_type": "code",
      "source": [
        "# lengths=[]\n",
        "# words=[]\n",
        "\n",
        "# for review,label in train_ds.take(100):\n",
        "#   # for word in tf.strings.split(review, sep=\" \"):\n",
        "#   #   if word in words:\n",
        "#   #     pass\n",
        "#   #   else:\n",
        "#   #     words.append(word)\n",
        "#   lengths.append(len(tf.strings.split(review, sep=\" \")))"
      ],
      "metadata": {
        "id": "2QQq7_4H1mT0"
      },
      "execution_count": null,
      "outputs": []
    },
    {
      "cell_type": "code",
      "source": [
        "training_data=train_ds.map(lambda x,y:x)### input x and y and outputx\n",
        "vectorize_layer.adapt(training_data)#### adapt the vectorize_layer to the training data"
      ],
      "metadata": {
        "id": "S_Qhfisb1mft"
      },
      "execution_count": null,
      "outputs": []
    },
    {
      "cell_type": "code",
      "source": [
        "len(vectorize_layer.get_vocabulary())"
      ],
      "metadata": {
        "colab": {
          "base_uri": "https://localhost:8080/"
        },
        "id": "45J7WxmR-02N",
        "outputId": "89a2cec3-d8b1-4fa1-cec8-825958d30bf5"
      },
      "execution_count": null,
      "outputs": [
        {
          "output_type": "execute_result",
          "data": {
            "text/plain": [
              "10000"
            ]
          },
          "metadata": {},
          "execution_count": 12
        }
      ]
    },
    {
      "cell_type": "code",
      "source": [
        "def vectorizer(review,label):\n",
        "    return vectorize_layer(review),label"
      ],
      "metadata": {
        "id": "Df6aXLT--060"
      },
      "execution_count": null,
      "outputs": []
    },
    {
      "cell_type": "code",
      "source": [
        "train_dataset=train_ds.map(vectorizer)\n",
        "val_dataset=val_ds.map(vectorizer)"
      ],
      "metadata": {
        "id": "SRTefXMW-09K"
      },
      "execution_count": null,
      "outputs": []
    },
    {
      "cell_type": "code",
      "source": [
        "vectorize_layer.get_vocabulary()[411]"
      ],
      "metadata": {
        "colab": {
          "base_uri": "https://localhost:8080/",
          "height": 35
        },
        "id": "vY6x9JyfA3_9",
        "outputId": "7d1318b7-936a-4f16-d919-69ea27cd8e5f"
      },
      "execution_count": null,
      "outputs": [
        {
          "output_type": "execute_result",
          "data": {
            "text/plain": [
              "'absolutely'"
            ],
            "application/vnd.google.colaboratory.intrinsic+json": {
              "type": "string"
            }
          },
          "metadata": {},
          "execution_count": 15
        }
      ]
    },
    {
      "cell_type": "code",
      "source": [
        "for review,label in train_dataset.take(1):\n",
        "  print(review)\n",
        "  print(label)"
      ],
      "metadata": {
        "colab": {
          "base_uri": "https://localhost:8080/"
        },
        "id": "-fSurdHy-0_T",
        "outputId": "6177b42c-e63b-424e-a6b9-ea3e6ae63b17"
      },
      "execution_count": null,
      "outputs": [
        {
          "output_type": "stream",
          "name": "stdout",
          "text": [
            "tf.Tensor(\n",
            "[  10   13   33  411  384   17   89   26    1    8   32 1337 3521   40\n",
            "  491    1  192   22   84  149   18   10  215  317   26   64  239  212\n",
            "    8  484   54   64   84  111   95   21 5502   10   91  637  737   10\n",
            "   17    7   33  393 9554  169 2443  406    2   87 1205  135   65  142\n",
            "   52    2    1 7408   65  245   64 2832   16    1 2851    1    1 1415\n",
            " 4969    3   39    1 1567   15 3521   13  156   18    4 1205  881 7874\n",
            "    8    4   17   12   13 4037    5   98  145 1234   11  236  696   12\n",
            "   48   22   91   37   10 7285  149   37 1337    1   49  396   11   95\n",
            " 1148  841  140    9    0    0    0    0    0    0    0    0    0    0\n",
            "    0    0    0    0    0    0    0    0    0    0    0    0    0    0\n",
            "    0    0    0    0    0    0    0    0    0    0    0    0    0    0\n",
            "    0    0    0    0    0    0    0    0    0    0    0    0    0    0\n",
            "    0    0    0    0    0    0    0    0    0    0    0    0    0    0\n",
            "    0    0    0    0    0    0    0    0    0    0    0    0    0    0\n",
            "    0    0    0    0    0    0    0    0    0    0    0    0    0    0\n",
            "    0    0    0    0    0    0    0    0    0    0    0    0    0    0\n",
            "    0    0    0    0    0    0    0    0    0    0    0    0    0    0\n",
            "    0    0    0    0    0    0    0    0    0    0    0    0], shape=(250,), dtype=int64)\n",
            "tf.Tensor(0, shape=(), dtype=int64)\n"
          ]
        }
      ]
    },
    {
      "cell_type": "code",
      "source": [
        "train_dataset=train_dataset.batch(BATCH_SIZE).prefetch(buffer_size=tf.data.AUTOTUNE)\n",
        "val_dataset=val_dataset.batch(BATCH_SIZE).prefetch(buffer_size=tf.data.AUTOTUNE)"
      ],
      "metadata": {
        "id": "pV_8IvUg-1Dq"
      },
      "execution_count": null,
      "outputs": []
    },
    {
      "cell_type": "markdown",
      "source": [
        "# Modeling"
      ],
      "metadata": {
        "id": "PQiSVkoLaaqF"
      }
    },
    {
      "cell_type": "code",
      "source": [
        "#We need only Encoder for Sentiment Analysis, output from Add&Norm in Encoder is flatten --> Dense layer(Sigmoid)"
      ],
      "metadata": {
        "id": "bMnwgBdmszJC"
      },
      "execution_count": null,
      "outputs": []
    },
    {
      "cell_type": "markdown",
      "source": [
        "## Transformers"
      ],
      "metadata": {
        "id": "5UPAk29mitB-"
      }
    },
    {
      "cell_type": "markdown",
      "source": [
        "### Embeddings"
      ],
      "metadata": {
        "id": "2opE0myV_cnv"
      }
    },
    {
      "cell_type": "code",
      "source": [
        "def positional_encoding(model_size,SEQUENCE_LENGTH):\n",
        "  output=[]\n",
        "  for pos in range(SEQUENCE_LENGTH):\n",
        "    PE=np.zeros((model_size))\n",
        "    for i in range(model_size):\n",
        "      if i%2==0:\n",
        "        PE[i]=np.sin(pos/(10000**(i/model_size)))\n",
        "      else:\n",
        "        PE[i]=np.cos(pos/(10000**((i-1)/model_size)))\n",
        "    output.append(tf.expand_dims(PE,axis=0))\n",
        "  out=tf.concat(output,axis=0)\n",
        "  out=tf.expand_dims(out,axis=0)\n",
        "  return tf.cast(out,dtype=tf.float32)"
      ],
      "metadata": {
        "id": "qig1ue8DiugX"
      },
      "execution_count": null,
      "outputs": []
    },
    {
      "cell_type": "code",
      "source": [
        "class Embeddings(Layer):\n",
        "  def __init__(self, sequence_length, vocab_size, embed_dim,):\n",
        "    super(Embeddings, self).__init__()\n",
        "    self.token_embeddings=Embedding(\n",
        "        input_dim=vocab_size, output_dim=embed_dim)\n",
        "    self.sequence_length = sequence_length\n",
        "    self.vocab_size = vocab_size\n",
        "    self.embed_dim = embed_dim\n",
        "\n",
        "  def call(self, inputs):\n",
        "    embedded_tokens = self.token_embeddings(inputs)\n",
        "    embedded_positions=positional_encoding(\n",
        "        self.embed_dim,self.sequence_length)\n",
        "    return embedded_tokens + embedded_positions\n",
        "\n",
        "  def compute_mask(self, inputs, mask=None):\n",
        "    return tf.math.not_equal(inputs, 0)\n",
        "\n",
        "  def get_config(self):\n",
        "      config = super().get_config()\n",
        "      config.update({\n",
        "        \"sequence_length\": self.sequence_length,\n",
        "        \"vocab_size\": self.vocab_size,\n",
        "        \"embed_dim\": self.embed_dim,\n",
        "      })\n",
        "      return config\n"
      ],
      "metadata": {
        "id": "nqt-Qqzci5Qo"
      },
      "execution_count": null,
      "outputs": []
    },
    {
      "cell_type": "code",
      "source": [
        "test_input=tf.constant([[  2, 112,   10,   12,  5,   0,   0,   0,]])\n",
        "\n",
        "emb=Embeddings(8,20000,256)\n",
        "emb_out=emb(test_input)\n",
        "print(emb_out.shape)"
      ],
      "metadata": {
        "colab": {
          "base_uri": "https://localhost:8080/"
        },
        "id": "AhWblTG_i5yx",
        "outputId": "6262cfb8-cca8-4e11-f612-51dcf5e28915"
      },
      "execution_count": null,
      "outputs": [
        {
          "output_type": "stream",
          "name": "stdout",
          "text": [
            "(1, 8, 256)\n"
          ]
        }
      ]
    },
    {
      "cell_type": "code",
      "source": [],
      "metadata": {
        "id": "UQrOhRFd_bIp"
      },
      "execution_count": null,
      "outputs": []
    },
    {
      "cell_type": "code",
      "source": [],
      "metadata": {
        "id": "pa9dHK1l_bR4"
      },
      "execution_count": null,
      "outputs": []
    },
    {
      "cell_type": "markdown",
      "source": [
        "### Encoder"
      ],
      "metadata": {
        "id": "EpDpaJAf_gaR"
      }
    },
    {
      "cell_type": "code",
      "source": [
        "class TransformerEncoder(Layer):\n",
        "    def __init__(self, embed_dim, dense_dim, num_heads,):\n",
        "        super(TransformerEncoder, self).__init__()\n",
        "        self.embed_dim = embed_dim\n",
        "        self.dense_dim = dense_dim\n",
        "        self.num_heads = num_heads\n",
        "        self.attention = MultiHeadAttention(\n",
        "            num_heads=num_heads, key_dim=embed_dim,\n",
        "        )\n",
        "        self.dense_proj=tf.keras.Sequential(\n",
        "            [Dense(dense_dim, activation=\"relu\"),Dense(embed_dim),]\n",
        "        )\n",
        "        self.layernorm_1 = LayerNormalization()\n",
        "        self.layernorm_2 = LayerNormalization()\n",
        "        self.supports_masking = True\n",
        "\n",
        "    def call(self, inputs, mask=None):\n",
        "      if mask is not None:\n",
        "        mask1 = mask[:, :, tf.newaxis]\n",
        "        mask2 = mask[:,tf.newaxis, :]\n",
        "        padding_mask = tf.cast(mask1&mask2, dtype=\"int32\")\n",
        "\n",
        "      attention_output = self.attention(\n",
        "          query=inputs, key=inputs,value=inputs,attention_mask=padding_mask\n",
        "      )\n",
        "\n",
        "      proj_input = self.layernorm_1(inputs + attention_output)\n",
        "      proj_output = self.dense_proj(proj_input)\n",
        "      return self.layernorm_2(proj_input + proj_output)\n",
        "\n",
        "    def get_config(self):  #When we save model weights where model has custom layers, we need to override get_config,\n",
        "      config = super().get_config()\n",
        "      config.update({\n",
        "        \"embed_dim\": self.embed_dim,\n",
        "        \"num_heads\": self.num_heads,\n",
        "        \"dense_dim\": self.dense_dim,\n",
        "      })\n",
        "      return config"
      ],
      "metadata": {
        "id": "nPs81ZFgi51K"
      },
      "execution_count": null,
      "outputs": []
    },
    {
      "cell_type": "code",
      "source": [
        "encoder_outputs = TransformerEncoder(256,2048,2)(emb_out)\n",
        "print(encoder_outputs.shape)\n"
      ],
      "metadata": {
        "colab": {
          "base_uri": "https://localhost:8080/"
        },
        "id": "1hqMJJEri53q",
        "outputId": "227aa408-6cb5-4c7a-f774-bfc7c1350f00"
      },
      "execution_count": null,
      "outputs": [
        {
          "output_type": "stream",
          "name": "stdout",
          "text": [
            "(1, 8, 256)\n"
          ]
        }
      ]
    },
    {
      "cell_type": "markdown",
      "source": [
        "### Transformer Model"
      ],
      "metadata": {
        "id": "cpJeEY16_kmP"
      }
    },
    {
      "cell_type": "code",
      "source": [
        "EMBEDDING_DIM=128\n",
        "D_FF=1024\n",
        "NUM_HEADS=8\n",
        "NUM_LAYERS=1\n",
        "NUM_EPOCHS=20"
      ],
      "metadata": {
        "id": "NXt45DIei57j"
      },
      "execution_count": null,
      "outputs": []
    },
    {
      "cell_type": "code",
      "source": [
        "#We Don't need Decoder model here just the encoder"
      ],
      "metadata": {
        "id": "-MIfo1lYmfdk"
      },
      "execution_count": null,
      "outputs": []
    },
    {
      "cell_type": "code",
      "source": [
        "encoder_input=Input(shape=(None,), dtype=\"int64\", name=\"input\")\n",
        "x = Embeddings(SEQUENCE_LENGTH,VOCAB_SIZE,EMBEDDING_DIM)(encoder_input)\n",
        "\n",
        "for _ in range(NUM_LAYERS):\n",
        "  x=TransformerEncoder(EMBEDDING_DIM,D_FF,NUM_HEADS)(x)\n",
        "\n",
        "x = Flatten()(x)\n",
        "output=Dense(1, activation=\"sigmoid\")(x)\n",
        "\n",
        "transformer = tf.keras.Model(\n",
        "    encoder_input, output, name=\"transformer\"\n",
        ")\n",
        "transformer.summary()"
      ],
      "metadata": {
        "colab": {
          "base_uri": "https://localhost:8080/"
        },
        "id": "l1QlE5KTi59i",
        "outputId": "cb3bd11b-e812-4246-f851-b51c901d5450"
      },
      "execution_count": null,
      "outputs": [
        {
          "output_type": "stream",
          "name": "stdout",
          "text": [
            "Model: \"transformer\"\n",
            "_________________________________________________________________\n",
            " Layer (type)                Output Shape              Param #   \n",
            "=================================================================\n",
            " input (InputLayer)          [(None, None)]            0         \n",
            "                                                                 \n",
            " embeddings_12 (Embeddings)  (None, 250, 128)          1280000   \n",
            "                                                                 \n",
            " transformer_encoder_12 (Tra  (None, 250, 128)         791296    \n",
            " nsformerEncoder)                                                \n",
            "                                                                 \n",
            " flatten_4 (Flatten)         (None, 32000)             0         \n",
            "                                                                 \n",
            " dense_33 (Dense)            (None, 1)                 32001     \n",
            "                                                                 \n",
            "=================================================================\n",
            "Total params: 2,103,297\n",
            "Trainable params: 2,103,297\n",
            "Non-trainable params: 0\n",
            "_________________________________________________________________\n"
          ]
        }
      ]
    },
    {
      "cell_type": "markdown",
      "source": [
        "## Training"
      ],
      "metadata": {
        "id": "dZk99Zr3_pu4"
      }
    },
    {
      "cell_type": "code",
      "source": [
        "checkpoint_filepath = '/content/drive/MyDrive/nlp/sentiment_analysis/transformer.h5'\n",
        "model_checkpoint_callback = tf.keras.callbacks.ModelCheckpoint(\n",
        "    filepath=checkpoint_filepath,\n",
        "    monitor='val_accuracy',\n",
        "    mode='max',\n",
        "    save_best_only=True)"
      ],
      "metadata": {
        "id": "30t3lVwsjE3w"
      },
      "execution_count": null,
      "outputs": []
    },
    {
      "cell_type": "code",
      "source": [
        "transformer.compile(loss=tf.keras.losses.BinaryCrossentropy(),\n",
        "              optimizer=tf.keras.optimizers.Adam(1e-4),\n",
        "              metrics=['accuracy'])"
      ],
      "metadata": {
        "id": "UkS7jN3yjYH4"
      },
      "execution_count": null,
      "outputs": []
    },
    {
      "cell_type": "code",
      "source": [
        "history=transformer.fit(\n",
        "    train_dataset,\n",
        "    validation_data=val_dataset,\n",
        "    epochs=10,\n",
        "    callbacks=[model_checkpoint_callback])"
      ],
      "metadata": {
        "colab": {
          "base_uri": "https://localhost:8080/"
        },
        "id": "QH_RD74TjE6G",
        "outputId": "9d4c531c-3e02-479d-f612-b0ec975c6a4d"
      },
      "execution_count": null,
      "outputs": [
        {
          "output_type": "stream",
          "name": "stdout",
          "text": [
            "Epoch 1/10\n",
            "391/391 [==============================] - 32s 66ms/step - loss: 0.7269 - accuracy: 0.5052 - val_loss: 0.7081 - val_accuracy: 0.4967\n",
            "391/391 [==============================] - 24s 61ms/step - loss: 0.7082 - accuracy: 0.5192 - val_loss: 0.6960 - val_accuracy: 0.4981\n",
            "Epoch 3/10\n",
            "391/391 [==============================] - 24s 61ms/step - loss: 0.6990 - accuracy: 0.5338 - val_loss: 0.6912 - val_accuracy: 0.5258\n",
            "Epoch 4/10\n",
            "391/391 [==============================] - 24s 61ms/step - loss: 0.6845 - accuracy: 0.5573 - val_loss: 0.6951 - val_accuracy: 0.4995\n",
            "Epoch 5/10\n",
            "391/391 [==============================] - 23s 58ms/step - loss: 0.5823 - accuracy: 0.6841 - val_loss: 0.4385 - val_accuracy: 0.7925\n",
            "Epoch 6/10\n",
            "391/391 [==============================] - 22s 57ms/step - loss: 0.3636 - accuracy: 0.8412 - val_loss: 0.4585 - val_accuracy: 0.7892\n",
            "Epoch 7/10\n",
            "391/391 [==============================] - 23s 58ms/step - loss: 0.2997 - accuracy: 0.8735 - val_loss: 0.3417 - val_accuracy: 0.8518\n",
            "Epoch 8/10\n",
            "391/391 [==============================] - 24s 61ms/step - loss: 0.2556 - accuracy: 0.8945 - val_loss: 0.3554 - val_accuracy: 0.8502\n",
            "Epoch 9/10\n",
            "391/391 [==============================] - 24s 61ms/step - loss: 0.2329 - accuracy: 0.9059 - val_loss: 0.3744 - val_accuracy: 0.8433\n",
            "Epoch 10/10\n",
            "391/391 [==============================] - 23s 58ms/step - loss: 0.2116 - accuracy: 0.9144 - val_loss: 0.4173 - val_accuracy: 0.8396\n"
          ]
        }
      ]
    },
    {
      "cell_type": "code",
      "source": [
        "plt.plot(history.history['loss'])\n",
        "plt.plot(history.history['val_loss'])\n",
        "plt.title('model_loss')\n",
        "plt.ylabel('loss')\n",
        "plt.xlabel('epoch')\n",
        "plt.legend(['train', 'val'], loc='upper left')\n",
        "plt.show()"
      ],
      "metadata": {
        "colab": {
          "base_uri": "https://localhost:8080/",
          "height": 295
        },
        "id": "qxPsvkXKjE8U",
        "outputId": "be9dbb64-cb72-40fb-97d6-879f5e5cd153"
      },
      "execution_count": null,
      "outputs": [
        {
          "output_type": "display_data",
          "data": {
            "text/plain": [
              "<Figure size 432x288 with 1 Axes>"
            ],
            "image/png": "[encoded data removed]"
          },
          "metadata": {
            "needs_background": "light"
          }
        }
      ]
    },
    {
      "cell_type": "code",
      "source": [
        "plt.plot(history.history['accuracy'])\n",
        "plt.plot(history.history['val_accuracy'])\n",
        "\n",
        "plt.title('model_accuracy')\n",
        "plt.ylabel('accuracy')\n",
        "plt.xlabel('epoch')\n",
        "plt.legend(['train', 'val'], loc='upper left')\n",
        "plt.show()"
      ],
      "metadata": {
        "colab": {
          "base_uri": "https://localhost:8080/",
          "height": 295
        },
        "id": "cxq950QqjE-g",
        "outputId": "f128bb9a-60b2-440a-c886-f0d05f3554c2"
      },
      "execution_count": null,
      "outputs": [
        {
          "output_type": "display_data",
          "data": {
            "text/plain": [
              "<Figure size 432x288 with 1 Axes>"
            ],
            "image/png": "[encoded data removed]"
          },
          "metadata": {
            "needs_background": "light"
          }
        }
      ]
    },
    {
      "cell_type": "code",
      "source": [],
      "metadata": {
        "id": "W8MCkLkzjFAn"
      },
      "execution_count": null,
      "outputs": []
    },
    {
      "cell_type": "markdown",
      "source": [
        "### Evaluation"
      ],
      "metadata": {
        "id": "UAgNaikHP3A5"
      }
    },
    {
      "cell_type": "code",
      "source": [
        "transformer.load_weights(checkpoint_filepath)"
      ],
      "metadata": {
        "id": "1qkLC__kP3BA"
      },
      "execution_count": null,
      "outputs": []
    },
    {
      "cell_type": "code",
      "source": [
        "test_dataset=test_ds.map(vectorizer)\n",
        "test_dataset=test_dataset.batch(BATCH_SIZE)\n",
        "transformer.evaluate(test_dataset)"
      ],
      "metadata": {
        "id": "3N5zc1wyP3BA",
        "colab": {
          "base_uri": "https://localhost:8080/"
        },
        "outputId": "d7419f8b-7dc6-4adf-8541-709e075221e4"
      },
      "execution_count": null,
      "outputs": [
        {
          "output_type": "stream",
          "name": "stdout",
          "text": [
            "196/196 [==============================] - 5s 23ms/step - loss: 0.3436 - accuracy: 0.8483\n"
          ]
        },
        {
          "output_type": "execute_result",
          "data": {
            "text/plain": [
              "[0.3435855805873871, 0.8483200073242188]"
            ]
          },
          "metadata": {},
          "execution_count": 90
        }
      ]
    },
    {
      "cell_type": "code",
      "source": [],
      "metadata": {
        "id": "obCwC6fGPa04"
      },
      "execution_count": null,
      "outputs": []
    },
    {
      "cell_type": "markdown",
      "source": [
        "# Testing"
      ],
      "metadata": {
        "id": "7jbgoKV070Gr"
      }
    },
    {
      "cell_type": "code",
      "source": [
        "# test_pos=\"this movie looks very interesting, i love the fact that the actors do a great job in showing how people lived in the 18th century, which wasn't very good at all. But atleast this movie recreates this scenes! \"\n",
        "# test_neg=\"very good start, but movie started becoming boring at some point and unfortunately i didn't feel like this was properly produced as there was too much background noise, and the actors didn't look motivated at all \""
      ],
      "metadata": {
        "id": "LPH6sskd71MM"
      },
      "execution_count": null,
      "outputs": []
    },
    {
      "cell_type": "code",
      "source": [
        "test_data=tf.data.Dataset.from_tensor_slices([[\"this movie looks very interesting, i love the fact that the actors do a great job in showing how people lived in the 18th century, which wasn't very good at all. But atleast this movie recreates this scenes! \"],\n",
        "                                              [\"very good start, but movie started becoming uninteresting at some point though initially i thought it would have been much more fun. There was too much background noise, so in all i didn't like this movie \"],])\n"
      ],
      "metadata": {
        "id": "cW7_p_vG71Si"
      },
      "execution_count": null,
      "outputs": []
    },
    {
      "cell_type": "code",
      "source": [
        "def vectorizer_test(review):\n",
        "    return vectorize_layer(review)\n",
        "test_dataset=test_data.map(vectorizer_test)"
      ],
      "metadata": {
        "id": "rypKRKsI71U5"
      },
      "execution_count": null,
      "outputs": []
    },
    {
      "cell_type": "code",
      "source": [
        "transformer.predict(test_dataset)"
      ],
      "metadata": {
        "colab": {
          "base_uri": "https://localhost:8080/"
        },
        "id": "J6x4ihmxvi35",
        "outputId": "49e7f110-5b6c-483e-b60f-b0a345c62881"
      },
      "execution_count": null,
      "outputs": [
        {
          "output_type": "execute_result",
          "data": {
            "text/plain": [
              "array([[0.9175184 ],\n",
              "       [0.38718796]], dtype=float32)"
            ]
          },
          "metadata": {},
          "execution_count": 96
        }
      ]
    },
    {
      "cell_type": "code",
      "source": [],
      "metadata": {
        "id": "TYad8zYNvlYz"
      },
      "execution_count": null,
      "outputs": []
    },
    {
      "cell_type": "markdown",
      "source": [
        "# LSH Attention\n",
        "\n",
        "![image.png](data:image/png;base64,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)\n",
        "\n",
        "1. Our self attention is not efficient when we are trying to work with very long sentence. So we use Locality Sensitive Hashing Attention.\n",
        "\n",
        "2. When our dims is (5x5) --> [3x3]+[3x3] ie taking 3 words together to find patterns. Gain = 25 ie 5x5 subtract 18 = 7. If [2x2]+[2x2]+[2x2] = 12. So 25-12=13\n",
        "\n",
        "3. We do regrouping using Hash fn. Hashing will make similar words close together. We give color to every word. shape is sequence_len,model_size. Our goal is to make every group self attend + attention with one another.  Formula for hash: hash(x) = argmax([xR;-xR]). x is input words, R is rotation matrix to similar words. x shape will be R^(batch,sequence_length,d_model). Rotation_matrix will have shape of (batch,d_model,(no_of_heights,buckets)/2). Regrouping of words is called buckets. xR will be (batch,sequence_length,bucket/2) . [xR;-xR] will be of shape(batch, sequence_length,bucket). argmax([xR;-xR]) will be now selected based on sequence_length in that bucket. Result of argmax([xR;-xR]) will be **R^(batch,sequence_length)**. This will result in words with similar color.\n",
        "\n",
        "4. Similar hash color words are brought together which is called chunking. Attention will be applied to hash words close to each other as well as within each chunk ie white rectangle combo (self attention). Shape will be (batch,2,d_model)*(batch,2,d_model)^T same like Query and Key^T in transformer.\n",
        "\n",
        "5. We remove batch so (2,model_d)*(model_d,2) for 1 chunk. for n chunks same matrix multiplication. So for n chunks, we will get (2,2) matrix\n",
        "\n",
        "6. Focus on  Orange, Blue and white rectangle combo(wrc) of orange.  wrc of orange can attend to next chunk. Query from wrc orange and keys from wrc orange and  orange + blue above to make orange_blue next chunk. This will continue until wrc orange is reached.\n",
        "\n",
        "7. Because of step 6, we gget (2,2) --> (2,4)"
      ],
      "metadata": {
        "id": "VqJBd2d6EsuQ"
      }
    },
    {
      "cell_type": "code",
      "source": [
        "#https://arxiv.org/abs/2009.06732"
      ],
      "metadata": {
        "id": "V3y3omJDwRYP"
      },
      "execution_count": null,
      "outputs": []
    },
    {
      "cell_type": "code",
      "source": [
        "index=       [0, 1, 2, 3, 4, 5, 6]\n",
        "arr =        [2, 0, 1, 5, 4, 1, 9]\n",
        "\n",
        "np.argsort(arr)"
      ],
      "metadata": {
        "colab": {
          "base_uri": "https://localhost:8080/"
        },
        "id": "eoZlLgXJeABW",
        "outputId": "7c34829a-e8a0-45d4-c3db-1bbefc0c3231"
      },
      "execution_count": 12,
      "outputs": [
        {
          "output_type": "execute_result",
          "data": {
            "text/plain": [
              "array([1, 2, 5, 0, 4, 3, 6])"
            ]
          },
          "metadata": {},
          "execution_count": 12
        }
      ]
    },
    {
      "cell_type": "code",
      "source": [
        "\n",
        "class LSHAttention(tf.keras.layers.Layer):\n",
        "    def __init__(self,bucket_size=7,n_hashes=1):\n",
        "        super(LSHAttention,self).__init__()\n",
        "        self.bucket_size=bucket_size\n",
        "        self.n_hashes=n_hashes\n",
        "\n",
        "    def call(self,query,key,value,causal_masking=False): #query=key=value====query\n",
        "        R=tf.random.normal((tf.shape(query)[0],tf.shape(query)[-1],self.bucket_size//2)) #[1,2,2]\n",
        "        #print(R)\n",
        "        xR=tf.matmul(query,R)\n",
        "        #print(xR)\n",
        "        concat_xR=tf.concat([xR,-xR],axis=-1) #2+2 = 4\n",
        "        #print(concat_xR)\n",
        "        buckets=tf.math.argmax(concat_xR,axis=-1)\n",
        "        print(buckets) # [2] as at index of 2, highest value, bucket will group similar words close together\n",
        "        sticker=tf.argsort(buckets) #sorted bucket\n",
        "        #print(sticker)\n",
        "        undo_sort=tf.argsort(sticker) #arsort is index wise sort\n",
        "        #print(undo_sort)\n",
        "\n",
        "\n",
        "lsh_attention = LSHAttention()\n",
        "query = tf.random.uniform([1,16,2])\n",
        "lsh_attention(query,query,query)\n",
        "\n"
      ],
      "metadata": {
        "colab": {
          "base_uri": "https://localhost:8080/"
        },
        "id": "vccN5cOFX-nW",
        "outputId": "dbd782f6-a2c5-4a4e-fb5c-231eb05c8e5d"
      },
      "execution_count": 13,
      "outputs": [
        {
          "output_type": "stream",
          "name": "stdout",
          "text": [
            "tf.Tensor([[4 4 4 0 4 4 4 4 4 4 4 4 4 4 4 4]], shape=(1, 16), dtype=int64)\n",
            "tf.Tensor([[ 3  0  1  2  4  5  6  7  8  9 10 11 12 13 14 15]], shape=(1, 16), dtype=int32)\n",
            "tf.Tensor([[ 1  2  3  0  4  5  6  7  8  9 10 11 12 13 14 15]], shape=(1, 16), dtype=int32)\n"
          ]
        }
      ]
    },
    {
      "cell_type": "code",
      "source": [
        "def look_one_back(x):\n",
        "  x_extra=tf.concat([x[:,-1:,...],x[:,:-1,...]],axis=1)\n",
        "  return tf.concat([x,x_extra],axis=2)\n",
        "\n",
        "def sticker_look_one_back(x):\n",
        "  x_extra=tf.concat([x[:-1:],x[:,:-1]],axis=1)\n",
        "  return tf.concat([x,x_extra],axis=-1)\n",
        "\n",
        "def causal_masker(a,b):\n",
        "  a,b=tf.cast(a,dtype=tf.float32)+0.01,tf.cast(b,dtype=tf.float32)+0.01\n",
        "  vals=tf.einsum('ipj,ipk->ipjk',b,1/a)\n",
        "  out=tf.cast(tf.cast(tf.cast(vals,dtype=tf.int32),dtype=tf.bool),dtype=tf.int32)\n",
        "  out=-out+1\n",
        "  return tf.cast(out,dtype=tf.float32)\n",
        "\n",
        "class LSHAttention(tf.keras.layers.Layer):\n",
        "    def __init__(self,bucket_size=8,n_hashes=1):\n",
        "        super(LSHAttention,self).__init__()\n",
        "        self.n_hashes=n_hashes\n",
        "        self.bucket_size=bucket_size\n",
        "\n",
        "    def call(self,query,key,value,causal_masking=False):\n",
        "        R=tf.random.normal((tf.shape(query)[0],tf.shape(query)[-1],self.bucket_size//2))\n",
        "        xR=tf.matmul(query,R)\n",
        "        concat_xR=tf.concat([xR,-xR],axis=-1)\n",
        "        buckets=tf.math.argmax(concat_xR,axis=-1)\n",
        "\n",
        "        sticker=tf.argsort(buckets) #sorted bucket\n",
        "        undo_sort=tf.argsort(sticker) #sorting to get original sequence\n",
        "        sorted_query=tf.gather(query,sticker,axis=1,batch_dims=1)\n",
        "        sorted_value=tf.gather(value,sticker,axis=1,batch_dims=1)\n",
        "\n",
        "        chunked_query=tf.stack(tf.split(sorted_query,self.bucket_size,1),1)\n",
        "        chunked_value=tf.stack(tf.split(sorted_value,self.bucket_size,1),1)\n",
        "\n",
        "        sticker=tf.stack(tf.split(sticker,self.bucket_size,1),1)\n",
        "        new_sticker=sticker_look_one_back(sticker)\n",
        "\n",
        "        lb_chunked_query=look_one_back(chunked_query)\n",
        "        lb_chunked_value=look_one_back(chunked_value)\n",
        "\n",
        "        score=tf.einsum('bhie,bhje->bhij',chunked_query,lb_chunked_query)\n",
        "        score/=tf.math.sqrt(tf.cast(query.shape[-1],tf.float32))\n",
        "\n",
        "        if causal_masking==True:\n",
        "            causal_mask=causal_masker(sticker,new_sticker)\n",
        "            dots+=causal_mask*-1e-10\n",
        "        score=tf.nn.softmax(score)\n",
        "        output=tf.einsum('buij,buje->buie',score,lb_chunked_value)\n",
        "\n",
        "        sorted_output=tf.reshape(output,(tf.shape(output)[0],tf.shape(query)[i],output.shape[3]))\n",
        "        output=tf.gather(sorted_output,undo_sort,axis=1,batch_dims=1)\n",
        "        return output"
      ],
      "metadata": {
        "id": "0-TxkNDsEuzO"
      },
      "execution_count": null,
      "outputs": []
    }
  ]
}