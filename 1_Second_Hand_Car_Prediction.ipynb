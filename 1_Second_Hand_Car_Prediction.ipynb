{
  "nbformat": 4,
  "nbformat_minor": 0,
  "metadata": {
    "colab": {
      "provenance": [],
      "collapsed_sections": [
        "j6EtG3kpNKiT",
        "CxlimoToLc4C",
        "TSjCxq__LQkw"
      ],
      "include_colab_link": true
    },
    "kernelspec": {
      "name": "python3",
      "display_name": "Python 3"
    },
    "language_info": {
      "name": "python"
    },
    "accelerator": "GPU"
  },
  "cells": [
    {
      "cell_type": "markdown",
      "metadata": {
        "id": "view-in-github",
        "colab_type": "text"
      },
      "source": [
        "<a href=\"https://colab.research.google.com/github/saks0106/DeepLearning_Projects/blob/main/1_Second_Hand_Car_Prediction.ipynb\" target=\"_parent\"><img src=\"https://colab.research.google.com/assets/colab-badge.svg\" alt=\"Open In Colab\"/></a>"
      ]
    },
    {
      "cell_type": "code",
      "metadata": {
        "id": "Q_Wi6cQRp4Rv"
      },
      "source": [
        "import tensorflow as tf### models\n",
        "import pandas as pd ### reading and processing data\n",
        "import seaborn as sns ### visualization\n",
        "import numpy as np### math computations\n",
        "import matplotlib.pyplot as plt### plotting bar chart\n",
        "from tensorflow.keras.layers import Normalization, Dense, InputLayer\n",
        "from tensorflow.keras.losses import MeanSquaredError, Huber, MeanAbsoluteError\n",
        "from tensorflow.keras.metrics import RootMeanSquaredError\n",
        "from tensorflow.keras.optimizers import Adam"
      ],
      "execution_count": 1,
      "outputs": []
    },
    {
      "cell_type": "markdown",
      "metadata": {
        "id": "j6EtG3kpNKiT"
      },
      "source": [
        "## **Data Preparation**"
      ]
    },
    {
      "cell_type": "code",
      "metadata": {
        "id": "_wKxrpeci_gT",
        "colab": {
          "base_uri": "https://localhost:8080/",
          "height": 261
        },
        "outputId": "62344e97-4717-43ca-81d5-d0a6fa577aa2"
      },
      "source": [
        "data = pd.read_csv(\"/content/train_2nd_Hand_cars.csv\", \",\")\n",
        "data.head()"
      ],
      "execution_count": 3,
      "outputs": [
        {
          "output_type": "stream",
          "name": "stderr",
          "text": [
            "<ipython-input-3-313c1887b913>:1: FutureWarning: In a future version of pandas all arguments of read_csv except for the argument 'filepath_or_buffer' will be keyword-only.\n",
            "  data = pd.read_csv(\"/content/train_2nd_Hand_cars.csv\", \",\")\n"
          ]
        },
        {
          "output_type": "execute_result",
          "data": {
            "text/plain": [
              "   v.id  on road old  on road now  years      km  rating  condition  economy  \\\n",
              "0     1       535651       798186      3   78945       1          2       14   \n",
              "1     2       591911       861056      6  117220       5          9        9   \n",
              "2     3       686990       770762      2  132538       2          8       15   \n",
              "3     4       573999       722381      4  101065       4          3       11   \n",
              "4     5       691388       811335      6   61559       3          9       12   \n",
              "\n",
              "   top speed  hp  torque  current price  \n",
              "0        177  73     123       351318.0  \n",
              "1        148  74      95       285001.5  \n",
              "2        181  53      97       215386.0  \n",
              "3        197  54     116       244295.5  \n",
              "4        160  53     105       531114.5  "
            ],
            "text/html": [
              "\n",
              "  <div id=\"df-8899d571-9055-4ffa-bf58-638890f32fe7\">\n",
              "    <div class=\"colab-df-container\">\n",
              "      <div>\n",
              "<style scoped>\n",
              "    .dataframe tbody tr th:only-of-type {\n",
              "        vertical-align: middle;\n",
              "    }\n",
              "\n",
              "    .dataframe tbody tr th {\n",
              "        vertical-align: top;\n",
              "    }\n",
              "\n",
              "    .dataframe thead th {\n",
              "        text-align: right;\n",
              "    }\n",
              "</style>\n",
              "<table border=\"1\" class=\"dataframe\">\n",
              "  <thead>\n",
              "    <tr style=\"text-align: right;\">\n",
              "      <th></th>\n",
              "      <th>v.id</th>\n",
              "      <th>on road old</th>\n",
              "      <th>on road now</th>\n",
              "      <th>years</th>\n",
              "      <th>km</th>\n",
              "      <th>rating</th>\n",
              "      <th>condition</th>\n",
              "      <th>economy</th>\n",
              "      <th>top speed</th>\n",
              "      <th>hp</th>\n",
              "      <th>torque</th>\n",
              "      <th>current price</th>\n",
              "    </tr>\n",
              "  </thead>\n",
              "  <tbody>\n",
              "    <tr>\n",
              "      <th>0</th>\n",
              "      <td>1</td>\n",
              "      <td>535651</td>\n",
              "      <td>798186</td>\n",
              "      <td>3</td>\n",
              "      <td>78945</td>\n",
              "      <td>1</td>\n",
              "      <td>2</td>\n",
              "      <td>14</td>\n",
              "      <td>177</td>\n",
              "      <td>73</td>\n",
              "      <td>123</td>\n",
              "      <td>351318.0</td>\n",
              "    </tr>\n",
              "    <tr>\n",
              "      <th>1</th>\n",
              "      <td>2</td>\n",
              "      <td>591911</td>\n",
              "      <td>861056</td>\n",
              "      <td>6</td>\n",
              "      <td>117220</td>\n",
              "      <td>5</td>\n",
              "      <td>9</td>\n",
              "      <td>9</td>\n",
              "      <td>148</td>\n",
              "      <td>74</td>\n",
              "      <td>95</td>\n",
              "      <td>285001.5</td>\n",
              "    </tr>\n",
              "    <tr>\n",
              "      <th>2</th>\n",
              "      <td>3</td>\n",
              "      <td>686990</td>\n",
              "      <td>770762</td>\n",
              "      <td>2</td>\n",
              "      <td>132538</td>\n",
              "      <td>2</td>\n",
              "      <td>8</td>\n",
              "      <td>15</td>\n",
              "      <td>181</td>\n",
              "      <td>53</td>\n",
              "      <td>97</td>\n",
              "      <td>215386.0</td>\n",
              "    </tr>\n",
              "    <tr>\n",
              "      <th>3</th>\n",
              "      <td>4</td>\n",
              "      <td>573999</td>\n",
              "      <td>722381</td>\n",
              "      <td>4</td>\n",
              "      <td>101065</td>\n",
              "      <td>4</td>\n",
              "      <td>3</td>\n",
              "      <td>11</td>\n",
              "      <td>197</td>\n",
              "      <td>54</td>\n",
              "      <td>116</td>\n",
              "      <td>244295.5</td>\n",
              "    </tr>\n",
              "    <tr>\n",
              "      <th>4</th>\n",
              "      <td>5</td>\n",
              "      <td>691388</td>\n",
              "      <td>811335</td>\n",
              "      <td>6</td>\n",
              "      <td>61559</td>\n",
              "      <td>3</td>\n",
              "      <td>9</td>\n",
              "      <td>12</td>\n",
              "      <td>160</td>\n",
              "      <td>53</td>\n",
              "      <td>105</td>\n",
              "      <td>531114.5</td>\n",
              "    </tr>\n",
              "  </tbody>\n",
              "</table>\n",
              "</div>\n",
              "      <button class=\"colab-df-convert\" onclick=\"convertToInteractive('df-8899d571-9055-4ffa-bf58-638890f32fe7')\"\n",
              "              title=\"Convert this dataframe to an interactive table.\"\n",
              "              style=\"display:none;\">\n",
              "        \n",
              "  <svg xmlns=\"http://www.w3.org/2000/svg\" height=\"24px\"viewBox=\"0 0 24 24\"\n",
              "       width=\"24px\">\n",
              "    <path d=\"M0 0h24v24H0V0z\" fill=\"none\"/>\n",
              "    <path d=\"M18.56 5.44l.94 2.06.94-2.06 2.06-.94-2.06-.94-.94-2.06-.94 2.06-2.06.94zm-11 1L8.5 8.5l.94-2.06 2.06-.94-2.06-.94L8.5 2.5l-.94 2.06-2.06.94zm10 10l.94 2.06.94-2.06 2.06-.94-2.06-.94-.94-2.06-.94 2.06-2.06.94z\"/><path d=\"M17.41 7.96l-1.37-1.37c-.4-.4-.92-.59-1.43-.59-.52 0-1.04.2-1.43.59L10.3 9.45l-7.72 7.72c-.78.78-.78 2.05 0 2.83L4 21.41c.39.39.9.59 1.41.59.51 0 1.02-.2 1.41-.59l7.78-7.78 2.81-2.81c.8-.78.8-2.07 0-2.86zM5.41 20L4 18.59l7.72-7.72 1.47 1.35L5.41 20z\"/>\n",
              "  </svg>\n",
              "      </button>\n",
              "      \n",
              "  <style>\n",
              "    .colab-df-container {\n",
              "      display:flex;\n",
              "      flex-wrap:wrap;\n",
              "      gap: 12px;\n",
              "    }\n",
              "\n",
              "    .colab-df-convert {\n",
              "      background-color: #E8F0FE;\n",
              "      border: none;\n",
              "      border-radius: 50%;\n",
              "      cursor: pointer;\n",
              "      display: none;\n",
              "      fill: #1967D2;\n",
              "      height: 32px;\n",
              "      padding: 0 0 0 0;\n",
              "      width: 32px;\n",
              "    }\n",
              "\n",
              "    .colab-df-convert:hover {\n",
              "      background-color: #E2EBFA;\n",
              "      box-shadow: 0px 1px 2px rgba(60, 64, 67, 0.3), 0px 1px 3px 1px rgba(60, 64, 67, 0.15);\n",
              "      fill: #174EA6;\n",
              "    }\n",
              "\n",
              "    [theme=dark] .colab-df-convert {\n",
              "      background-color: #3B4455;\n",
              "      fill: #D2E3FC;\n",
              "    }\n",
              "\n",
              "    [theme=dark] .colab-df-convert:hover {\n",
              "      background-color: #434B5C;\n",
              "      box-shadow: 0px 1px 3px 1px rgba(0, 0, 0, 0.15);\n",
              "      filter: drop-shadow(0px 1px 2px rgba(0, 0, 0, 0.3));\n",
              "      fill: #FFFFFF;\n",
              "    }\n",
              "  </style>\n",
              "\n",
              "      <script>\n",
              "        const buttonEl =\n",
              "          document.querySelector('#df-8899d571-9055-4ffa-bf58-638890f32fe7 button.colab-df-convert');\n",
              "        buttonEl.style.display =\n",
              "          google.colab.kernel.accessAllowed ? 'block' : 'none';\n",
              "\n",
              "        async function convertToInteractive(key) {\n",
              "          const element = document.querySelector('#df-8899d571-9055-4ffa-bf58-638890f32fe7');\n",
              "          const dataTable =\n",
              "            await google.colab.kernel.invokeFunction('convertToInteractive',\n",
              "                                                     [key], {});\n",
              "          if (!dataTable) return;\n",
              "\n",
              "          const docLinkHtml = 'Like what you see? Visit the ' +\n",
              "            '<a target=\"_blank\" href=https://colab.research.google.com/notebooks/data_table.ipynb>data table notebook</a>'\n",
              "            + ' to learn more about interactive tables.';\n",
              "          element.innerHTML = '';\n",
              "          dataTable['output_type'] = 'display_data';\n",
              "          await google.colab.output.renderOutput(dataTable, element);\n",
              "          const docLink = document.createElement('div');\n",
              "          docLink.innerHTML = docLinkHtml;\n",
              "          element.appendChild(docLink);\n",
              "        }\n",
              "      </script>\n",
              "    </div>\n",
              "  </div>\n",
              "  "
            ]
          },
          "metadata": {},
          "execution_count": 3
        }
      ]
    },
    {
      "cell_type": "code",
      "metadata": {
        "id": "txHuR6vUXK7-",
        "colab": {
          "base_uri": "https://localhost:8080/"
        },
        "outputId": "a3218509-4ab5-482e-fc91-de66b376432c"
      },
      "source": [
        "data.shape"
      ],
      "execution_count": 4,
      "outputs": [
        {
          "output_type": "execute_result",
          "data": {
            "text/plain": [
              "(1000, 12)"
            ]
          },
          "metadata": {},
          "execution_count": 4
        }
      ]
    },
    {
      "cell_type": "code",
      "metadata": {
        "id": "Ssm3ewabXLFx"
      },
      "source": [
        "sns.pairplot(data[['years', 'km', 'rating', 'condition', 'economy', 'top speed', 'hp', 'torque', 'current price']], diag_kind='kde')"
      ],
      "execution_count": null,
      "outputs": []
    },
    {
      "cell_type": "code",
      "metadata": {
        "id": "kbKG64L3XLIh",
        "colab": {
          "base_uri": "https://localhost:8080/"
        },
        "outputId": "f123d5f9-1049-4c1b-c2ba-946ac6027a1d"
      },
      "source": [
        "tensor_data = tf.constant(data)\n",
        "tensor_data = tf.cast(tensor_data, tf.float32)\n",
        "print(tensor_data)"
      ],
      "execution_count": 6,
      "outputs": [
        {
          "output_type": "stream",
          "name": "stdout",
          "text": [
            "tf.Tensor(\n",
            "[[1.000000e+00 5.356510e+05 7.981860e+05 ... 7.300000e+01 1.230000e+02\n",
            "  3.513180e+05]\n",
            " [2.000000e+00 5.919110e+05 8.610560e+05 ... 7.400000e+01 9.500000e+01\n",
            "  2.850015e+05]\n",
            " [3.000000e+00 6.869900e+05 7.707620e+05 ... 5.300000e+01 9.700000e+01\n",
            "  2.153860e+05]\n",
            " ...\n",
            " [9.980000e+02 6.463440e+05 8.427330e+05 ... 1.130000e+02 8.900000e+01\n",
            "  4.058710e+05]\n",
            " [9.990000e+02 5.355590e+05 7.324390e+05 ... 1.120000e+02 1.280000e+02\n",
            "  7.439800e+04]\n",
            " [1.000000e+03 5.901050e+05 7.797430e+05 ... 9.900000e+01 9.600000e+01\n",
            "  4.149385e+05]], shape=(1000, 12), dtype=float32)\n"
          ]
        }
      ]
    },
    {
      "cell_type": "code",
      "source": [
        "tensor_data[0]"
      ],
      "metadata": {
        "colab": {
          "base_uri": "https://localhost:8080/"
        },
        "id": "tzN4qDq_pGVq",
        "outputId": "686731ef-f816-4866-bd7b-6cba7332761c"
      },
      "execution_count": 7,
      "outputs": [
        {
          "output_type": "execute_result",
          "data": {
            "text/plain": [
              "<tf.Tensor: shape=(12,), dtype=float32, numpy=\n",
              "array([1.00000e+00, 5.35651e+05, 7.98186e+05, 3.00000e+00, 7.89450e+04,\n",
              "       1.00000e+00, 2.00000e+00, 1.40000e+01, 1.77000e+02, 7.30000e+01,\n",
              "       1.23000e+02, 3.51318e+05], dtype=float32)>"
            ]
          },
          "metadata": {},
          "execution_count": 7
        }
      ]
    },
    {
      "cell_type": "code",
      "metadata": {
        "id": "7xxpRZBmXLLM"
      },
      "source": [
        "tensor_data = tf.random.shuffle(tensor_data)\n",
        "print(tensor_data[:5])"
      ],
      "execution_count": null,
      "outputs": []
    },
    {
      "cell_type": "code",
      "metadata": {
        "id": "Q5kVK2udXLOE",
        "colab": {
          "base_uri": "https://localhost:8080/"
        },
        "outputId": "65699535-9ff2-4a43-c30c-874180851fe9"
      },
      "source": [
        "X = tensor_data[:,3:-1]\n",
        "print(X[:5])"
      ],
      "execution_count": 9,
      "outputs": [
        {
          "output_type": "stream",
          "name": "stdout",
          "text": [
            "tf.Tensor(\n",
            "[[6.00000e+00 8.72610e+04 2.00000e+00 9.00000e+00 1.40000e+01 1.45000e+02\n",
            "  7.90000e+01 7.90000e+01]\n",
            " [3.00000e+00 1.14559e+05 1.00000e+00 4.00000e+00 9.00000e+00 1.80000e+02\n",
            "  7.60000e+01 7.10000e+01]\n",
            " [3.00000e+00 6.03670e+04 3.00000e+00 9.00000e+00 1.20000e+01 1.78000e+02\n",
            "  5.00000e+01 9.70000e+01]\n",
            " [6.00000e+00 1.48374e+05 2.00000e+00 7.00000e+00 1.30000e+01 1.37000e+02\n",
            "  6.50000e+01 9.00000e+01]\n",
            " [6.00000e+00 1.42975e+05 4.00000e+00 4.00000e+00 1.50000e+01 1.64000e+02\n",
            "  5.50000e+01 1.14000e+02]], shape=(5, 8), dtype=float32)\n"
          ]
        }
      ]
    },
    {
      "cell_type": "code",
      "source": [
        "X.shape"
      ],
      "metadata": {
        "colab": {
          "base_uri": "https://localhost:8080/"
        },
        "id": "ZSmTL-EFvL76",
        "outputId": "8ad88b6b-8829-48a7-f537-b3ab6906927c"
      },
      "execution_count": 11,
      "outputs": [
        {
          "output_type": "execute_result",
          "data": {
            "text/plain": [
              "TensorShape([1000, 8])"
            ]
          },
          "metadata": {},
          "execution_count": 11
        }
      ]
    },
    {
      "cell_type": "code",
      "metadata": {
        "id": "KOy9jxS-XLQu",
        "colab": {
          "base_uri": "https://localhost:8080/"
        },
        "outputId": "08f6d8f5-4948-4627-8972-884e01e365de"
      },
      "source": [
        "y = tensor_data[:,-1]\n",
        "print(y[:5].shape)\n",
        "y = tf.expand_dims(y, axis = -1)\n",
        "print(y[:5])"
      ],
      "execution_count": 10,
      "outputs": [
        {
          "output_type": "stream",
          "name": "stdout",
          "text": [
            "(5,)\n",
            "tf.Tensor(\n",
            "[[398998. ]\n",
            " [237730. ]\n",
            " [538075.5]\n",
            " [ 61928.5]\n",
            " [150234.5]], shape=(5, 1), dtype=float32)\n"
          ]
        }
      ]
    },
    {
      "cell_type": "code",
      "source": [
        "a = tf.constant([[1,2,3,4,5],[1,2,3,4,5]])\n",
        "norm1 = Normalization(axis=0,mean=10,variance=4) #axis is for x_hat\n",
        "norm2 = Normalization(axis=1,mean=10,variance=4)\n",
        "norm3 = Normalization(axis=-1,mean=10,variance=4)\n",
        "norm4 = Normalization()\n",
        "print(norm1(a))\n",
        "print(norm2(a))\n",
        "print(norm3(a))\n",
        "print(norm4(a))\n"
      ],
      "metadata": {
        "colab": {
          "base_uri": "https://localhost:8080/"
        },
        "id": "6bW4OAp4wLyx",
        "outputId": "e5212652-cacf-4715-ce8f-af45f3d5ce4d"
      },
      "execution_count": 22,
      "outputs": [
        {
          "output_type": "stream",
          "name": "stdout",
          "text": [
            "tf.Tensor(\n",
            "[[-4.5 -4.  -3.5 -3.  -2.5]\n",
            " [-4.5 -4.  -3.5 -3.  -2.5]], shape=(2, 5), dtype=float32)\n",
            "tf.Tensor(\n",
            "[[-4.5 -4.  -3.5 -3.  -2.5]\n",
            " [-4.5 -4.  -3.5 -3.  -2.5]], shape=(2, 5), dtype=float32)\n",
            "tf.Tensor(\n",
            "[[-4.5 -4.  -3.5 -3.  -2.5]\n",
            " [-4.5 -4.  -3.5 -3.  -2.5]], shape=(2, 5), dtype=float32)\n",
            "tf.Tensor(\n",
            "[[1. 2. 3. 4. 5.]\n",
            " [1. 2. 3. 4. 5.]], shape=(2, 5), dtype=float32)\n"
          ]
        }
      ]
    },
    {
      "cell_type": "code",
      "metadata": {
        "id": "1tGN1KNQXLTl",
        "colab": {
          "base_uri": "https://localhost:8080/"
        },
        "outputId": "897bbae5-ee67-4b72-8f57-48aa35181938"
      },
      "source": [
        "normalizer = Normalization(axis = -1, mean = 5, variance = 4)#axis=-1 is default\n",
        "x_normalized = tf.constant([[3,4,5,6,7],\n",
        "                            [4,5,6,7,8]])\n",
        "normalizer(x_normalized)"
      ],
      "execution_count": 23,
      "outputs": [
        {
          "output_type": "execute_result",
          "data": {
            "text/plain": [
              "<tf.Tensor: shape=(2, 5), dtype=float32, numpy=\n",
              "array([[-1. , -0.5,  0. ,  0.5,  1. ],\n",
              "       [-0.5,  0. ,  0.5,  1. ,  1.5]], dtype=float32)>"
            ]
          },
          "metadata": {},
          "execution_count": 23
        }
      ]
    },
    {
      "cell_type": "code",
      "metadata": {
        "id": "ybWIORDvXLWq",
        "colab": {
          "base_uri": "https://localhost:8080/"
        },
        "outputId": "84fb26f2-2c1a-4f9c-cc31-f9cb510f5279"
      },
      "source": [
        "normalizer = Normalization()\n",
        "x_normalized = tf.constant([[3,4,5,6,7],\n",
        "                            [4,10,6,7,8],\n",
        "                            [32,1,56,3,5]])\n",
        "normalizer.adapt(x_normalized)\n",
        "normalizer(x_normalized)"
      ],
      "execution_count": null,
      "outputs": [
        {
          "output_type": "execute_result",
          "data": {
            "text/plain": [
              "<tf.Tensor: shape=(3, 5), dtype=float32, numpy=\n",
              "array([[-0.7439795 , -0.26726124, -0.72800297,  0.3922322 ,  0.2672614 ],\n",
              "       [-0.6695816 ,  1.3363062 , -0.6860028 ,  0.9805806 ,  1.0690452 ],\n",
              "       [ 1.4135611 , -1.069045  ,  1.4140056 , -1.3728131 , -1.3363061 ]],\n",
              "      dtype=float32)>"
            ]
          },
          "metadata": {},
          "execution_count": 12
        }
      ]
    },
    {
      "cell_type": "code",
      "metadata": {
        "id": "0JiTE-U_XLZK",
        "colab": {
          "base_uri": "https://localhost:8080/"
        },
        "outputId": "e59fc7b1-3c25-41fe-d903-039dc1f92bfd"
      },
      "source": [
        "print(X.shape)"
      ],
      "execution_count": null,
      "outputs": [
        {
          "output_type": "stream",
          "name": "stdout",
          "text": [
            "(1000, 8)\n"
          ]
        }
      ]
    },
    {
      "cell_type": "code",
      "metadata": {
        "id": "NjehtcxAW6av"
      },
      "source": [
        "TRAIN_RATIO = 0.8\n",
        "VAL_RATIO = 0.1\n",
        "TEST_RATIO = 0.1\n",
        "DATASET_SIZE = len(X)"
      ],
      "execution_count": null,
      "outputs": []
    },
    {
      "cell_type": "code",
      "metadata": {
        "colab": {
          "base_uri": "https://localhost:8080/"
        },
        "id": "27pin8soXEue",
        "outputId": "3e2fc8f4-4d68-49e0-fbe9-daa41dae7b5d"
      },
      "source": [
        "X_train = X[:int(DATASET_SIZE*TRAIN_RATIO)]\n",
        "y_train = y[:int(DATASET_SIZE*TRAIN_RATIO)]\n",
        "print(X_train.shape)\n",
        "print(y_train.shape)"
      ],
      "execution_count": null,
      "outputs": [
        {
          "output_type": "stream",
          "name": "stdout",
          "text": [
            "(800, 8)\n",
            "(800, 1)\n"
          ]
        }
      ]
    },
    {
      "cell_type": "code",
      "metadata": {
        "id": "-9wd1j166mMG"
      },
      "source": [
        "train_dataset = tf.data.Dataset.from_tensor_slices((X_train, y_train))\n",
        "train_dataset = train_dataset.shuffle(buffer_size = 8, reshuffle_each_iteration = True).batch(32).prefetch(tf.data.AUTOTUNE)"
      ],
      "execution_count": null,
      "outputs": []
    },
    {
      "cell_type": "code",
      "metadata": {
        "id": "woglsImt-fu1"
      },
      "source": [
        "for x,y in train_dataset:\n",
        "  print(x,y)\n",
        "  break"
      ],
      "execution_count": null,
      "outputs": []
    },
    {
      "cell_type": "code",
      "metadata": {
        "colab": {
          "base_uri": "https://localhost:8080/"
        },
        "id": "NCRgNb3dXge1",
        "outputId": "32d14640-95c0-4b45-b3e7-3f4c28e3121c"
      },
      "source": [
        "X_val = X[int(DATASET_SIZE*TRAIN_RATIO):int(DATASET_SIZE*(TRAIN_RATIO+VAL_RATIO))]\n",
        "y_val = y[int(DATASET_SIZE*TRAIN_RATIO):int(DATASET_SIZE*(TRAIN_RATIO+VAL_RATIO))]\n",
        "print(X_val.shape)\n",
        "print(y_val.shape)"
      ],
      "execution_count": null,
      "outputs": [
        {
          "output_type": "stream",
          "name": "stdout",
          "text": [
            "(100, 8)\n",
            "(100, 1)\n"
          ]
        }
      ]
    },
    {
      "cell_type": "code",
      "metadata": {
        "id": "aBwRpaG0-urM"
      },
      "source": [
        "val_dataset = tf.data.Dataset.from_tensor_slices((X_val, y_val))\n",
        "val_dataset = train_dataset.shuffle(buffer_size = 8, reshuffle_each_iteration = True).batch(32).prefetch(tf.data.AUTOTUNE)"
      ],
      "execution_count": null,
      "outputs": []
    },
    {
      "cell_type": "code",
      "metadata": {
        "colab": {
          "base_uri": "https://localhost:8080/"
        },
        "id": "A3ba-zUTX2Xv",
        "outputId": "4ee76225-a123-4186-9263-15272bf35a94"
      },
      "source": [
        "X_test = X[int(DATASET_SIZE*(TRAIN_RATIO+VAL_RATIO)):]\n",
        "y_test = y[int(DATASET_SIZE*(TRAIN_RATIO+VAL_RATIO)):]\n",
        "print(X_test.shape)\n",
        "print(y_test.shape)"
      ],
      "execution_count": null,
      "outputs": [
        {
          "output_type": "stream",
          "name": "stdout",
          "text": [
            "(100, 8)\n",
            "(100, 1)\n"
          ]
        }
      ]
    },
    {
      "cell_type": "code",
      "metadata": {
        "id": "bd4gJi1n-1mW"
      },
      "source": [
        "test_dataset = tf.data.Dataset.from_tensor_slices((X_test, y_test))\n",
        "test_dataset = train_dataset.shuffle(buffer_size = 8, reshuffle_each_iteration = True).batch(32).prefetch(tf.data.AUTOTUNE)"
      ],
      "execution_count": null,
      "outputs": []
    },
    {
      "cell_type": "code",
      "metadata": {
        "id": "c1k0dBjFXLcC",
        "colab": {
          "base_uri": "https://localhost:8080/"
        },
        "outputId": "c2f0a40b-defd-486e-caf4-9c5b7e7ea338"
      },
      "source": [
        "normalizer = Normalization()\n",
        "normalizer.adapt(X_train)\n",
        "normalizer(X)[:5]"
      ],
      "execution_count": null,
      "outputs": [
        {
          "output_type": "execute_result",
          "data": {
            "text/plain": [
              "<tf.Tensor: shape=(5, 8), dtype=float32, numpy=\n",
              "array([[-0.31518766,  1.0132637 , -0.71715826, -0.91459674,  0.6136699 ,\n",
              "        -1.301998  , -0.35419205,  0.3123971 ],\n",
              "       [ 0.8309489 ,  0.15622592, -0.71715826,  1.1808989 ,  1.058761  ,\n",
              "         0.5187977 ,  0.5274618 , -0.30444944],\n",
              "       [ 0.8309489 , -0.09717798, -0.0044545 , -1.6130953 , -0.27651256,\n",
              "        -1.0939071 ,  1.751981  ,  0.02769868],\n",
              "       [-0.31518766, -1.6258478 , -0.71715826,  0.13315108,  1.5038522 ,\n",
              "        -0.2095206 ,  0.18459642,  0.97669333],\n",
              "       [-0.88825595,  1.0575535 , -1.429862  , -1.6130953 ,  0.16857865,\n",
              "        -0.41761154,  0.42950028, -1.3483436 ]], dtype=float32)>"
            ]
          },
          "metadata": {},
          "execution_count": 18
        }
      ]
    },
    {
      "cell_type": "code",
      "metadata": {
        "id": "ib01hpAGXB9O"
      },
      "source": [],
      "execution_count": null,
      "outputs": []
    },
    {
      "cell_type": "code",
      "metadata": {
        "id": "eQdxWFy6XLej",
        "colab": {
          "base_uri": "https://localhost:8080/"
        },
        "outputId": "a94472ee-80d0-4aaa-bfab-0305304ffeb9"
      },
      "source": [
        "print(X[:5])"
      ],
      "execution_count": null,
      "outputs": [
        {
          "output_type": "stream",
          "name": "stdout",
          "text": [
            "tf.Tensor(\n",
            "[[4.00000e+00 1.29251e+05 2.00000e+00 3.00000e+00 1.30000e+01 1.42000e+02\n",
            "  7.70000e+01 1.10000e+02]\n",
            " [6.00000e+00 1.04308e+05 2.00000e+00 9.00000e+00 1.40000e+01 1.77000e+02\n",
            "  9.50000e+01 9.70000e+01]\n",
            " [6.00000e+00 9.69330e+04 3.00000e+00 1.00000e+00 1.10000e+01 1.46000e+02\n",
            "  1.20000e+02 1.04000e+02]\n",
            " [4.00000e+00 5.24430e+04 2.00000e+00 6.00000e+00 1.50000e+01 1.63000e+02\n",
            "  8.80000e+01 1.24000e+02]\n",
            " [3.00000e+00 1.30540e+05 1.00000e+00 1.00000e+00 1.20000e+01 1.59000e+02\n",
            "  9.30000e+01 7.50000e+01]], shape=(5, 8), dtype=float32)\n"
          ]
        }
      ]
    },
    {
      "cell_type": "code",
      "metadata": {
        "id": "S_IP_m7IWh1V"
      },
      "source": [],
      "execution_count": null,
      "outputs": []
    },
    {
      "cell_type": "markdown",
      "metadata": {
        "id": "CxlimoToLc4C"
      },
      "source": [
        "## **Model Creation and Training**"
      ]
    },
    {
      "cell_type": "code",
      "metadata": {
        "id": "-6u-a70uXLhR",
        "colab": {
          "base_uri": "https://localhost:8080/"
        },
        "outputId": "493dda59-a47e-447a-97aa-6bf788dd537b"
      },
      "source": [
        "model = tf.keras.Sequential([\n",
        "                             InputLayer(input_shape = (8,)),\n",
        "                             normalizer,\n",
        "                             Dense(128, activation = \"relu\"),\n",
        "                             Dense(128, activation = \"relu\"),\n",
        "                             Dense(128, activation = \"relu\"),\n",
        "                             Dense(1),\n",
        "])\n",
        "model.summary()"
      ],
      "execution_count": null,
      "outputs": [
        {
          "output_type": "stream",
          "name": "stdout",
          "text": [
            "Model: \"sequential_7\"\n",
            "_________________________________________________________________\n",
            "Layer (type)                 Output Shape              Param #   \n",
            "=================================================================\n",
            "normalization_2 (Normalizati (None, 8)                 17        \n",
            "_________________________________________________________________\n",
            "dense_19 (Dense)             (None, 128)               1152      \n",
            "_________________________________________________________________\n",
            "dense_20 (Dense)             (None, 128)               16512     \n",
            "_________________________________________________________________\n",
            "dense_21 (Dense)             (None, 128)               16512     \n",
            "_________________________________________________________________\n",
            "dense_22 (Dense)             (None, 1)                 129       \n",
            "=================================================================\n",
            "Total params: 34,322\n",
            "Trainable params: 34,305\n",
            "Non-trainable params: 17\n",
            "_________________________________________________________________\n"
          ]
        }
      ]
    },
    {
      "cell_type": "code",
      "metadata": {
        "id": "11E2rU0rV0pM"
      },
      "source": [],
      "execution_count": null,
      "outputs": []
    },
    {
      "cell_type": "code",
      "metadata": {
        "colab": {
          "base_uri": "https://localhost:8080/",
          "height": 644
        },
        "id": "P0-MdiccV0r9",
        "outputId": "c292de82-e496-48c5-f9d7-a87073fced6d"
      },
      "source": [
        "tf.keras.utils.plot_model(model, to_file = \"model.png\", show_shapes=True)"
      ],
      "execution_count": null,
      "outputs": [
        {
          "output_type": "execute_result",
          "data": {
            "image/png": "[encoded data removed]",
            "text/plain": [
              "<IPython.core.display.Image object>"
            ]
          },
          "metadata": {},
          "execution_count": 97
        }
      ]
    },
    {
      "cell_type": "code",
      "metadata": {
        "id": "KckNWiWJV0um"
      },
      "source": [
        "model.compile(optimizer = Adam(learning_rate = 0.1),\n",
        "              loss = MeanAbsoluteError(),\n",
        "              metrics = RootMeanSquaredError())"
      ],
      "execution_count": null,
      "outputs": []
    },
    {
      "cell_type": "code",
      "metadata": {
        "colab": {
          "base_uri": "https://localhost:8080/"
        },
        "id": "-nQSZ1j0V0xG",
        "outputId": "bb353c6e-5235-48c5-ce68-8dc17c423a32"
      },
      "source": [
        "history = model.fit(train_dataset, validation_data=val_dataset, epochs = 100, verbose = 1)"
      ],
      "execution_count": null,
      "outputs": [
        {
          "output_type": "stream",
          "name": "stdout",
          "text": [
            "Epoch 1/100\n",
            "18/25 [====================>.........] - ETA: 0s - loss: 183443.8125 - root_mean_squared_error: 230505.0938 WARNING:tensorflow:Model was constructed with shape (None, 8) for input KerasTensor(type_spec=TensorSpec(shape=(None, 8), dtype=tf.float32, name='input_8'), name='input_8', description=\"created by layer 'input_8'\"), but it was called on an input with incompatible shape (None, None, 8).\n",
            "25/25 [==============================] - 1s 12ms/step - loss: 153433.3906 - root_mean_squared_error: 202123.1406 - val_loss: 60263.9297 - val_root_mean_squared_error: 72829.0625\n",
            "Epoch 2/100\n",
            "25/25 [==============================] - 0s 4ms/step - loss: 56026.2656 - root_mean_squared_error: 71011.3516 - val_loss: 45472.1758 - val_root_mean_squared_error: 56745.3438\n",
            "Epoch 3/100\n",
            "25/25 [==============================] - 0s 4ms/step - loss: 53667.3594 - root_mean_squared_error: 69709.6016 - val_loss: 42714.7695 - val_root_mean_squared_error: 53672.2227\n",
            "Epoch 4/100\n",
            "25/25 [==============================] - 0s 4ms/step - loss: 50040.4531 - root_mean_squared_error: 65046.1055 - val_loss: 38227.3203 - val_root_mean_squared_error: 47598.3086\n",
            "Epoch 5/100\n",
            "25/25 [==============================] - 0s 4ms/step - loss: 42923.9805 - root_mean_squared_error: 53611.3828 - val_loss: 40198.9961 - val_root_mean_squared_error: 49557.1953\n",
            "Epoch 6/100\n",
            "25/25 [==============================] - 0s 4ms/step - loss: 43780.4062 - root_mean_squared_error: 54295.3242 - val_loss: 47681.0117 - val_root_mean_squared_error: 58350.3594\n",
            "Epoch 7/100\n",
            "25/25 [==============================] - 0s 4ms/step - loss: 41617.0156 - root_mean_squared_error: 51874.2031 - val_loss: 42206.4141 - val_root_mean_squared_error: 53217.7852\n",
            "Epoch 8/100\n",
            "25/25 [==============================] - 0s 4ms/step - loss: 44758.0469 - root_mean_squared_error: 56010.7852 - val_loss: 48947.8008 - val_root_mean_squared_error: 59752.2383\n",
            "Epoch 9/100\n",
            "25/25 [==============================] - 0s 4ms/step - loss: 41648.5547 - root_mean_squared_error: 51759.3359 - val_loss: 43351.2031 - val_root_mean_squared_error: 54776.7188\n",
            "Epoch 10/100\n",
            "25/25 [==============================] - 0s 17ms/step - loss: 44575.9102 - root_mean_squared_error: 55635.6953 - val_loss: 41305.5859 - val_root_mean_squared_error: 51274.1133\n",
            "Epoch 11/100\n",
            "25/25 [==============================] - 0s 4ms/step - loss: 41709.0391 - root_mean_squared_error: 52156.1992 - val_loss: 45903.7031 - val_root_mean_squared_error: 56568.1367\n",
            "Epoch 12/100\n",
            "25/25 [==============================] - 0s 4ms/step - loss: 41540.7852 - root_mean_squared_error: 51719.0195 - val_loss: 38613.2109 - val_root_mean_squared_error: 47886.9609\n",
            "Epoch 13/100\n",
            "25/25 [==============================] - 0s 5ms/step - loss: 42226.4648 - root_mean_squared_error: 52758.3633 - val_loss: 44199.9609 - val_root_mean_squared_error: 54273.1133\n",
            "Epoch 14/100\n",
            "25/25 [==============================] - 0s 4ms/step - loss: 40767.7461 - root_mean_squared_error: 50688.4805 - val_loss: 38259.7344 - val_root_mean_squared_error: 47667.7383\n",
            "Epoch 15/100\n",
            "25/25 [==============================] - 0s 4ms/step - loss: 41690.9062 - root_mean_squared_error: 51740.9844 - val_loss: 37318.7109 - val_root_mean_squared_error: 46564.6992\n",
            "Epoch 16/100\n",
            "25/25 [==============================] - 0s 4ms/step - loss: 42122.0547 - root_mean_squared_error: 52942.2109 - val_loss: 39383.1211 - val_root_mean_squared_error: 48752.6836\n",
            "Epoch 17/100\n",
            "25/25 [==============================] - 0s 4ms/step - loss: 38069.0742 - root_mean_squared_error: 47936.5898 - val_loss: 36968.2383 - val_root_mean_squared_error: 45938.2070\n",
            "Epoch 18/100\n",
            "25/25 [==============================] - 0s 4ms/step - loss: 40485.8984 - root_mean_squared_error: 50408.5469 - val_loss: 55395.7344 - val_root_mean_squared_error: 66576.9844\n",
            "Epoch 19/100\n",
            "25/25 [==============================] - 0s 4ms/step - loss: 40614.3906 - root_mean_squared_error: 51430.3477 - val_loss: 37169.1289 - val_root_mean_squared_error: 46689.2344\n",
            "Epoch 20/100\n",
            "25/25 [==============================] - 0s 4ms/step - loss: 39690.5312 - root_mean_squared_error: 49889.6250 - val_loss: 37958.2539 - val_root_mean_squared_error: 47514.6016\n",
            "Epoch 21/100\n",
            "25/25 [==============================] - 0s 4ms/step - loss: 45334.5156 - root_mean_squared_error: 57302.3008 - val_loss: 50117.3789 - val_root_mean_squared_error: 61919.8203\n",
            "Epoch 22/100\n",
            "25/25 [==============================] - 0s 4ms/step - loss: 41397.3984 - root_mean_squared_error: 51327.0195 - val_loss: 34763.5586 - val_root_mean_squared_error: 43359.3945\n",
            "Epoch 23/100\n",
            "25/25 [==============================] - 0s 4ms/step - loss: 41823.0039 - root_mean_squared_error: 52517.4922 - val_loss: 42227.3633 - val_root_mean_squared_error: 52194.2656\n",
            "Epoch 24/100\n",
            "25/25 [==============================] - 0s 4ms/step - loss: 37728.0625 - root_mean_squared_error: 47307.5430 - val_loss: 37185.4531 - val_root_mean_squared_error: 47250.6680\n",
            "Epoch 25/100\n",
            "25/25 [==============================] - 0s 4ms/step - loss: 39189.0078 - root_mean_squared_error: 48781.3906 - val_loss: 38032.8555 - val_root_mean_squared_error: 47263.8164\n",
            "Epoch 26/100\n",
            "25/25 [==============================] - 0s 5ms/step - loss: 40774.3516 - root_mean_squared_error: 50963.6680 - val_loss: 43680.4688 - val_root_mean_squared_error: 54177.1719\n",
            "Epoch 27/100\n",
            "25/25 [==============================] - 0s 4ms/step - loss: 38223.0547 - root_mean_squared_error: 47434.3555 - val_loss: 36712.6094 - val_root_mean_squared_error: 45607.6250\n",
            "Epoch 28/100\n",
            "25/25 [==============================] - 0s 4ms/step - loss: 40351.8398 - root_mean_squared_error: 50293.8945 - val_loss: 46028.4414 - val_root_mean_squared_error: 56488.2109\n",
            "Epoch 29/100\n",
            "25/25 [==============================] - 0s 4ms/step - loss: 37378.0430 - root_mean_squared_error: 46608.9688 - val_loss: 34020.2266 - val_root_mean_squared_error: 42543.3086\n",
            "Epoch 30/100\n",
            "25/25 [==============================] - 0s 4ms/step - loss: 42107.9297 - root_mean_squared_error: 52700.3242 - val_loss: 57367.4258 - val_root_mean_squared_error: 69031.1016\n",
            "Epoch 31/100\n",
            "25/25 [==============================] - 0s 4ms/step - loss: 40386.8438 - root_mean_squared_error: 50549.6172 - val_loss: 35117.1367 - val_root_mean_squared_error: 43863.0742\n",
            "Epoch 32/100\n",
            "25/25 [==============================] - 0s 4ms/step - loss: 39437.0469 - root_mean_squared_error: 48874.4219 - val_loss: 36209.7539 - val_root_mean_squared_error: 44859.3945\n",
            "Epoch 33/100\n",
            "25/25 [==============================] - 0s 4ms/step - loss: 37666.4180 - root_mean_squared_error: 47192.3555 - val_loss: 37115.8242 - val_root_mean_squared_error: 46212.6484\n",
            "Epoch 34/100\n",
            "25/25 [==============================] - 0s 4ms/step - loss: 37298.2969 - root_mean_squared_error: 46440.7891 - val_loss: 36064.3945 - val_root_mean_squared_error: 45013.4180\n",
            "Epoch 35/100\n",
            "25/25 [==============================] - 0s 4ms/step - loss: 36239.5352 - root_mean_squared_error: 45847.5859 - val_loss: 35581.3633 - val_root_mean_squared_error: 44543.2969\n",
            "Epoch 36/100\n",
            "25/25 [==============================] - 0s 4ms/step - loss: 37538.1367 - root_mean_squared_error: 47149.9297 - val_loss: 35826.7383 - val_root_mean_squared_error: 44622.6406\n",
            "Epoch 37/100\n",
            "25/25 [==============================] - 0s 4ms/step - loss: 40046.1016 - root_mean_squared_error: 50076.9883 - val_loss: 46954.7734 - val_root_mean_squared_error: 57823.3672\n",
            "Epoch 38/100\n",
            "25/25 [==============================] - 0s 4ms/step - loss: 36624.6758 - root_mean_squared_error: 45689.2070 - val_loss: 33482.0703 - val_root_mean_squared_error: 42136.8164\n",
            "Epoch 39/100\n",
            "25/25 [==============================] - 0s 4ms/step - loss: 38041.0508 - root_mean_squared_error: 47904.8984 - val_loss: 39566.6055 - val_root_mean_squared_error: 49108.8516\n",
            "Epoch 40/100\n",
            "25/25 [==============================] - 0s 4ms/step - loss: 36461.2539 - root_mean_squared_error: 46020.3359 - val_loss: 33832.3203 - val_root_mean_squared_error: 42399.4727\n",
            "Epoch 41/100\n",
            "25/25 [==============================] - 0s 4ms/step - loss: 37436.7539 - root_mean_squared_error: 47116.0820 - val_loss: 33855.7969 - val_root_mean_squared_error: 42320.5430\n",
            "Epoch 42/100\n",
            "25/25 [==============================] - 0s 5ms/step - loss: 42520.7539 - root_mean_squared_error: 52917.1602 - val_loss: 46673.4336 - val_root_mean_squared_error: 57544.7656\n",
            "Epoch 43/100\n",
            "25/25 [==============================] - 0s 4ms/step - loss: 36878.1172 - root_mean_squared_error: 46548.4727 - val_loss: 36253.9336 - val_root_mean_squared_error: 44613.2656\n",
            "Epoch 44/100\n",
            "25/25 [==============================] - 0s 4ms/step - loss: 45127.1016 - root_mean_squared_error: 56809.5039 - val_loss: 40591.6562 - val_root_mean_squared_error: 50129.6289\n",
            "Epoch 45/100\n",
            "25/25 [==============================] - 0s 4ms/step - loss: 43439.3555 - root_mean_squared_error: 54211.9258 - val_loss: 39119.6641 - val_root_mean_squared_error: 48735.2109\n",
            "Epoch 46/100\n",
            "25/25 [==============================] - 0s 4ms/step - loss: 37144.3359 - root_mean_squared_error: 46490.9453 - val_loss: 34264.2969 - val_root_mean_squared_error: 42994.8594\n",
            "Epoch 47/100\n",
            "25/25 [==============================] - 0s 4ms/step - loss: 40094.2578 - root_mean_squared_error: 50919.8008 - val_loss: 43557.8555 - val_root_mean_squared_error: 53852.1406\n",
            "Epoch 48/100\n",
            "25/25 [==============================] - 0s 4ms/step - loss: 39449.2578 - root_mean_squared_error: 49006.6914 - val_loss: 38318.1914 - val_root_mean_squared_error: 47533.4883\n",
            "Epoch 49/100\n",
            "25/25 [==============================] - 0s 5ms/step - loss: 35235.9297 - root_mean_squared_error: 43911.5000 - val_loss: 33872.1836 - val_root_mean_squared_error: 42097.6250\n",
            "Epoch 50/100\n",
            "25/25 [==============================] - 0s 4ms/step - loss: 36223.1836 - root_mean_squared_error: 45369.5078 - val_loss: 37482.6289 - val_root_mean_squared_error: 46426.5703\n",
            "Epoch 51/100\n",
            "25/25 [==============================] - 0s 4ms/step - loss: 38728.5859 - root_mean_squared_error: 48386.0430 - val_loss: 42836.5352 - val_root_mean_squared_error: 52722.1250\n",
            "Epoch 52/100\n",
            "25/25 [==============================] - 0s 4ms/step - loss: 38372.0859 - root_mean_squared_error: 47950.6055 - val_loss: 36639.0273 - val_root_mean_squared_error: 45573.0781\n",
            "Epoch 53/100\n",
            "25/25 [==============================] - 0s 4ms/step - loss: 36378.2031 - root_mean_squared_error: 45250.8086 - val_loss: 34652.2891 - val_root_mean_squared_error: 43365.8438\n",
            "Epoch 54/100\n",
            "25/25 [==============================] - 0s 4ms/step - loss: 35747.6836 - root_mean_squared_error: 44717.0000 - val_loss: 34828.4219 - val_root_mean_squared_error: 43621.8594\n",
            "Epoch 55/100\n",
            "25/25 [==============================] - 0s 4ms/step - loss: 35912.6797 - root_mean_squared_error: 44972.3945 - val_loss: 34019.6641 - val_root_mean_squared_error: 42595.9648\n",
            "Epoch 56/100\n",
            "25/25 [==============================] - 0s 4ms/step - loss: 38367.9766 - root_mean_squared_error: 48917.6797 - val_loss: 37332.0430 - val_root_mean_squared_error: 46409.3984\n",
            "Epoch 57/100\n",
            "25/25 [==============================] - 0s 4ms/step - loss: 36671.1445 - root_mean_squared_error: 45700.1523 - val_loss: 34065.7266 - val_root_mean_squared_error: 42134.2656\n",
            "Epoch 58/100\n",
            "25/25 [==============================] - 0s 4ms/step - loss: 35391.8828 - root_mean_squared_error: 44498.2109 - val_loss: 35059.3750 - val_root_mean_squared_error: 43381.7070\n",
            "Epoch 59/100\n",
            "25/25 [==============================] - 0s 4ms/step - loss: 37295.8945 - root_mean_squared_error: 47479.5195 - val_loss: 34208.7305 - val_root_mean_squared_error: 42558.4922\n",
            "Epoch 60/100\n",
            "25/25 [==============================] - 0s 4ms/step - loss: 38737.8828 - root_mean_squared_error: 49007.2852 - val_loss: 37675.8594 - val_root_mean_squared_error: 46528.0000\n",
            "Epoch 61/100\n",
            "25/25 [==============================] - 0s 4ms/step - loss: 37275.9922 - root_mean_squared_error: 46766.8633 - val_loss: 36297.2383 - val_root_mean_squared_error: 44886.0352\n",
            "Epoch 62/100\n",
            "25/25 [==============================] - 0s 4ms/step - loss: 36066.3711 - root_mean_squared_error: 44733.1875 - val_loss: 33840.5859 - val_root_mean_squared_error: 42432.3789\n",
            "Epoch 63/100\n",
            "25/25 [==============================] - 0s 4ms/step - loss: 36461.5859 - root_mean_squared_error: 45768.5156 - val_loss: 35501.4219 - val_root_mean_squared_error: 44325.0234\n",
            "Epoch 64/100\n",
            "25/25 [==============================] - 0s 5ms/step - loss: 35266.5508 - root_mean_squared_error: 44279.4492 - val_loss: 33292.7148 - val_root_mean_squared_error: 41521.0352\n",
            "Epoch 65/100\n",
            "25/25 [==============================] - 0s 4ms/step - loss: 35328.8984 - root_mean_squared_error: 44795.5586 - val_loss: 32958.8477 - val_root_mean_squared_error: 41033.3633\n",
            "Epoch 66/100\n",
            "25/25 [==============================] - 0s 4ms/step - loss: 35405.6641 - root_mean_squared_error: 44796.9297 - val_loss: 33378.3203 - val_root_mean_squared_error: 41350.6719\n",
            "Epoch 67/100\n",
            "25/25 [==============================] - 0s 4ms/step - loss: 35030.9414 - root_mean_squared_error: 43748.3984 - val_loss: 32991.1992 - val_root_mean_squared_error: 41132.3242\n",
            "Epoch 68/100\n",
            "25/25 [==============================] - 0s 4ms/step - loss: 34800.5664 - root_mean_squared_error: 43631.7188 - val_loss: 34250.6211 - val_root_mean_squared_error: 42634.0039\n",
            "Epoch 69/100\n",
            "25/25 [==============================] - 0s 4ms/step - loss: 33978.9844 - root_mean_squared_error: 42666.3711 - val_loss: 32581.5645 - val_root_mean_squared_error: 40717.6484\n",
            "Epoch 70/100\n",
            "25/25 [==============================] - 0s 4ms/step - loss: 38386.7734 - root_mean_squared_error: 49061.3320 - val_loss: 32995.2812 - val_root_mean_squared_error: 41220.0156\n",
            "Epoch 71/100\n",
            "25/25 [==============================] - 0s 4ms/step - loss: 35412.3398 - root_mean_squared_error: 44507.3164 - val_loss: 34876.0469 - val_root_mean_squared_error: 43161.8320\n",
            "Epoch 72/100\n",
            "25/25 [==============================] - 0s 4ms/step - loss: 34612.6992 - root_mean_squared_error: 43434.4922 - val_loss: 35430.1680 - val_root_mean_squared_error: 43927.1484\n",
            "Epoch 73/100\n",
            "25/25 [==============================] - 0s 4ms/step - loss: 35458.6133 - root_mean_squared_error: 44698.3477 - val_loss: 32574.8203 - val_root_mean_squared_error: 40858.1367\n",
            "Epoch 74/100\n",
            "25/25 [==============================] - 0s 4ms/step - loss: 36318.4258 - root_mean_squared_error: 45952.9766 - val_loss: 40543.6211 - val_root_mean_squared_error: 50238.3828\n",
            "Epoch 75/100\n",
            "25/25 [==============================] - 0s 4ms/step - loss: 35710.8945 - root_mean_squared_error: 44680.3711 - val_loss: 34661.6016 - val_root_mean_squared_error: 43508.1445\n",
            "Epoch 76/100\n",
            "25/25 [==============================] - 0s 4ms/step - loss: 35520.9844 - root_mean_squared_error: 44945.1016 - val_loss: 34319.5703 - val_root_mean_squared_error: 42934.1836\n",
            "Epoch 77/100\n",
            "25/25 [==============================] - 0s 4ms/step - loss: 35935.3281 - root_mean_squared_error: 45561.6992 - val_loss: 32581.1348 - val_root_mean_squared_error: 40705.1406\n",
            "Epoch 78/100\n",
            "25/25 [==============================] - 0s 4ms/step - loss: 36242.0898 - root_mean_squared_error: 45991.8516 - val_loss: 33404.2344 - val_root_mean_squared_error: 41946.7461\n",
            "Epoch 79/100\n",
            "25/25 [==============================] - 0s 4ms/step - loss: 34642.0625 - root_mean_squared_error: 43895.9062 - val_loss: 32456.9004 - val_root_mean_squared_error: 40770.3359\n",
            "Epoch 80/100\n",
            "25/25 [==============================] - 0s 5ms/step - loss: 35546.0195 - root_mean_squared_error: 45262.3906 - val_loss: 35322.0156 - val_root_mean_squared_error: 44069.5039\n",
            "Epoch 81/100\n",
            "25/25 [==============================] - 0s 4ms/step - loss: 35978.3945 - root_mean_squared_error: 45280.6211 - val_loss: 35185.4648 - val_root_mean_squared_error: 44014.6172\n",
            "Epoch 82/100\n",
            "25/25 [==============================] - 0s 4ms/step - loss: 34663.4219 - root_mean_squared_error: 44022.8203 - val_loss: 32813.8477 - val_root_mean_squared_error: 41324.1719\n",
            "Epoch 83/100\n",
            "25/25 [==============================] - 0s 4ms/step - loss: 36449.5664 - root_mean_squared_error: 46169.6953 - val_loss: 34012.1367 - val_root_mean_squared_error: 42522.8906\n",
            "Epoch 84/100\n",
            "25/25 [==============================] - 0s 4ms/step - loss: 34057.7734 - root_mean_squared_error: 43135.2695 - val_loss: 33329.9844 - val_root_mean_squared_error: 41505.4531\n",
            "Epoch 85/100\n",
            "25/25 [==============================] - 0s 4ms/step - loss: 36582.1641 - root_mean_squared_error: 46742.3906 - val_loss: 34058.7930 - val_root_mean_squared_error: 42399.1016\n",
            "Epoch 86/100\n",
            "25/25 [==============================] - 0s 4ms/step - loss: 36244.8281 - root_mean_squared_error: 46020.2578 - val_loss: 32478.8809 - val_root_mean_squared_error: 40554.2695\n",
            "Epoch 87/100\n",
            "25/25 [==============================] - 0s 4ms/step - loss: 35911.9102 - root_mean_squared_error: 45986.1953 - val_loss: 33365.6289 - val_root_mean_squared_error: 41517.8516\n",
            "Epoch 88/100\n",
            "25/25 [==============================] - 0s 4ms/step - loss: 39517.6562 - root_mean_squared_error: 49955.6602 - val_loss: 49954.6406 - val_root_mean_squared_error: 61718.5781\n",
            "Epoch 89/100\n",
            "25/25 [==============================] - 0s 4ms/step - loss: 40796.4688 - root_mean_squared_error: 51235.3359 - val_loss: 40422.7969 - val_root_mean_squared_error: 50132.1914\n",
            "Epoch 90/100\n",
            "25/25 [==============================] - 0s 4ms/step - loss: 40360.6641 - root_mean_squared_error: 50773.8359 - val_loss: 38809.0117 - val_root_mean_squared_error: 48129.4922\n",
            "Epoch 91/100\n",
            "25/25 [==============================] - 0s 5ms/step - loss: 36151.8906 - root_mean_squared_error: 45569.1367 - val_loss: 36910.4023 - val_root_mean_squared_error: 46204.5117\n",
            "Epoch 92/100\n",
            "25/25 [==============================] - 0s 4ms/step - loss: 35665.6602 - root_mean_squared_error: 45271.9883 - val_loss: 34275.9141 - val_root_mean_squared_error: 42862.3633\n",
            "Epoch 93/100\n",
            "25/25 [==============================] - 0s 4ms/step - loss: 34847.2461 - root_mean_squared_error: 44639.5156 - val_loss: 32523.6406 - val_root_mean_squared_error: 41008.9844\n",
            "Epoch 94/100\n",
            "25/25 [==============================] - 0s 4ms/step - loss: 34289.5000 - root_mean_squared_error: 43564.6797 - val_loss: 33046.0508 - val_root_mean_squared_error: 41598.3047\n",
            "Epoch 95/100\n",
            "25/25 [==============================] - 0s 4ms/step - loss: 34079.6094 - root_mean_squared_error: 43665.2969 - val_loss: 33661.4844 - val_root_mean_squared_error: 42329.4414\n",
            "Epoch 96/100\n",
            "25/25 [==============================] - 0s 4ms/step - loss: 34789.6133 - root_mean_squared_error: 44418.9375 - val_loss: 33264.1484 - val_root_mean_squared_error: 41816.4141\n",
            "Epoch 97/100\n",
            "25/25 [==============================] - 0s 5ms/step - loss: 35060.4062 - root_mean_squared_error: 44998.0234 - val_loss: 34415.6406 - val_root_mean_squared_error: 43326.4883\n",
            "Epoch 98/100\n",
            "25/25 [==============================] - 0s 5ms/step - loss: 35818.2812 - root_mean_squared_error: 45832.2617 - val_loss: 33805.2031 - val_root_mean_squared_error: 42436.7656\n",
            "Epoch 99/100\n",
            "25/25 [==============================] - 0s 4ms/step - loss: 37061.6758 - root_mean_squared_error: 47643.8867 - val_loss: 34193.2461 - val_root_mean_squared_error: 42820.9141\n",
            "Epoch 100/100\n",
            "25/25 [==============================] - 0s 4ms/step - loss: 36433.3633 - root_mean_squared_error: 46644.2148 - val_loss: 37564.8867 - val_root_mean_squared_error: 47129.3828\n"
          ]
        }
      ]
    },
    {
      "cell_type": "code",
      "metadata": {
        "colab": {
          "base_uri": "https://localhost:8080/",
          "height": 295
        },
        "id": "rclKXms6V0zg",
        "outputId": "753fd3f9-6bc6-487e-84ed-54f123e0f75f"
      },
      "source": [
        "plt.plot(history.history['loss'])\n",
        "plt.plot(history.history['val_loss'])\n",
        "plt.title('model loss')\n",
        "plt.ylabel('loss')\n",
        "plt.xlabel('epoch')\n",
        "plt.legend(['train', 'val_loss'])\n",
        "plt.show()"
      ],
      "execution_count": null,
      "outputs": [
        {
          "output_type": "display_data",
          "data": {
            "image/png": "[encoded data removed]",
            "text/plain": [
              "<Figure size 432x288 with 1 Axes>"
            ]
          },
          "metadata": {
            "needs_background": "light"
          }
        }
      ]
    },
    {
      "cell_type": "code",
      "metadata": {
        "id": "Mklv2mvHZFtu"
      },
      "source": [],
      "execution_count": null,
      "outputs": []
    },
    {
      "cell_type": "code",
      "metadata": {
        "colab": {
          "base_uri": "https://localhost:8080/",
          "height": 295
        },
        "id": "FcqUS-lcV010",
        "outputId": "71bee4df-9e86-4e7f-abd8-134df1635b76"
      },
      "source": [
        "plt.plot(history.history['root_mean_squared_error'])\n",
        "plt.plot(history.history['val_root_mean_squared_error'])\n",
        "plt.title('model performance')\n",
        "plt.ylabel('rmse')\n",
        "plt.xlabel('epoch')\n",
        "plt.legend(['train', 'val'])\n",
        "plt.show()"
      ],
      "execution_count": null,
      "outputs": [
        {
          "output_type": "display_data",
          "data": {
            "image/png": "[encoded data removed]",
            "text/plain": [
              "<Figure size 432x288 with 1 Axes>"
            ]
          },
          "metadata": {
            "needs_background": "light"
          }
        }
      ]
    },
    {
      "cell_type": "markdown",
      "metadata": {
        "id": "TSjCxq__LQkw"
      },
      "source": [
        "## **Model Evaluation and Testing**"
      ]
    },
    {
      "cell_type": "code",
      "metadata": {
        "id": "kuiLjiUxXLj4",
        "colab": {
          "base_uri": "https://localhost:8080/"
        },
        "outputId": "23aa1fcc-2770-4467-98d1-7c9a7e82506f"
      },
      "source": [
        "model.evaluate(X_test,y_test)"
      ],
      "execution_count": null,
      "outputs": [
        {
          "output_type": "stream",
          "name": "stdout",
          "text": [
            "4/4 [==============================] - 0s 4ms/step - loss: 35082.9219 - root_mean_squared_error: 45458.8477\n"
          ]
        },
        {
          "output_type": "execute_result",
          "data": {
            "text/plain": [
              "[35082.921875, 45458.84765625]"
            ]
          },
          "metadata": {},
          "execution_count": 102
        }
      ]
    },
    {
      "cell_type": "code",
      "metadata": {
        "id": "nBrLEVAyXLmT"
      },
      "source": [],
      "execution_count": null,
      "outputs": []
    },
    {
      "cell_type": "code",
      "metadata": {
        "colab": {
          "base_uri": "https://localhost:8080/"
        },
        "id": "53c0mlV2WGI2",
        "outputId": "baa2d4ca-fd08-4d15-8256-b95b98340c78"
      },
      "source": [
        "X_test.shape"
      ],
      "execution_count": null,
      "outputs": [
        {
          "output_type": "execute_result",
          "data": {
            "text/plain": [
              "TensorShape([100, 8])"
            ]
          },
          "metadata": {},
          "execution_count": 57
        }
      ]
    },
    {
      "cell_type": "code",
      "metadata": {
        "id": "HeN7SJylXLpD",
        "colab": {
          "base_uri": "https://localhost:8080/"
        },
        "outputId": "216ec721-9cee-4e6b-9c44-f813ffe214b8"
      },
      "source": [
        "model.predict(tf.expand_dims(X_test[0], axis = 0 ))"
      ],
      "execution_count": null,
      "outputs": [
        {
          "output_type": "execute_result",
          "data": {
            "text/plain": [
              "array([[465634.7]], dtype=float32)"
            ]
          },
          "metadata": {},
          "execution_count": 103
        }
      ]
    },
    {
      "cell_type": "code",
      "metadata": {
        "id": "5HbPIpC2XLrq",
        "colab": {
          "base_uri": "https://localhost:8080/"
        },
        "outputId": "41238d72-92df-4bb8-ddda-a38787fe3d7b"
      },
      "source": [
        "y_test[0]"
      ],
      "execution_count": null,
      "outputs": [
        {
          "output_type": "execute_result",
          "data": {
            "text/plain": [
              "<tf.Tensor: shape=(1,), dtype=float32, numpy=array([465338.5], dtype=float32)>"
            ]
          },
          "metadata": {},
          "execution_count": 59
        }
      ]
    },
    {
      "cell_type": "code",
      "metadata": {
        "id": "jscJH2wLXLuK"
      },
      "source": [
        "y_true = list(y_test[:,0].numpy())"
      ],
      "execution_count": null,
      "outputs": []
    },
    {
      "cell_type": "code",
      "metadata": {
        "id": "qWCd5NDZie1L",
        "colab": {
          "base_uri": "https://localhost:8080/"
        },
        "outputId": "b5ee2ef1-0cb7-4514-8141-f292267ad8ff"
      },
      "source": [
        "y_pred = list(model.predict(X_test)[:,0])\n",
        "print(y_pred)"
      ],
      "execution_count": null,
      "outputs": [
        {
          "output_type": "stream",
          "name": "stdout",
          "text": [
            "[465634.7, 346877.6, 316944.53, 541506.4, 177605.89, 389100.53, 407023.3, 215957.14, 242833.12, 316479.53, 283034.28, 523835.53, 235925.12, 169588.38, 246495.66, 424280.38, 444110.28, 253352.94, 513701.28, 460727.66, 276458.38, 214403.03, 220393.1, 129725.375, 274199.8, 336481.06, 316167.84, 176357.14, 176709.47, 405825.3, 221231.02, 321881.72, 127336.555, 208712.95, 467812.22, 380431.0, 361381.9, 239841.12, 464587.47, 369859.16, 224781.88, 238386.03, 266883.12, 335518.03, 312324.72, 240562.16, 132587.97, 422667.72, 228218.1, 156495.84, 365251.53, 194797.8, 401961.06, 387540.25, 478644.16, 227816.22, 383970.72, 210779.62, 291278.78, 175252.11, 266432.1, 148648.31, 415452.88, 305756.9, 166695.77, 475147.22, 512314.84, 143468.97, 374273.22, 158544.81, 360469.16, 567642.06, 540250.2, 481704.6, 80303.1, 459162.03, 461067.16, 429522.4, 455283.94, 331594.3, 284699.8, 276452.72, 209741.05, 270829.62, 190786.22, 299014.84, 246887.86, 353629.97, 380103.03, 175247.42, 199458.3, 491509.22, 252743.64, 209619.28, 527794.8, 522028.75, 525645.06, 199967.36, 133078.62, 146573.19]\n"
          ]
        }
      ]
    },
    {
      "cell_type": "code",
      "metadata": {
        "id": "FJceF2FrXLxB",
        "colab": {
          "base_uri": "https://localhost:8080/",
          "height": 1000
        },
        "outputId": "0745e271-4261-4f13-d87e-7d4bc9586ab7"
      },
      "source": [
        "ind = np.arange(100)\n",
        "plt.figure(figsize=(40,20))\n",
        "\n",
        "width = 0.1\n",
        "\n",
        "plt.bar(ind, y_pred, width, label='Predicted Car Price')\n",
        "plt.bar(ind + width, y_true, width, label='Actual Car Price')\n",
        "\n",
        "plt.xlabel('Actual vs Predicted Prices')\n",
        "plt.ylabel('Car Price Prices')\n",
        "\n",
        "plt.show()"
      ],
      "execution_count": null,
      "outputs": [
        {
          "output_type": "display_data",
          "data": {
            "image/png": "[encoded data removed]",
            "text/plain": [
              "<Figure size 2880x1440 with 1 Axes>"
            ]
          },
          "metadata": {
            "needs_background": "light"
          }
        }
      ]
    },
    {
      "cell_type": "code",
      "metadata": {
        "id": "Pj6Qk_wOXLz6"
      },
      "source": [],
      "execution_count": null,
      "outputs": []
    },
    {
      "cell_type": "code",
      "metadata": {
        "id": "U8aJm7HoXL2d"
      },
      "source": [],
      "execution_count": null,
      "outputs": []
    }
  ]
}