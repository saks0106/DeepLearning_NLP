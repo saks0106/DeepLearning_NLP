{
  "nbformat": 4,
  "nbformat_minor": 0,
  "metadata": {
    "colab": {
      "provenance": [],
      "collapsed_sections": [
        "j6EtG3kpNKiT",
        "CxlimoToLc4C",
        "TSjCxq__LQkw"
      ],
      "include_colab_link": true
    },
    "kernelspec": {
      "name": "python3",
      "display_name": "Python 3"
    },
    "language_info": {
      "name": "python"
    },
    "accelerator": "GPU"
  },
  "cells": [
    {
      "cell_type": "markdown",
      "metadata": {
        "id": "view-in-github",
        "colab_type": "text"
      },
      "source": [
        "<a href=\"https://colab.research.google.com/github/saks0106/DeepLearning_NLP/blob/main/1_Second_Hand_Car_Prediction.ipynb\" target=\"_parent\"><img src=\"https://colab.research.google.com/assets/colab-badge.svg\" alt=\"Open In Colab\"/></a>"
      ]
    },
    {
      "cell_type": "code",
      "metadata": {
        "id": "Q_Wi6cQRp4Rv"
      },
      "source": [
        "import tensorflow as tf### models\n",
        "import pandas as pd ### reading and processing data\n",
        "import seaborn as sns ### visualization\n",
        "import numpy as np### math computations\n",
        "import matplotlib.pyplot as plt### plotting bar chart\n",
        "from tensorflow.keras.layers import Normalization, Dense, InputLayer\n",
        "from tensorflow.keras.losses import MeanSquaredError, Huber, MeanAbsoluteError\n",
        "from tensorflow.keras.metrics import RootMeanSquaredError\n",
        "from tensorflow.keras.optimizers import Adam"
      ],
      "execution_count": 53,
      "outputs": []
    },
    {
      "cell_type": "markdown",
      "metadata": {
        "id": "j6EtG3kpNKiT"
      },
      "source": [
        "## **Data Preparation**"
      ]
    },
    {
      "cell_type": "code",
      "metadata": {
        "id": "_wKxrpeci_gT",
        "colab": {
          "base_uri": "https://localhost:8080/",
          "height": 261
        },
        "outputId": "157204a0-6448-42d0-9d8e-68977bf38a09"
      },
      "source": [
        "data = pd.read_csv(\"/content/train_2nd_Hand_cars.csv\", \",\")\n",
        "data.head()"
      ],
      "execution_count": 54,
      "outputs": [
        {
          "output_type": "stream",
          "name": "stderr",
          "text": [
            "<ipython-input-54-313c1887b913>:1: FutureWarning: In a future version of pandas all arguments of read_csv except for the argument 'filepath_or_buffer' will be keyword-only.\n",
            "  data = pd.read_csv(\"/content/train_2nd_Hand_cars.csv\", \",\")\n"
          ]
        },
        {
          "output_type": "execute_result",
          "data": {
            "text/plain": [
              "   v.id  on road old  on road now  years      km  rating  condition  economy  \\\n",
              "0     1       535651       798186      3   78945       1          2       14   \n",
              "1     2       591911       861056      6  117220       5          9        9   \n",
              "2     3       686990       770762      2  132538       2          8       15   \n",
              "3     4       573999       722381      4  101065       4          3       11   \n",
              "4     5       691388       811335      6   61559       3          9       12   \n",
              "\n",
              "   top speed  hp  torque  current price  \n",
              "0        177  73     123       351318.0  \n",
              "1        148  74      95       285001.5  \n",
              "2        181  53      97       215386.0  \n",
              "3        197  54     116       244295.5  \n",
              "4        160  53     105       531114.5  "
            ],
            "text/html": [
              "\n",
              "  <div id=\"df-0e539e99-2685-40fd-9f0a-5de9fd20f16d\">\n",
              "    <div class=\"colab-df-container\">\n",
              "      <div>\n",
              "<style scoped>\n",
              "    .dataframe tbody tr th:only-of-type {\n",
              "        vertical-align: middle;\n",
              "    }\n",
              "\n",
              "    .dataframe tbody tr th {\n",
              "        vertical-align: top;\n",
              "    }\n",
              "\n",
              "    .dataframe thead th {\n",
              "        text-align: right;\n",
              "    }\n",
              "</style>\n",
              "<table border=\"1\" class=\"dataframe\">\n",
              "  <thead>\n",
              "    <tr style=\"text-align: right;\">\n",
              "      <th></th>\n",
              "      <th>v.id</th>\n",
              "      <th>on road old</th>\n",
              "      <th>on road now</th>\n",
              "      <th>years</th>\n",
              "      <th>km</th>\n",
              "      <th>rating</th>\n",
              "      <th>condition</th>\n",
              "      <th>economy</th>\n",
              "      <th>top speed</th>\n",
              "      <th>hp</th>\n",
              "      <th>torque</th>\n",
              "      <th>current price</th>\n",
              "    </tr>\n",
              "  </thead>\n",
              "  <tbody>\n",
              "    <tr>\n",
              "      <th>0</th>\n",
              "      <td>1</td>\n",
              "      <td>535651</td>\n",
              "      <td>798186</td>\n",
              "      <td>3</td>\n",
              "      <td>78945</td>\n",
              "      <td>1</td>\n",
              "      <td>2</td>\n",
              "      <td>14</td>\n",
              "      <td>177</td>\n",
              "      <td>73</td>\n",
              "      <td>123</td>\n",
              "      <td>351318.0</td>\n",
              "    </tr>\n",
              "    <tr>\n",
              "      <th>1</th>\n",
              "      <td>2</td>\n",
              "      <td>591911</td>\n",
              "      <td>861056</td>\n",
              "      <td>6</td>\n",
              "      <td>117220</td>\n",
              "      <td>5</td>\n",
              "      <td>9</td>\n",
              "      <td>9</td>\n",
              "      <td>148</td>\n",
              "      <td>74</td>\n",
              "      <td>95</td>\n",
              "      <td>285001.5</td>\n",
              "    </tr>\n",
              "    <tr>\n",
              "      <th>2</th>\n",
              "      <td>3</td>\n",
              "      <td>686990</td>\n",
              "      <td>770762</td>\n",
              "      <td>2</td>\n",
              "      <td>132538</td>\n",
              "      <td>2</td>\n",
              "      <td>8</td>\n",
              "      <td>15</td>\n",
              "      <td>181</td>\n",
              "      <td>53</td>\n",
              "      <td>97</td>\n",
              "      <td>215386.0</td>\n",
              "    </tr>\n",
              "    <tr>\n",
              "      <th>3</th>\n",
              "      <td>4</td>\n",
              "      <td>573999</td>\n",
              "      <td>722381</td>\n",
              "      <td>4</td>\n",
              "      <td>101065</td>\n",
              "      <td>4</td>\n",
              "      <td>3</td>\n",
              "      <td>11</td>\n",
              "      <td>197</td>\n",
              "      <td>54</td>\n",
              "      <td>116</td>\n",
              "      <td>244295.5</td>\n",
              "    </tr>\n",
              "    <tr>\n",
              "      <th>4</th>\n",
              "      <td>5</td>\n",
              "      <td>691388</td>\n",
              "      <td>811335</td>\n",
              "      <td>6</td>\n",
              "      <td>61559</td>\n",
              "      <td>3</td>\n",
              "      <td>9</td>\n",
              "      <td>12</td>\n",
              "      <td>160</td>\n",
              "      <td>53</td>\n",
              "      <td>105</td>\n",
              "      <td>531114.5</td>\n",
              "    </tr>\n",
              "  </tbody>\n",
              "</table>\n",
              "</div>\n",
              "      <button class=\"colab-df-convert\" onclick=\"convertToInteractive('df-0e539e99-2685-40fd-9f0a-5de9fd20f16d')\"\n",
              "              title=\"Convert this dataframe to an interactive table.\"\n",
              "              style=\"display:none;\">\n",
              "        \n",
              "  <svg xmlns=\"http://www.w3.org/2000/svg\" height=\"24px\"viewBox=\"0 0 24 24\"\n",
              "       width=\"24px\">\n",
              "    <path d=\"M0 0h24v24H0V0z\" fill=\"none\"/>\n",
              "    <path d=\"M18.56 5.44l.94 2.06.94-2.06 2.06-.94-2.06-.94-.94-2.06-.94 2.06-2.06.94zm-11 1L8.5 8.5l.94-2.06 2.06-.94-2.06-.94L8.5 2.5l-.94 2.06-2.06.94zm10 10l.94 2.06.94-2.06 2.06-.94-2.06-.94-.94-2.06-.94 2.06-2.06.94z\"/><path d=\"M17.41 7.96l-1.37-1.37c-.4-.4-.92-.59-1.43-.59-.52 0-1.04.2-1.43.59L10.3 9.45l-7.72 7.72c-.78.78-.78 2.05 0 2.83L4 21.41c.39.39.9.59 1.41.59.51 0 1.02-.2 1.41-.59l7.78-7.78 2.81-2.81c.8-.78.8-2.07 0-2.86zM5.41 20L4 18.59l7.72-7.72 1.47 1.35L5.41 20z\"/>\n",
              "  </svg>\n",
              "      </button>\n",
              "      \n",
              "  <style>\n",
              "    .colab-df-container {\n",
              "      display:flex;\n",
              "      flex-wrap:wrap;\n",
              "      gap: 12px;\n",
              "    }\n",
              "\n",
              "    .colab-df-convert {\n",
              "      background-color: #E8F0FE;\n",
              "      border: none;\n",
              "      border-radius: 50%;\n",
              "      cursor: pointer;\n",
              "      display: none;\n",
              "      fill: #1967D2;\n",
              "      height: 32px;\n",
              "      padding: 0 0 0 0;\n",
              "      width: 32px;\n",
              "    }\n",
              "\n",
              "    .colab-df-convert:hover {\n",
              "      background-color: #E2EBFA;\n",
              "      box-shadow: 0px 1px 2px rgba(60, 64, 67, 0.3), 0px 1px 3px 1px rgba(60, 64, 67, 0.15);\n",
              "      fill: #174EA6;\n",
              "    }\n",
              "\n",
              "    [theme=dark] .colab-df-convert {\n",
              "      background-color: #3B4455;\n",
              "      fill: #D2E3FC;\n",
              "    }\n",
              "\n",
              "    [theme=dark] .colab-df-convert:hover {\n",
              "      background-color: #434B5C;\n",
              "      box-shadow: 0px 1px 3px 1px rgba(0, 0, 0, 0.15);\n",
              "      filter: drop-shadow(0px 1px 2px rgba(0, 0, 0, 0.3));\n",
              "      fill: #FFFFFF;\n",
              "    }\n",
              "  </style>\n",
              "\n",
              "      <script>\n",
              "        const buttonEl =\n",
              "          document.querySelector('#df-0e539e99-2685-40fd-9f0a-5de9fd20f16d button.colab-df-convert');\n",
              "        buttonEl.style.display =\n",
              "          google.colab.kernel.accessAllowed ? 'block' : 'none';\n",
              "\n",
              "        async function convertToInteractive(key) {\n",
              "          const element = document.querySelector('#df-0e539e99-2685-40fd-9f0a-5de9fd20f16d');\n",
              "          const dataTable =\n",
              "            await google.colab.kernel.invokeFunction('convertToInteractive',\n",
              "                                                     [key], {});\n",
              "          if (!dataTable) return;\n",
              "\n",
              "          const docLinkHtml = 'Like what you see? Visit the ' +\n",
              "            '<a target=\"_blank\" href=https://colab.research.google.com/notebooks/data_table.ipynb>data table notebook</a>'\n",
              "            + ' to learn more about interactive tables.';\n",
              "          element.innerHTML = '';\n",
              "          dataTable['output_type'] = 'display_data';\n",
              "          await google.colab.output.renderOutput(dataTable, element);\n",
              "          const docLink = document.createElement('div');\n",
              "          docLink.innerHTML = docLinkHtml;\n",
              "          element.appendChild(docLink);\n",
              "        }\n",
              "      </script>\n",
              "    </div>\n",
              "  </div>\n",
              "  "
            ]
          },
          "metadata": {},
          "execution_count": 54
        }
      ]
    },
    {
      "cell_type": "code",
      "metadata": {
        "id": "txHuR6vUXK7-",
        "colab": {
          "base_uri": "https://localhost:8080/"
        },
        "outputId": "705eb272-256b-4e4d-9d71-882d2edaa178"
      },
      "source": [
        "data.shape"
      ],
      "execution_count": 55,
      "outputs": [
        {
          "output_type": "execute_result",
          "data": {
            "text/plain": [
              "(1000, 12)"
            ]
          },
          "metadata": {},
          "execution_count": 55
        }
      ]
    },
    {
      "cell_type": "code",
      "metadata": {
        "id": "Ssm3ewabXLFx"
      },
      "source": [
        "#sns.pairplot(data[['years', 'km', 'rating', 'condition', 'economy', 'top speed', 'hp', 'torque', 'current price']], diag_kind='kde')"
      ],
      "execution_count": 56,
      "outputs": []
    },
    {
      "cell_type": "code",
      "metadata": {
        "id": "kbKG64L3XLIh",
        "colab": {
          "base_uri": "https://localhost:8080/"
        },
        "outputId": "1a21d09d-2675-45a1-ae25-8377559d4602"
      },
      "source": [
        "tensor_data = tf.constant(data)\n",
        "tensor_data = tf.cast(tensor_data, tf.float32)\n",
        "print(tensor_data)"
      ],
      "execution_count": 57,
      "outputs": [
        {
          "output_type": "stream",
          "name": "stdout",
          "text": [
            "tf.Tensor(\n",
            "[[1.000000e+00 5.356510e+05 7.981860e+05 ... 7.300000e+01 1.230000e+02\n",
            "  3.513180e+05]\n",
            " [2.000000e+00 5.919110e+05 8.610560e+05 ... 7.400000e+01 9.500000e+01\n",
            "  2.850015e+05]\n",
            " [3.000000e+00 6.869900e+05 7.707620e+05 ... 5.300000e+01 9.700000e+01\n",
            "  2.153860e+05]\n",
            " ...\n",
            " [9.980000e+02 6.463440e+05 8.427330e+05 ... 1.130000e+02 8.900000e+01\n",
            "  4.058710e+05]\n",
            " [9.990000e+02 5.355590e+05 7.324390e+05 ... 1.120000e+02 1.280000e+02\n",
            "  7.439800e+04]\n",
            " [1.000000e+03 5.901050e+05 7.797430e+05 ... 9.900000e+01 9.600000e+01\n",
            "  4.149385e+05]], shape=(1000, 12), dtype=float32)\n"
          ]
        }
      ]
    },
    {
      "cell_type": "code",
      "source": [
        "tensor_data[0]"
      ],
      "metadata": {
        "colab": {
          "base_uri": "https://localhost:8080/"
        },
        "id": "tzN4qDq_pGVq",
        "outputId": "743db45e-3653-4b20-b512-6032e5499967"
      },
      "execution_count": 58,
      "outputs": [
        {
          "output_type": "execute_result",
          "data": {
            "text/plain": [
              "<tf.Tensor: shape=(12,), dtype=float32, numpy=\n",
              "array([1.00000e+00, 5.35651e+05, 7.98186e+05, 3.00000e+00, 7.89450e+04,\n",
              "       1.00000e+00, 2.00000e+00, 1.40000e+01, 1.77000e+02, 7.30000e+01,\n",
              "       1.23000e+02, 3.51318e+05], dtype=float32)>"
            ]
          },
          "metadata": {},
          "execution_count": 58
        }
      ]
    },
    {
      "cell_type": "code",
      "metadata": {
        "id": "7xxpRZBmXLLM",
        "outputId": "a70b1fc1-8b21-48cd-e3b4-1ab9c6f25638",
        "colab": {
          "base_uri": "https://localhost:8080/"
        }
      },
      "source": [
        "tensor_data = tf.random.shuffle(tensor_data)\n",
        "print(tensor_data[:5])"
      ],
      "execution_count": 59,
      "outputs": [
        {
          "output_type": "stream",
          "name": "stdout",
          "text": [
            "tf.Tensor(\n",
            "[[8.310000e+02 5.560730e+05 7.159720e+05 6.000000e+00 8.244000e+04\n",
            "  5.000000e+00 8.000000e+00 1.500000e+01 1.800000e+02 5.800000e+01\n",
            "  1.010000e+02 3.206030e+05]\n",
            " [7.680000e+02 6.275690e+05 8.936490e+05 4.000000e+00 7.333200e+04\n",
            "  1.000000e+00 1.000000e+00 1.400000e+01 1.990000e+02 1.110000e+02\n",
            "  1.030000e+02 4.670745e+05]\n",
            " [8.860000e+02 6.305970e+05 7.917000e+05 3.000000e+00 8.393800e+04\n",
            "  5.000000e+00 4.000000e+00 1.200000e+01 1.360000e+02 5.600000e+01\n",
            "  1.150000e+02 3.775750e+05]\n",
            " [1.690000e+02 6.858060e+05 8.983470e+05 3.000000e+00 7.636300e+04\n",
            "  4.000000e+00 8.000000e+00 8.000000e+00 1.520000e+02 1.150000e+02\n",
            "  8.400000e+01 5.036065e+05]\n",
            " [3.370000e+02 5.057850e+05 8.563780e+05 2.000000e+00 6.834300e+04\n",
            "  3.000000e+00 3.000000e+00 1.300000e+01 1.570000e+02 1.030000e+02\n",
            "  1.050000e+02 4.082035e+05]], shape=(5, 12), dtype=float32)\n"
          ]
        }
      ]
    },
    {
      "cell_type": "code",
      "metadata": {
        "id": "Q5kVK2udXLOE",
        "colab": {
          "base_uri": "https://localhost:8080/"
        },
        "outputId": "1b902a31-a525-4c38-828c-70eac64625f1"
      },
      "source": [
        "X = tensor_data[:,3:-1]\n",
        "print(X[:5])"
      ],
      "execution_count": 60,
      "outputs": [
        {
          "output_type": "stream",
          "name": "stdout",
          "text": [
            "tf.Tensor(\n",
            "[[6.0000e+00 8.2440e+04 5.0000e+00 8.0000e+00 1.5000e+01 1.8000e+02\n",
            "  5.8000e+01 1.0100e+02]\n",
            " [4.0000e+00 7.3332e+04 1.0000e+00 1.0000e+00 1.4000e+01 1.9900e+02\n",
            "  1.1100e+02 1.0300e+02]\n",
            " [3.0000e+00 8.3938e+04 5.0000e+00 4.0000e+00 1.2000e+01 1.3600e+02\n",
            "  5.6000e+01 1.1500e+02]\n",
            " [3.0000e+00 7.6363e+04 4.0000e+00 8.0000e+00 8.0000e+00 1.5200e+02\n",
            "  1.1500e+02 8.4000e+01]\n",
            " [2.0000e+00 6.8343e+04 3.0000e+00 3.0000e+00 1.3000e+01 1.5700e+02\n",
            "  1.0300e+02 1.0500e+02]], shape=(5, 8), dtype=float32)\n"
          ]
        }
      ]
    },
    {
      "cell_type": "code",
      "source": [
        "X.shape"
      ],
      "metadata": {
        "colab": {
          "base_uri": "https://localhost:8080/"
        },
        "id": "ZSmTL-EFvL76",
        "outputId": "e3ce9a07-7c68-4693-ebf7-b63b61af6d7f"
      },
      "execution_count": 61,
      "outputs": [
        {
          "output_type": "execute_result",
          "data": {
            "text/plain": [
              "TensorShape([1000, 8])"
            ]
          },
          "metadata": {},
          "execution_count": 61
        }
      ]
    },
    {
      "cell_type": "code",
      "source": [
        "len(X)"
      ],
      "metadata": {
        "id": "RcMT_OJptMY_",
        "outputId": "524b6b28-b585-4ed3-aae7-ffdece84cd32",
        "colab": {
          "base_uri": "https://localhost:8080/"
        }
      },
      "execution_count": 62,
      "outputs": [
        {
          "output_type": "execute_result",
          "data": {
            "text/plain": [
              "1000"
            ]
          },
          "metadata": {},
          "execution_count": 62
        }
      ]
    },
    {
      "cell_type": "code",
      "metadata": {
        "id": "KOy9jxS-XLQu",
        "colab": {
          "base_uri": "https://localhost:8080/"
        },
        "outputId": "c1fe97b4-069e-46c4-caae-d28affe63b1c"
      },
      "source": [
        "y = tensor_data[:,-1]\n",
        "print(y[:5].shape)\n",
        "y = tf.expand_dims(y, axis = -1)\n",
        "print(y[:5])"
      ],
      "execution_count": 63,
      "outputs": [
        {
          "output_type": "stream",
          "name": "stdout",
          "text": [
            "(5,)\n",
            "tf.Tensor(\n",
            "[[320603. ]\n",
            " [467074.5]\n",
            " [377575. ]\n",
            " [503606.5]\n",
            " [408203.5]], shape=(5, 1), dtype=float32)\n"
          ]
        }
      ]
    },
    {
      "cell_type": "code",
      "source": [
        "a = tf.constant([[1,2,3,4,5],[1,2,3,4,5]])\n",
        "norm1 = Normalization(axis=0,mean=10,variance=4) #axis is for x_hat\n",
        "norm2 = Normalization(axis=1,mean=10,variance=4)\n",
        "norm3 = Normalization(axis=-1,mean=10,variance=4)\n",
        "norm4 = Normalization()\n",
        "print(norm1(a))\n",
        "print(norm2(a))\n",
        "print(norm3(a))\n",
        "print(norm4(a))\n"
      ],
      "metadata": {
        "colab": {
          "base_uri": "https://localhost:8080/"
        },
        "id": "6bW4OAp4wLyx",
        "outputId": "70625836-4f2e-4fcb-8dfc-68c3c6a64b54"
      },
      "execution_count": 64,
      "outputs": [
        {
          "output_type": "stream",
          "name": "stdout",
          "text": [
            "tf.Tensor(\n",
            "[[-4.5 -4.  -3.5 -3.  -2.5]\n",
            " [-4.5 -4.  -3.5 -3.  -2.5]], shape=(2, 5), dtype=float32)\n",
            "tf.Tensor(\n",
            "[[-4.5 -4.  -3.5 -3.  -2.5]\n",
            " [-4.5 -4.  -3.5 -3.  -2.5]], shape=(2, 5), dtype=float32)\n",
            "tf.Tensor(\n",
            "[[-4.5 -4.  -3.5 -3.  -2.5]\n",
            " [-4.5 -4.  -3.5 -3.  -2.5]], shape=(2, 5), dtype=float32)\n",
            "tf.Tensor(\n",
            "[[1. 2. 3. 4. 5.]\n",
            " [1. 2. 3. 4. 5.]], shape=(2, 5), dtype=float32)\n"
          ]
        }
      ]
    },
    {
      "cell_type": "code",
      "metadata": {
        "id": "1tGN1KNQXLTl",
        "colab": {
          "base_uri": "https://localhost:8080/"
        },
        "outputId": "adf5dc36-2595-4e5b-aec9-c8e054aa6fbc"
      },
      "source": [
        "normalizer = Normalization(axis = -1, mean = 5, variance = 4)#axis=-1 is default\n",
        "x_normalized = tf.constant([[3,4,5,6,7],\n",
        "                            [4,5,6,7,8]])\n",
        "normalizer(x_normalized)"
      ],
      "execution_count": 65,
      "outputs": [
        {
          "output_type": "execute_result",
          "data": {
            "text/plain": [
              "<tf.Tensor: shape=(2, 5), dtype=float32, numpy=\n",
              "array([[-1. , -0.5,  0. ,  0.5,  1. ],\n",
              "       [-0.5,  0. ,  0.5,  1. ,  1.5]], dtype=float32)>"
            ]
          },
          "metadata": {},
          "execution_count": 65
        }
      ]
    },
    {
      "cell_type": "code",
      "metadata": {
        "id": "ybWIORDvXLWq",
        "colab": {
          "base_uri": "https://localhost:8080/"
        },
        "outputId": "bcffe163-0ce1-484b-ff60-ed95865794ff"
      },
      "source": [
        "normalizer = Normalization()\n",
        "x_normalized = tf.constant([[3,4,5,6,7],\n",
        "                            [4,10,6,7,8],\n",
        "                            [32,1,56,3,5]])\n",
        "normalizer.adapt(x_normalized)\n",
        "normalizer(x_normalized)"
      ],
      "execution_count": 66,
      "outputs": [
        {
          "output_type": "execute_result",
          "data": {
            "text/plain": [
              "<tf.Tensor: shape=(3, 5), dtype=float32, numpy=\n",
              "array([[-0.7439795 , -0.26726124, -0.72800297,  0.3922322 ,  0.2672614 ],\n",
              "       [-0.6695816 ,  1.3363062 , -0.6860028 ,  0.9805806 ,  1.0690452 ],\n",
              "       [ 1.4135611 , -1.069045  ,  1.4140056 , -1.3728131 , -1.3363061 ]],\n",
              "      dtype=float32)>"
            ]
          },
          "metadata": {},
          "execution_count": 66
        }
      ]
    },
    {
      "cell_type": "code",
      "metadata": {
        "id": "0JiTE-U_XLZK",
        "colab": {
          "base_uri": "https://localhost:8080/"
        },
        "outputId": "40c6733d-1202-4e5f-8f2d-4e3d496d0bf5"
      },
      "source": [
        "print(X.shape)"
      ],
      "execution_count": 67,
      "outputs": [
        {
          "output_type": "stream",
          "name": "stdout",
          "text": [
            "(1000, 8)\n"
          ]
        }
      ]
    },
    {
      "cell_type": "code",
      "metadata": {
        "id": "NjehtcxAW6av"
      },
      "source": [
        "TRAIN_RATIO = 0.8\n",
        "VAL_RATIO = 0.1\n",
        "TEST_RATIO = 0.1\n",
        "DATASET_SIZE = len(X) #1000*0.8 = 800"
      ],
      "execution_count": 68,
      "outputs": []
    },
    {
      "cell_type": "code",
      "metadata": {
        "colab": {
          "base_uri": "https://localhost:8080/"
        },
        "id": "27pin8soXEue",
        "outputId": "87d4f9cd-6b68-47cb-a8d9-b9f492c71dea"
      },
      "source": [
        "X_train = X[:int(DATASET_SIZE*TRAIN_RATIO)]\n",
        "y_train = y[:int(DATASET_SIZE*TRAIN_RATIO)]\n",
        "print(X_train.shape)\n",
        "print(y_train.shape)"
      ],
      "execution_count": 69,
      "outputs": [
        {
          "output_type": "stream",
          "name": "stdout",
          "text": [
            "(800, 8)\n",
            "(800, 1)\n"
          ]
        }
      ]
    },
    {
      "cell_type": "code",
      "source": [
        "y_train"
      ],
      "metadata": {
        "id": "8uQtI3K4xDlu",
        "outputId": "e5cdd8c0-39c3-4d00-f94c-83a92fe4e768",
        "colab": {
          "base_uri": "https://localhost:8080/"
        }
      },
      "execution_count": 70,
      "outputs": [
        {
          "output_type": "execute_result",
          "data": {
            "text/plain": [
              "<tf.Tensor: shape=(800, 1), dtype=float32, numpy=\n",
              "array([[320603. ],\n",
              "       [467074.5],\n",
              "       [377575. ],\n",
              "       [503606.5],\n",
              "       [408203.5],\n",
              "       [360410. ],\n",
              "       [314149. ],\n",
              "       [184900.5],\n",
              "       [372595.5],\n",
              "       [312469. ],\n",
              "       [397183. ],\n",
              "       [ 87234.5],\n",
              "       [339335.5],\n",
              "       [273761. ],\n",
              "       [192576. ],\n",
              "       [510929. ],\n",
              "       [399055.5],\n",
              "       [248248.5],\n",
              "       [301042.5],\n",
              "       [451290. ],\n",
              "       [456840.5],\n",
              "       [150074. ],\n",
              "       [299609. ],\n",
              "       [262576. ],\n",
              "       [406349.5],\n",
              "       [324373. ],\n",
              "       [490779.5],\n",
              "       [413954.5],\n",
              "       [324899.5],\n",
              "       [388209.5],\n",
              "       [239214. ],\n",
              "       [273728. ],\n",
              "       [379608. ],\n",
              "       [491123. ],\n",
              "       [248119.5],\n",
              "       [207552. ],\n",
              "       [208573.5],\n",
              "       [392635.5],\n",
              "       [518845. ],\n",
              "       [108354. ],\n",
              "       [ 98489.5],\n",
              "       [499121. ],\n",
              "       [308643.5],\n",
              "       [165595. ],\n",
              "       [202702. ],\n",
              "       [401011.5],\n",
              "       [229982. ],\n",
              "       [294502.5],\n",
              "       [152879.5],\n",
              "       [357294. ],\n",
              "       [401745. ],\n",
              "       [222063.5],\n",
              "       [144124. ],\n",
              "       [210661.5],\n",
              "       [302011.5],\n",
              "       [303506.5],\n",
              "       [221781. ],\n",
              "       [420403. ],\n",
              "       [104215. ],\n",
              "       [465338.5],\n",
              "       [172859.5],\n",
              "       [497572.5],\n",
              "       [307008. ],\n",
              "       [432836. ],\n",
              "       [245854.5],\n",
              "       [305002.5],\n",
              "       [385196. ],\n",
              "       [196639.5],\n",
              "       [224359.5],\n",
              "       [140798.5],\n",
              "       [375097.5],\n",
              "       [308220.5],\n",
              "       [303419. ],\n",
              "       [398513.5],\n",
              "       [109828.5],\n",
              "       [190949. ],\n",
              "       [136079. ],\n",
              "       [199798. ],\n",
              "       [202503. ],\n",
              "       [164649.5],\n",
              "       [231291.5],\n",
              "       [266341. ],\n",
              "       [382241. ],\n",
              "       [216302. ],\n",
              "       [489368. ],\n",
              "       [294378.5],\n",
              "       [293875.5],\n",
              "       [469084.5],\n",
              "       [395188. ],\n",
              "       [316827.5],\n",
              "       [247277.5],\n",
              "       [253055. ],\n",
              "       [457463. ],\n",
              "       [257565.5],\n",
              "       [304104.5],\n",
              "       [496514. ],\n",
              "       [107147.5],\n",
              "       [308867. ],\n",
              "       [258692. ],\n",
              "       [156513. ],\n",
              "       [526394. ],\n",
              "       [207352.5],\n",
              "       [275045.5],\n",
              "       [167794. ],\n",
              "       [123719.5],\n",
              "       [206296.5],\n",
              "       [158511. ],\n",
              "       [ 97969. ],\n",
              "       [180368.5],\n",
              "       [460019.5],\n",
              "       [250309.5],\n",
              "       [333278. ],\n",
              "       [426760. ],\n",
              "       [354900. ],\n",
              "       [141833.5],\n",
              "       [180891.5],\n",
              "       [502519. ],\n",
              "       [316652. ],\n",
              "       [466398. ],\n",
              "       [418871.5],\n",
              "       [128489.5],\n",
              "       [305463. ],\n",
              "       [446300.5],\n",
              "       [315131.5],\n",
              "       [471527.5],\n",
              "       [526502.5],\n",
              "       [368522.5],\n",
              "       [408452.5],\n",
              "       [116254.5],\n",
              "       [499647. ],\n",
              "       [344495. ],\n",
              "       [168940.5],\n",
              "       [486308.5],\n",
              "       [417693.5],\n",
              "       [173847. ],\n",
              "       [244640. ],\n",
              "       [238941. ],\n",
              "       [333091.5],\n",
              "       [240926. ],\n",
              "       [424290. ],\n",
              "       [452931. ],\n",
              "       [ 93713. ],\n",
              "       [140884. ],\n",
              "       [293841. ],\n",
              "       [314576.5],\n",
              "       [165741.5],\n",
              "       [426796.5],\n",
              "       [ 58384. ],\n",
              "       [553901. ],\n",
              "       [353318. ],\n",
              "       [427590. ],\n",
              "       [439166. ],\n",
              "       [364155.5],\n",
              "       [307993. ],\n",
              "       [237204. ],\n",
              "       [206999.5],\n",
              "       [170104.5],\n",
              "       [291776.5],\n",
              "       [448106.5],\n",
              "       [253037. ],\n",
              "       [ 76772. ],\n",
              "       [512492. ],\n",
              "       [559108. ],\n",
              "       [132026.5],\n",
              "       [584116.5],\n",
              "       [291815.5],\n",
              "       [389925.5],\n",
              "       [502708.5],\n",
              "       [287675. ],\n",
              "       [295406.5],\n",
              "       [260801. ],\n",
              "       [158250.5],\n",
              "       [316387.5],\n",
              "       [172415. ],\n",
              "       [179711.5],\n",
              "       [389512. ],\n",
              "       [312323.5],\n",
              "       [119387. ],\n",
              "       [187050. ],\n",
              "       [160597.5],\n",
              "       [422497. ],\n",
              "       [420401. ],\n",
              "       [295013. ],\n",
              "       [500164. ],\n",
              "       [ 96554. ],\n",
              "       [172032.5],\n",
              "       [245796. ],\n",
              "       [515454. ],\n",
              "       [304216.5],\n",
              "       [203811.5],\n",
              "       [311973. ],\n",
              "       [ 74398. ],\n",
              "       [304354. ],\n",
              "       [230428.5],\n",
              "       [449650. ],\n",
              "       [437043.5],\n",
              "       [297625. ],\n",
              "       [ 55925. ],\n",
              "       [155719. ],\n",
              "       [494575.5],\n",
              "       [421655.5],\n",
              "       [126791.5],\n",
              "       [476969.5],\n",
              "       [ 94467.5],\n",
              "       [400444.5],\n",
              "       [215386. ],\n",
              "       [458463.5],\n",
              "       [462715.5],\n",
              "       [515167.5],\n",
              "       [427496. ],\n",
              "       [498418. ],\n",
              "       [ 71314. ],\n",
              "       [221972.5],\n",
              "       [366878.5],\n",
              "       [220518. ],\n",
              "       [336038. ],\n",
              "       [265194. ],\n",
              "       [135874. ],\n",
              "       [262126.5],\n",
              "       [508328.5],\n",
              "       [410516. ],\n",
              "       [301591. ],\n",
              "       [190956.5],\n",
              "       [232718.5],\n",
              "       [407127.5],\n",
              "       [340720. ],\n",
              "       [413424.5],\n",
              "       [275670. ],\n",
              "       [351201.5],\n",
              "       [140061.5],\n",
              "       [315403.5],\n",
              "       [284094.5],\n",
              "       [243549.5],\n",
              "       [459833.5],\n",
              "       [149899.5],\n",
              "       [480307. ],\n",
              "       [433627. ],\n",
              "       [506854. ],\n",
              "       [582347. ],\n",
              "       [307096. ],\n",
              "       [145880.5],\n",
              "       [260231. ],\n",
              "       [280209. ],\n",
              "       [252549.5],\n",
              "       [166571. ],\n",
              "       [440044.5],\n",
              "       [448905.5],\n",
              "       [377108.5],\n",
              "       [428955.5],\n",
              "       [230797. ],\n",
              "       [128632.5],\n",
              "       [420102.5],\n",
              "       [470373. ],\n",
              "       [258268.5],\n",
              "       [243097. ],\n",
              "       [275385. ],\n",
              "       [451307.5],\n",
              "       [308376.5],\n",
              "       [410877. ],\n",
              "       [352284.5],\n",
              "       [186388.5],\n",
              "       [555336.5],\n",
              "       [191566. ],\n",
              "       [207480.5],\n",
              "       [516466. ],\n",
              "       [179077. ],\n",
              "       [197320. ],\n",
              "       [212546.5],\n",
              "       [107500.5],\n",
              "       [337257. ],\n",
              "       [183833.5],\n",
              "       [393351. ],\n",
              "       [122567.5],\n",
              "       [239923. ],\n",
              "       [466371. ],\n",
              "       [393104. ],\n",
              "       [183465.5],\n",
              "       [389610. ],\n",
              "       [500903. ],\n",
              "       [120092.5],\n",
              "       [451140.5],\n",
              "       [558355. ],\n",
              "       [422417. ],\n",
              "       [249765.5],\n",
              "       [315959. ],\n",
              "       [381351.5],\n",
              "       [244295.5],\n",
              "       [513722.5],\n",
              "       [181428.5],\n",
              "       [493994. ],\n",
              "       [ 81507.5],\n",
              "       [417940. ],\n",
              "       [296829. ],\n",
              "       [170838.5],\n",
              "       [317681.5],\n",
              "       [472972.5],\n",
              "       [274453.5],\n",
              "       [109367. ],\n",
              "       [423507. ],\n",
              "       [196816. ],\n",
              "       [236994. ],\n",
              "       [122139.5],\n",
              "       [381960. ],\n",
              "       [318858. ],\n",
              "       [296565.5],\n",
              "       [ 61928.5],\n",
              "       [473834. ],\n",
              "       [233987. ],\n",
              "       [394208.5],\n",
              "       [441863.5],\n",
              "       [441561.5],\n",
              "       [131893.5],\n",
              "       [132159. ],\n",
              "       [422774.5],\n",
              "       [325176. ],\n",
              "       [172462. ],\n",
              "       [157874. ],\n",
              "       [201073. ],\n",
              "       [419748. ],\n",
              "       [531114.5],\n",
              "       [110021.5],\n",
              "       [428602.5],\n",
              "       [405950. ],\n",
              "       [538075.5],\n",
              "       [349780. ],\n",
              "       [400606.5],\n",
              "       [493806.5],\n",
              "       [400257. ],\n",
              "       [456653.5],\n",
              "       [262090. ],\n",
              "       [ 77277. ],\n",
              "       [369149. ],\n",
              "       [433504. ],\n",
              "       [274357.5],\n",
              "       [140216.5],\n",
              "       [392920.5],\n",
              "       [450198.5],\n",
              "       [288556.5],\n",
              "       [180948. ],\n",
              "       [136824.5],\n",
              "       [351318. ],\n",
              "       [512885.5],\n",
              "       [530759. ],\n",
              "       [184571. ],\n",
              "       [235251.5],\n",
              "       [486590. ],\n",
              "       [322951.5],\n",
              "       [110883.5],\n",
              "       [181414.5],\n",
              "       [177509.5],\n",
              "       [272075. ],\n",
              "       [324260. ],\n",
              "       [413540. ],\n",
              "       [510361.5],\n",
              "       [197266. ],\n",
              "       [218908. ],\n",
              "       [250771. ],\n",
              "       [339888. ],\n",
              "       [369571.5],\n",
              "       [110229.5],\n",
              "       [295553.5],\n",
              "       [218665.5],\n",
              "       [492951. ],\n",
              "       [ 53470.5],\n",
              "       [472081. ],\n",
              "       [113942. ],\n",
              "       [462499. ],\n",
              "       [408860.5],\n",
              "       [458591.5],\n",
              "       [360008. ],\n",
              "       [396244. ],\n",
              "       [197714.5],\n",
              "       [276960.5],\n",
              "       [459686.5],\n",
              "       [198511.5],\n",
              "       [355175. ],\n",
              "       [274075. ],\n",
              "       [224745. ],\n",
              "       [412014.5],\n",
              "       [444625. ],\n",
              "       [486699. ],\n",
              "       [331819.5],\n",
              "       [212553.5],\n",
              "       [350647.5],\n",
              "       [255901.5],\n",
              "       [276805.5],\n",
              "       [248738. ],\n",
              "       [298023. ],\n",
              "       [ 90220. ],\n",
              "       [244287.5],\n",
              "       [ 95533.5],\n",
              "       [ 78924.5],\n",
              "       [ 69231.5],\n",
              "       [221412.5],\n",
              "       [185485.5],\n",
              "       [108223.5],\n",
              "       [295002. ],\n",
              "       [459914.5],\n",
              "       [253476.5],\n",
              "       [378071.5],\n",
              "       [343416.5],\n",
              "       [321363. ],\n",
              "       [441865. ],\n",
              "       [267953.5],\n",
              "       [113700. ],\n",
              "       [242950. ],\n",
              "       [366732. ],\n",
              "       [431060. ],\n",
              "       [304818. ],\n",
              "       [340112. ],\n",
              "       [ 82848. ],\n",
              "       [205716.5],\n",
              "       [265799.5],\n",
              "       [193067. ],\n",
              "       [ 97526. ],\n",
              "       [460075. ],\n",
              "       [302929.5],\n",
              "       [332478.5],\n",
              "       [422439.5],\n",
              "       [362377. ],\n",
              "       [281037.5],\n",
              "       [167978.5],\n",
              "       [400027.5],\n",
              "       [287588.5],\n",
              "       [228875.5],\n",
              "       [527409.5],\n",
              "       [208468. ],\n",
              "       [380289.5],\n",
              "       [373735. ],\n",
              "       [221692. ],\n",
              "       [312454.5],\n",
              "       [199313.5],\n",
              "       [261568. ],\n",
              "       [398023. ],\n",
              "       [421679.5],\n",
              "       [282418.5],\n",
              "       [307255. ],\n",
              "       [121022. ],\n",
              "       [242173.5],\n",
              "       [503307.5],\n",
              "       [447337. ],\n",
              "       [137169.5],\n",
              "       [425777.5],\n",
              "       [423231.5],\n",
              "       [468666. ],\n",
              "       [457880.5],\n",
              "       [460780. ],\n",
              "       [115351. ],\n",
              "       [169674.5],\n",
              "       [158951.5],\n",
              "       [456827.5],\n",
              "       [ 53040. ],\n",
              "       [202883.5],\n",
              "       [159647. ],\n",
              "       [ 62737. ],\n",
              "       [209639. ],\n",
              "       [382676. ],\n",
              "       [474562.5],\n",
              "       [443528. ],\n",
              "       [501662.5],\n",
              "       [133006.5],\n",
              "       [467471.5],\n",
              "       [304923.5],\n",
              "       [269532.5],\n",
              "       [354722. ],\n",
              "       [215633.5],\n",
              "       [385248.5],\n",
              "       [224958.5],\n",
              "       [470890.5],\n",
              "       [118348.5],\n",
              "       [216327. ],\n",
              "       [243565.5],\n",
              "       [264084.5],\n",
              "       [399672. ],\n",
              "       [256356. ],\n",
              "       [424305. ],\n",
              "       [167281.5],\n",
              "       [532570.5],\n",
              "       [229110. ],\n",
              "       [273674.5],\n",
              "       [434336.5],\n",
              "       [463054.5],\n",
              "       [282496.5],\n",
              "       [452633. ],\n",
              "       [433615.5],\n",
              "       [340760. ],\n",
              "       [289117. ],\n",
              "       [328698. ],\n",
              "       [250955. ],\n",
              "       [150076. ],\n",
              "       [360675. ],\n",
              "       [244229. ],\n",
              "       [201188.5],\n",
              "       [313095.5],\n",
              "       [175810. ],\n",
              "       [385031. ],\n",
              "       [387089. ],\n",
              "       [151836.5],\n",
              "       [356606.5],\n",
              "       [195854. ],\n",
              "       [114860. ],\n",
              "       [484480.5],\n",
              "       [248983. ],\n",
              "       [306690. ],\n",
              "       [151474. ],\n",
              "       [178991.5],\n",
              "       [144272.5],\n",
              "       [148491. ],\n",
              "       [171620. ],\n",
              "       [111185. ],\n",
              "       [126070.5],\n",
              "       [218983.5],\n",
              "       [379491. ],\n",
              "       [174399. ],\n",
              "       [420083. ],\n",
              "       [275757. ],\n",
              "       [318148. ],\n",
              "       [315542.5],\n",
              "       [110359.5],\n",
              "       [134035. ],\n",
              "       [356189. ],\n",
              "       [188186. ],\n",
              "       [547746. ],\n",
              "       [458139. ],\n",
              "       [392864. ],\n",
              "       [156825.5],\n",
              "       [188131.5],\n",
              "       [223594.5],\n",
              "       [483663.5],\n",
              "       [163225. ],\n",
              "       [187009. ],\n",
              "       [380928.5],\n",
              "       [353237. ],\n",
              "       [167998. ],\n",
              "       [330281.5],\n",
              "       [150234.5],\n",
              "       [197430.5],\n",
              "       [376267.5],\n",
              "       [333133. ],\n",
              "       [273707. ],\n",
              "       [316184. ],\n",
              "       [528770. ],\n",
              "       [415493. ],\n",
              "       [446487.5],\n",
              "       [503648. ],\n",
              "       [379725. ],\n",
              "       [158741.5],\n",
              "       [320008. ],\n",
              "       [383570.5],\n",
              "       [283248. ],\n",
              "       [271956. ],\n",
              "       [427132.5],\n",
              "       [245810. ],\n",
              "       [456154.5],\n",
              "       [269326. ],\n",
              "       [232826.5],\n",
              "       [266983.5],\n",
              "       [120869.5],\n",
              "       [178642.5],\n",
              "       [198738. ],\n",
              "       [302878.5],\n",
              "       [271010.5],\n",
              "       [475984.5],\n",
              "       [246460. ],\n",
              "       [311109. ],\n",
              "       [144191.5],\n",
              "       [293424.5],\n",
              "       [168854.5],\n",
              "       [100927. ],\n",
              "       [392097.5],\n",
              "       [219462.5],\n",
              "       [169954. ],\n",
              "       [ 98242.5],\n",
              "       [301081.5],\n",
              "       [279833.5],\n",
              "       [425960. ],\n",
              "       [261732. ],\n",
              "       [539377. ],\n",
              "       [333655.5],\n",
              "       [420631. ],\n",
              "       [528418.5],\n",
              "       [258300. ],\n",
              "       [529318.5],\n",
              "       [243006.5],\n",
              "       [299655. ],\n",
              "       [284727.5],\n",
              "       [453069. ],\n",
              "       [305652.5],\n",
              "       [299129.5],\n",
              "       [169125.5],\n",
              "       [125454. ],\n",
              "       [504643.5],\n",
              "       [352345. ],\n",
              "       [291031.5],\n",
              "       [418504. ],\n",
              "       [112604. ],\n",
              "       [403886.5],\n",
              "       [477912. ],\n",
              "       [508087. ],\n",
              "       [ 70862. ],\n",
              "       [322204. ],\n",
              "       [370175. ],\n",
              "       [198892. ],\n",
              "       [315866.5],\n",
              "       [494542. ],\n",
              "       [520659.5],\n",
              "       [435007.5],\n",
              "       [ 80996. ],\n",
              "       [166283. ],\n",
              "       [311773.5],\n",
              "       [234142.5],\n",
              "       [146787. ],\n",
              "       [149141.5],\n",
              "       [351704.5],\n",
              "       [553855. ],\n",
              "       [467395. ],\n",
              "       [398998. ],\n",
              "       [306982.5],\n",
              "       [137514. ],\n",
              "       [379991. ],\n",
              "       [362434.5],\n",
              "       [328973.5],\n",
              "       [360647.5],\n",
              "       [376446. ],\n",
              "       [413288. ],\n",
              "       [344539. ],\n",
              "       [462397.5],\n",
              "       [508432. ],\n",
              "       [234835.5],\n",
              "       [228892.5],\n",
              "       [515722.5],\n",
              "       [172234.5],\n",
              "       [344820.5],\n",
              "       [496293.5],\n",
              "       [326161.5],\n",
              "       [425567.5],\n",
              "       [476955.5],\n",
              "       [230080. ],\n",
              "       [304445. ],\n",
              "       [348000. ],\n",
              "       [153371.5],\n",
              "       [315925. ],\n",
              "       [240353.5],\n",
              "       [ 64531. ],\n",
              "       [354409.5],\n",
              "       [297886. ],\n",
              "       [377706.5],\n",
              "       [482353.5],\n",
              "       [419713. ],\n",
              "       [386141. ],\n",
              "       [441395.5],\n",
              "       [213739. ],\n",
              "       [273659.5],\n",
              "       [225669.5],\n",
              "       [432159.5],\n",
              "       [300499.5],\n",
              "       [584267.5],\n",
              "       [163814. ],\n",
              "       [186356.5],\n",
              "       [337917. ],\n",
              "       [187305. ],\n",
              "       [501920.5],\n",
              "       [483884. ],\n",
              "       [160150.5],\n",
              "       [337327. ],\n",
              "       [317168.5],\n",
              "       [218814. ],\n",
              "       [333672. ],\n",
              "       [455824.5],\n",
              "       [313879. ],\n",
              "       [329538.5],\n",
              "       [169784. ],\n",
              "       [164382. ],\n",
              "       [233139. ],\n",
              "       [424107.5],\n",
              "       [443423. ],\n",
              "       [461900.5],\n",
              "       [454168.5],\n",
              "       [125721.5],\n",
              "       [312703. ],\n",
              "       [282821.5],\n",
              "       [153991. ],\n",
              "       [192853.5],\n",
              "       [437540.5],\n",
              "       [496671. ],\n",
              "       [406657.5],\n",
              "       [457581. ],\n",
              "       [283208. ],\n",
              "       [256476.5],\n",
              "       [237730. ],\n",
              "       [379566. ],\n",
              "       [315914.5],\n",
              "       [340961.5],\n",
              "       [453672.5],\n",
              "       [318951. ],\n",
              "       [184092.5],\n",
              "       [385556.5],\n",
              "       [241487.5],\n",
              "       [492753. ],\n",
              "       [528794. ],\n",
              "       [320391.5],\n",
              "       [175012.5],\n",
              "       [268314. ],\n",
              "       [246242. ],\n",
              "       [469956. ],\n",
              "       [479318.5],\n",
              "       [206678. ],\n",
              "       [410403.5],\n",
              "       [498148. ],\n",
              "       [505336.5],\n",
              "       [340165. ],\n",
              "       [314523.5],\n",
              "       [327454.5],\n",
              "       [464634.5],\n",
              "       [443735.5],\n",
              "       [153381.5],\n",
              "       [285487. ],\n",
              "       [371227. ],\n",
              "       [158031.5],\n",
              "       [348535. ],\n",
              "       [328863. ],\n",
              "       [180476.5],\n",
              "       [ 98311.5],\n",
              "       [533610.5],\n",
              "       [288926. ],\n",
              "       [424781. ],\n",
              "       [292308.5],\n",
              "       [103742.5],\n",
              "       [357823. ],\n",
              "       [235843. ],\n",
              "       [151080.5],\n",
              "       [310987. ],\n",
              "       [319728. ],\n",
              "       [242273.5],\n",
              "       [505223.5],\n",
              "       [528607.5],\n",
              "       [177748.5],\n",
              "       [213768.5],\n",
              "       [438032.5],\n",
              "       [420075.5],\n",
              "       [488457. ],\n",
              "       [349762. ],\n",
              "       [528634. ],\n",
              "       [383875.5],\n",
              "       [340777. ],\n",
              "       [483708.5],\n",
              "       [401500. ],\n",
              "       [313619.5],\n",
              "       [102144.5],\n",
              "       [130233.5],\n",
              "       [380231. ],\n",
              "       [537014. ],\n",
              "       [342427. ],\n",
              "       [438223. ],\n",
              "       [129863. ],\n",
              "       [405505. ],\n",
              "       [439864.5],\n",
              "       [124847.5],\n",
              "       [224533.5],\n",
              "       [427079. ],\n",
              "       [265955. ],\n",
              "       [389099. ],\n",
              "       [208189.5],\n",
              "       [140796.5],\n",
              "       [226087.5],\n",
              "       [315841.5],\n",
              "       [506401. ],\n",
              "       [457793. ],\n",
              "       [217446. ],\n",
              "       [108894. ],\n",
              "       [378132.5],\n",
              "       [239746. ],\n",
              "       [ 65467.5],\n",
              "       [327994. ],\n",
              "       [364898. ],\n",
              "       [306660. ],\n",
              "       [312593. ],\n",
              "       [375118. ],\n",
              "       [283184. ],\n",
              "       [341328. ],\n",
              "       [468543. ],\n",
              "       [494345.5],\n",
              "       [299645. ],\n",
              "       [148734.5],\n",
              "       [418934. ],\n",
              "       [403213.5],\n",
              "       [200794.5],\n",
              "       [458537. ],\n",
              "       [382461.5],\n",
              "       [253530.5],\n",
              "       [331687. ],\n",
              "       [545171. ],\n",
              "       [329639. ],\n",
              "       [313049.5],\n",
              "       [330908.5],\n",
              "       [429669. ],\n",
              "       [206591. ],\n",
              "       [479896. ],\n",
              "       [217562. ],\n",
              "       [278993.5]], dtype=float32)>"
            ]
          },
          "metadata": {},
          "execution_count": 70
        }
      ]
    },
    {
      "cell_type": "code",
      "metadata": {
        "id": "-9wd1j166mMG"
      },
      "source": [
        "train_dataset = tf.data.Dataset.from_tensor_slices((X_train, y_train))\n",
        "train_dataset = train_dataset.shuffle(buffer_size = 8, reshuffle_each_iteration = True).batch(32).prefetch(tf.data.AUTOTUNE)"
      ],
      "execution_count": 71,
      "outputs": []
    },
    {
      "cell_type": "markdown",
      "source": [
        "tf.data.Dataset is used when dataset is huge and split the data and use api's that comes with it to increase performance"
      ],
      "metadata": {
        "id": "Sw_UVHqESK2C"
      }
    },
    {
      "cell_type": "code",
      "metadata": {
        "colab": {
          "base_uri": "https://localhost:8080/"
        },
        "id": "NCRgNb3dXge1",
        "outputId": "855cfeb7-4361-4240-d00c-01ec3bea43fa"
      },
      "source": [
        "X_val = X[int(DATASET_SIZE*TRAIN_RATIO):int(DATASET_SIZE*(TRAIN_RATIO+VAL_RATIO))] #X[800:900]\n",
        "y_val = y[800:900]\n",
        "print(X_val.shape)\n",
        "print(y_val.shape)\n",
        "y.shape"
      ],
      "execution_count": 72,
      "outputs": [
        {
          "output_type": "stream",
          "name": "stdout",
          "text": [
            "(100, 8)\n",
            "(100, 1)\n"
          ]
        },
        {
          "output_type": "execute_result",
          "data": {
            "text/plain": [
              "TensorShape([1000, 1])"
            ]
          },
          "metadata": {},
          "execution_count": 72
        }
      ]
    },
    {
      "cell_type": "code",
      "metadata": {
        "id": "aBwRpaG0-urM"
      },
      "source": [
        "val_dataset = tf.data.Dataset.from_tensor_slices((X_val, y_val))\n",
        "val_dataset = train_dataset.shuffle(buffer_size = 8, reshuffle_each_iteration = True).batch(32).prefetch(tf.data.AUTOTUNE)"
      ],
      "execution_count": 73,
      "outputs": []
    },
    {
      "cell_type": "markdown",
      "source": [
        "1,2,3,4,5,6 \\\\ 2 is selected\n",
        "buffer_size = 3\n",
        "then \n",
        "movement will be of 3 buffer ie 1,3,4 --> 4 is selected\n",
        "then\n",
        "1,3,5 and so on\n",
        "\n",
        " reshuffle_each_iteration = True means reshuffle dataset after each epoch"
      ],
      "metadata": {
        "id": "1S_3yJ2lPr55"
      }
    },
    {
      "cell_type": "code",
      "metadata": {
        "colab": {
          "base_uri": "https://localhost:8080/"
        },
        "id": "A3ba-zUTX2Xv",
        "outputId": "ceaa48e3-3738-4c5a-f92e-168c6b426b34"
      },
      "source": [
        "X_test = X[int(DATASET_SIZE*(TRAIN_RATIO+VAL_RATIO)):]\n",
        "y_test = y[900:]\n",
        "print(X_test.shape)\n",
        "print(y_test.shape)"
      ],
      "execution_count": 75,
      "outputs": [
        {
          "output_type": "stream",
          "name": "stdout",
          "text": [
            "(100, 8)\n",
            "(100, 1)\n"
          ]
        }
      ]
    },
    {
      "cell_type": "code",
      "metadata": {
        "id": "bd4gJi1n-1mW"
      },
      "source": [
        "test_dataset = tf.data.Dataset.from_tensor_slices((X_test, y_test))\n",
        "test_dataset = train_dataset.shuffle(buffer_size = 8, reshuffle_each_iteration = True).batch(32).prefetch(tf.data.AUTOTUNE)"
      ],
      "execution_count": 76,
      "outputs": []
    },
    {
      "cell_type": "code",
      "metadata": {
        "id": "c1k0dBjFXLcC",
        "colab": {
          "base_uri": "https://localhost:8080/"
        },
        "outputId": "8a1b70b8-7063-4d76-a734-983e0cf9ff7a"
      },
      "source": [
        "normalizer = Normalization()\n",
        "normalizer.adapt(X_train)\n",
        "normalizer(X)[:5]"
      ],
      "execution_count": 77,
      "outputs": [
        {
          "output_type": "execute_result",
          "data": {
            "text/plain": [
              "<tf.Tensor: shape=(5, 8), dtype=float32, numpy=\n",
              "array([[ 0.8442127 , -0.605512  ,  1.4343686 ,  0.843994  ,  1.5035381 ,\n",
              "         0.66863126, -1.2854017 , -0.1076372 ],\n",
              "       [-0.31224304, -0.92038137, -1.4183218 , -1.6357365 ,  1.0577153 ,\n",
              "         1.6606445 ,  1.2905047 , -0.01363095],\n",
              "       [-0.8904709 , -0.5537252 ,  1.4343686 , -0.5729948 ,  0.16606963,\n",
              "        -1.6286626 , -1.3826058 ,  0.5504066 ],\n",
              "       [-0.8904709 , -0.8155978 ,  0.721196  ,  0.843994  , -1.6172217 ,\n",
              "        -0.79328305,  1.4849128 , -0.90669036],\n",
              "       [-1.4686987 , -1.0928543 ,  0.00802338, -0.92724204,  0.61189246,\n",
              "        -0.5322269 ,  0.9016887 ,  0.0803753 ]], dtype=float32)>"
            ]
          },
          "metadata": {},
          "execution_count": 77
        }
      ]
    },
    {
      "cell_type": "markdown",
      "metadata": {
        "id": "CxlimoToLc4C"
      },
      "source": [
        "## **Model Creation and Training**"
      ]
    },
    {
      "cell_type": "code",
      "metadata": {
        "id": "-6u-a70uXLhR",
        "colab": {
          "base_uri": "https://localhost:8080/"
        },
        "outputId": "f36e4157-3b77-42be-d7be-647107e730b2"
      },
      "source": [
        "model = tf.keras.Sequential([\n",
        "                             InputLayer(input_shape = (8,)),\n",
        "                             normalizer,\n",
        "                             Dense(128, activation = \"relu\"),\n",
        "                             Dense(128, activation = \"relu\"),\n",
        "                             Dense(128, activation = \"relu\"),\n",
        "                             Dense(1),\n",
        "])\n",
        "model.summary()"
      ],
      "execution_count": 78,
      "outputs": [
        {
          "output_type": "stream",
          "name": "stdout",
          "text": [
            "Model: \"sequential\"\n",
            "_________________________________________________________________\n",
            " Layer (type)                Output Shape              Param #   \n",
            "=================================================================\n",
            " normalization_18 (Normaliza  (None, 8)                17        \n",
            " tion)                                                           \n",
            "                                                                 \n",
            " dense (Dense)               (None, 128)               1152      \n",
            "                                                                 \n",
            " dense_1 (Dense)             (None, 128)               16512     \n",
            "                                                                 \n",
            " dense_2 (Dense)             (None, 128)               16512     \n",
            "                                                                 \n",
            " dense_3 (Dense)             (None, 1)                 129       \n",
            "                                                                 \n",
            "=================================================================\n",
            "Total params: 34,322\n",
            "Trainable params: 34,305\n",
            "Non-trainable params: 17\n",
            "_________________________________________________________________\n"
          ]
        }
      ]
    },
    {
      "cell_type": "code",
      "metadata": {
        "id": "11E2rU0rV0pM"
      },
      "source": [],
      "execution_count": null,
      "outputs": []
    },
    {
      "cell_type": "code",
      "metadata": {
        "colab": {
          "base_uri": "https://localhost:8080/",
          "height": 644
        },
        "id": "P0-MdiccV0r9",
        "outputId": "1780787e-6511-4b90-a909-688bc7b68e12"
      },
      "source": [
        "tf.keras.utils.plot_model(model, to_file = \"model.png\", show_shapes=True)"
      ],
      "execution_count": 79,
      "outputs": [
        {
          "output_type": "execute_result",
          "data": {
            "image/png": "[encoded data removed]",
            "text/plain": [
              "<IPython.core.display.Image object>"
            ]
          },
          "metadata": {},
          "execution_count": 79
        }
      ]
    },
    {
      "cell_type": "code",
      "metadata": {
        "id": "KckNWiWJV0um"
      },
      "source": [
        "model.compile(optimizer = Adam(learning_rate = 0.1),\n",
        "              loss = MeanAbsoluteError(), #Huber(delta=0.2)\n",
        "              metrics = RootMeanSquaredError())"
      ],
      "execution_count": 80,
      "outputs": []
    },
    {
      "cell_type": "code",
      "metadata": {
        "colab": {
          "base_uri": "https://localhost:8080/"
        },
        "id": "-nQSZ1j0V0xG",
        "outputId": "2af25666-781f-437b-8be0-5a2cd1a7a023"
      },
      "source": [
        "history = model.fit(train_dataset, validation_data=val_dataset, epochs = 100, verbose = 1)"
      ],
      "execution_count": 81,
      "outputs": [
        {
          "output_type": "stream",
          "name": "stdout",
          "text": [
            "Epoch 1/100\n",
            "25/25 [==============================] - 6s 13ms/step - loss: 165648.3125 - root_mean_squared_error: 212303.7656 - val_loss: 59237.7148 - val_root_mean_squared_error: 73531.3359\n",
            "Epoch 2/100\n",
            "25/25 [==============================] - 0s 4ms/step - loss: 58789.8945 - root_mean_squared_error: 72566.4219 - val_loss: 47349.8516 - val_root_mean_squared_error: 58892.9922\n",
            "Epoch 3/100\n",
            "25/25 [==============================] - 0s 4ms/step - loss: 45648.3086 - root_mean_squared_error: 56237.8516 - val_loss: 49960.7969 - val_root_mean_squared_error: 61813.8242\n",
            "Epoch 4/100\n",
            "25/25 [==============================] - 0s 4ms/step - loss: 43118.1992 - root_mean_squared_error: 53003.7773 - val_loss: 43278.4219 - val_root_mean_squared_error: 53674.8789\n",
            "Epoch 5/100\n",
            "25/25 [==============================] - 0s 4ms/step - loss: 39512.5312 - root_mean_squared_error: 48843.9219 - val_loss: 54645.5117 - val_root_mean_squared_error: 65955.2188\n",
            "Epoch 6/100\n",
            "25/25 [==============================] - 0s 4ms/step - loss: 43395.3047 - root_mean_squared_error: 54280.3125 - val_loss: 39731.6641 - val_root_mean_squared_error: 49040.8477\n",
            "Epoch 7/100\n",
            "25/25 [==============================] - 0s 4ms/step - loss: 38649.9844 - root_mean_squared_error: 47537.5312 - val_loss: 46877.1484 - val_root_mean_squared_error: 57707.2461\n",
            "Epoch 8/100\n",
            "25/25 [==============================] - 0s 4ms/step - loss: 40138.8789 - root_mean_squared_error: 50059.0781 - val_loss: 59658.3281 - val_root_mean_squared_error: 71520.4453\n",
            "Epoch 9/100\n",
            "25/25 [==============================] - 0s 4ms/step - loss: 43975.7656 - root_mean_squared_error: 55258.2422 - val_loss: 41933.5391 - val_root_mean_squared_error: 51335.0742\n",
            "Epoch 10/100\n",
            "25/25 [==============================] - 0s 9ms/step - loss: 39172.6016 - root_mean_squared_error: 48324.9414 - val_loss: 52021.6992 - val_root_mean_squared_error: 63173.9609\n",
            "Epoch 11/100\n",
            "25/25 [==============================] - 0s 7ms/step - loss: 42818.4062 - root_mean_squared_error: 53117.7734 - val_loss: 38147.3242 - val_root_mean_squared_error: 47364.7070\n",
            "Epoch 12/100\n",
            "25/25 [==============================] - 0s 11ms/step - loss: 37863.5469 - root_mean_squared_error: 46648.0000 - val_loss: 43884.1133 - val_root_mean_squared_error: 53573.6250\n",
            "Epoch 13/100\n",
            "25/25 [==============================] - 0s 10ms/step - loss: 37137.5234 - root_mean_squared_error: 46053.4727 - val_loss: 48306.6602 - val_root_mean_squared_error: 58297.0977\n",
            "Epoch 14/100\n",
            "25/25 [==============================] - 0s 9ms/step - loss: 39071.0156 - root_mean_squared_error: 48047.3828 - val_loss: 51258.0000 - val_root_mean_squared_error: 61746.1719\n",
            "Epoch 15/100\n",
            "25/25 [==============================] - 0s 10ms/step - loss: 39012.7617 - root_mean_squared_error: 48590.3281 - val_loss: 47228.5508 - val_root_mean_squared_error: 57443.4180\n",
            "Epoch 16/100\n",
            "25/25 [==============================] - 0s 10ms/step - loss: 39002.4297 - root_mean_squared_error: 48470.4102 - val_loss: 36415.3477 - val_root_mean_squared_error: 44740.3281\n",
            "Epoch 17/100\n",
            "25/25 [==============================] - 0s 12ms/step - loss: 37511.7383 - root_mean_squared_error: 46201.2109 - val_loss: 43233.2031 - val_root_mean_squared_error: 53144.1094\n",
            "Epoch 18/100\n",
            "25/25 [==============================] - 0s 4ms/step - loss: 38448.8711 - root_mean_squared_error: 47427.7539 - val_loss: 46645.5391 - val_root_mean_squared_error: 56667.8438\n",
            "Epoch 19/100\n",
            "25/25 [==============================] - 0s 4ms/step - loss: 37892.2031 - root_mean_squared_error: 47360.6914 - val_loss: 47485.3789 - val_root_mean_squared_error: 57197.8789\n",
            "Epoch 20/100\n",
            "25/25 [==============================] - 0s 4ms/step - loss: 39702.3438 - root_mean_squared_error: 49280.3398 - val_loss: 60442.9805 - val_root_mean_squared_error: 71332.9453\n",
            "Epoch 21/100\n",
            "25/25 [==============================] - 0s 4ms/step - loss: 40827.0508 - root_mean_squared_error: 51196.3125 - val_loss: 36141.2656 - val_root_mean_squared_error: 44506.8398\n",
            "Epoch 22/100\n",
            "25/25 [==============================] - 0s 4ms/step - loss: 36834.1289 - root_mean_squared_error: 45109.4609 - val_loss: 34242.5117 - val_root_mean_squared_error: 42479.9180\n",
            "Epoch 23/100\n",
            "25/25 [==============================] - 0s 4ms/step - loss: 35888.1094 - root_mean_squared_error: 44506.8281 - val_loss: 53496.7461 - val_root_mean_squared_error: 64470.4219\n",
            "Epoch 24/100\n",
            "25/25 [==============================] - 0s 4ms/step - loss: 39357.9375 - root_mean_squared_error: 48816.7500 - val_loss: 50192.0859 - val_root_mean_squared_error: 60340.5938\n",
            "Epoch 25/100\n",
            "25/25 [==============================] - 0s 4ms/step - loss: 38497.3320 - root_mean_squared_error: 47716.7930 - val_loss: 43374.2969 - val_root_mean_squared_error: 53070.2500\n",
            "Epoch 26/100\n",
            "25/25 [==============================] - 0s 4ms/step - loss: 37986.9922 - root_mean_squared_error: 47349.1133 - val_loss: 33969.3867 - val_root_mean_squared_error: 42129.7188\n",
            "Epoch 27/100\n",
            "25/25 [==============================] - 0s 4ms/step - loss: 35610.8125 - root_mean_squared_error: 43963.6914 - val_loss: 42577.3242 - val_root_mean_squared_error: 52148.2500\n",
            "Epoch 28/100\n",
            "25/25 [==============================] - 0s 5ms/step - loss: 37320.5703 - root_mean_squared_error: 45765.8594 - val_loss: 36530.9844 - val_root_mean_squared_error: 45403.2539\n",
            "Epoch 29/100\n",
            "25/25 [==============================] - 0s 4ms/step - loss: 35592.2930 - root_mean_squared_error: 43894.4883 - val_loss: 39986.8086 - val_root_mean_squared_error: 49323.1641\n",
            "Epoch 30/100\n",
            "25/25 [==============================] - 0s 4ms/step - loss: 35965.1719 - root_mean_squared_error: 44393.0234 - val_loss: 40150.7188 - val_root_mean_squared_error: 49610.7305\n",
            "Epoch 31/100\n",
            "25/25 [==============================] - 0s 4ms/step - loss: 35788.3867 - root_mean_squared_error: 44396.8711 - val_loss: 45097.7461 - val_root_mean_squared_error: 55118.3359\n",
            "Epoch 32/100\n",
            "25/25 [==============================] - 0s 4ms/step - loss: 38773.0312 - root_mean_squared_error: 47807.9844 - val_loss: 46978.8516 - val_root_mean_squared_error: 56636.2109\n",
            "Epoch 33/100\n",
            "25/25 [==============================] - 0s 4ms/step - loss: 37535.3867 - root_mean_squared_error: 46759.9609 - val_loss: 42379.1758 - val_root_mean_squared_error: 51499.4141\n",
            "Epoch 34/100\n",
            "25/25 [==============================] - 0s 4ms/step - loss: 36866.4141 - root_mean_squared_error: 45712.2148 - val_loss: 55427.2305 - val_root_mean_squared_error: 65770.2578\n",
            "Epoch 35/100\n",
            "25/25 [==============================] - 0s 4ms/step - loss: 39577.0078 - root_mean_squared_error: 49824.5234 - val_loss: 35334.8867 - val_root_mean_squared_error: 43846.0039\n",
            "Epoch 36/100\n",
            "25/25 [==============================] - 0s 4ms/step - loss: 35146.9414 - root_mean_squared_error: 43183.9180 - val_loss: 37407.7891 - val_root_mean_squared_error: 46390.2148\n",
            "Epoch 37/100\n",
            "25/25 [==============================] - 0s 4ms/step - loss: 34301.5469 - root_mean_squared_error: 42555.7812 - val_loss: 47820.2695 - val_root_mean_squared_error: 57741.7539\n",
            "Epoch 38/100\n",
            "25/25 [==============================] - 0s 4ms/step - loss: 38736.3906 - root_mean_squared_error: 48286.5352 - val_loss: 46151.3086 - val_root_mean_squared_error: 55645.7109\n",
            "Epoch 39/100\n",
            "25/25 [==============================] - 0s 4ms/step - loss: 37540.2344 - root_mean_squared_error: 47029.4727 - val_loss: 33862.3594 - val_root_mean_squared_error: 41946.7930\n",
            "Epoch 40/100\n",
            "25/25 [==============================] - 0s 4ms/step - loss: 34594.8359 - root_mean_squared_error: 42655.8516 - val_loss: 37801.5117 - val_root_mean_squared_error: 46732.6836\n",
            "Epoch 41/100\n",
            "25/25 [==============================] - 0s 4ms/step - loss: 37230.1562 - root_mean_squared_error: 46625.0078 - val_loss: 34063.7812 - val_root_mean_squared_error: 42534.4805\n",
            "Epoch 42/100\n",
            "25/25 [==============================] - 0s 4ms/step - loss: 34572.3906 - root_mean_squared_error: 43115.3125 - val_loss: 38362.5195 - val_root_mean_squared_error: 47454.3125\n",
            "Epoch 43/100\n",
            "25/25 [==============================] - 0s 4ms/step - loss: 34922.3906 - root_mean_squared_error: 43665.7656 - val_loss: 39194.1406 - val_root_mean_squared_error: 48184.8867\n",
            "Epoch 44/100\n",
            "25/25 [==============================] - 0s 4ms/step - loss: 39055.9805 - root_mean_squared_error: 48493.5000 - val_loss: 32904.3594 - val_root_mean_squared_error: 40927.3164\n",
            "Epoch 45/100\n",
            "25/25 [==============================] - 0s 4ms/step - loss: 34255.8672 - root_mean_squared_error: 42411.6367 - val_loss: 35095.6016 - val_root_mean_squared_error: 43629.6289\n",
            "Epoch 46/100\n",
            "25/25 [==============================] - 0s 4ms/step - loss: 34827.6992 - root_mean_squared_error: 43129.4023 - val_loss: 34661.6875 - val_root_mean_squared_error: 43466.6367\n",
            "Epoch 47/100\n",
            "25/25 [==============================] - 0s 4ms/step - loss: 34822.2812 - root_mean_squared_error: 43321.1680 - val_loss: 34985.0898 - val_root_mean_squared_error: 43297.3789\n",
            "Epoch 48/100\n",
            "25/25 [==============================] - 0s 4ms/step - loss: 34788.2188 - root_mean_squared_error: 43482.4844 - val_loss: 39751.9062 - val_root_mean_squared_error: 48797.0859\n",
            "Epoch 49/100\n",
            "25/25 [==============================] - 0s 4ms/step - loss: 36513.8984 - root_mean_squared_error: 45503.0391 - val_loss: 49854.9531 - val_root_mean_squared_error: 59534.6953\n",
            "Epoch 50/100\n",
            "25/25 [==============================] - 0s 4ms/step - loss: 39021.3242 - root_mean_squared_error: 48851.2227 - val_loss: 32385.4199 - val_root_mean_squared_error: 40293.7617\n",
            "Epoch 51/100\n",
            "25/25 [==============================] - 0s 4ms/step - loss: 34446.4492 - root_mean_squared_error: 42413.8516 - val_loss: 37202.6836 - val_root_mean_squared_error: 46147.8828\n",
            "Epoch 52/100\n",
            "25/25 [==============================] - 0s 4ms/step - loss: 33704.3164 - root_mean_squared_error: 42090.3203 - val_loss: 39153.8477 - val_root_mean_squared_error: 48141.4414\n",
            "Epoch 53/100\n",
            "25/25 [==============================] - 0s 4ms/step - loss: 33565.0312 - root_mean_squared_error: 42065.8711 - val_loss: 40262.4961 - val_root_mean_squared_error: 49353.9570\n",
            "Epoch 54/100\n",
            "25/25 [==============================] - 0s 4ms/step - loss: 35792.7500 - root_mean_squared_error: 44807.1484 - val_loss: 40799.8555 - val_root_mean_squared_error: 49843.2891\n",
            "Epoch 55/100\n",
            "25/25 [==============================] - 0s 4ms/step - loss: 37893.9883 - root_mean_squared_error: 47112.0078 - val_loss: 34737.7852 - val_root_mean_squared_error: 43491.5391\n",
            "Epoch 56/100\n",
            "25/25 [==============================] - 0s 5ms/step - loss: 36997.5039 - root_mean_squared_error: 46405.1719 - val_loss: 43078.6367 - val_root_mean_squared_error: 52413.7109\n",
            "Epoch 57/100\n",
            "25/25 [==============================] - 0s 4ms/step - loss: 34816.9258 - root_mean_squared_error: 43213.3125 - val_loss: 45593.1016 - val_root_mean_squared_error: 55068.1836\n",
            "Epoch 58/100\n",
            "25/25 [==============================] - 0s 4ms/step - loss: 36485.5234 - root_mean_squared_error: 45926.8281 - val_loss: 34668.6992 - val_root_mean_squared_error: 42916.7148\n",
            "Epoch 59/100\n",
            "25/25 [==============================] - 0s 4ms/step - loss: 33847.9648 - root_mean_squared_error: 42378.4531 - val_loss: 32613.6992 - val_root_mean_squared_error: 40714.1055\n",
            "Epoch 60/100\n",
            "25/25 [==============================] - 0s 5ms/step - loss: 34615.2305 - root_mean_squared_error: 43508.8633 - val_loss: 50552.1445 - val_root_mean_squared_error: 60507.7695\n",
            "Epoch 61/100\n",
            "25/25 [==============================] - 0s 4ms/step - loss: 36461.9844 - root_mean_squared_error: 45563.1328 - val_loss: 44567.5312 - val_root_mean_squared_error: 53447.7305\n",
            "Epoch 62/100\n",
            "25/25 [==============================] - 0s 6ms/step - loss: 36576.4219 - root_mean_squared_error: 46171.3711 - val_loss: 37473.4961 - val_root_mean_squared_error: 45899.3203\n",
            "Epoch 63/100\n",
            "25/25 [==============================] - 0s 6ms/step - loss: 33095.8789 - root_mean_squared_error: 41874.2500 - val_loss: 37060.3867 - val_root_mean_squared_error: 45623.7109\n",
            "Epoch 64/100\n",
            "25/25 [==============================] - 0s 6ms/step - loss: 34388.8750 - root_mean_squared_error: 42805.8633 - val_loss: 34106.6211 - val_root_mean_squared_error: 42570.9609\n",
            "Epoch 65/100\n",
            "25/25 [==============================] - 0s 6ms/step - loss: 34560.0195 - root_mean_squared_error: 43019.5078 - val_loss: 50712.7500 - val_root_mean_squared_error: 60799.2266\n",
            "Epoch 66/100\n",
            "25/25 [==============================] - 0s 6ms/step - loss: 36978.7852 - root_mean_squared_error: 46865.9883 - val_loss: 35805.1094 - val_root_mean_squared_error: 44084.2695\n",
            "Epoch 67/100\n",
            "25/25 [==============================] - 0s 6ms/step - loss: 35434.3164 - root_mean_squared_error: 44878.4648 - val_loss: 37156.0156 - val_root_mean_squared_error: 45511.8945\n",
            "Epoch 68/100\n",
            "25/25 [==============================] - 0s 7ms/step - loss: 34916.4258 - root_mean_squared_error: 44096.9531 - val_loss: 45409.3008 - val_root_mean_squared_error: 55091.9453\n",
            "Epoch 69/100\n",
            "25/25 [==============================] - 0s 4ms/step - loss: 34826.3242 - root_mean_squared_error: 44125.7188 - val_loss: 40971.5938 - val_root_mean_squared_error: 49829.0391\n",
            "Epoch 70/100\n",
            "25/25 [==============================] - 0s 4ms/step - loss: 33703.8555 - root_mean_squared_error: 42404.4570 - val_loss: 31758.9277 - val_root_mean_squared_error: 39474.9375\n",
            "Epoch 71/100\n",
            "25/25 [==============================] - 0s 4ms/step - loss: 32581.3125 - root_mean_squared_error: 40577.7031 - val_loss: 32577.0957 - val_root_mean_squared_error: 40867.6797\n",
            "Epoch 72/100\n",
            "25/25 [==============================] - 0s 4ms/step - loss: 32054.8652 - root_mean_squared_error: 40506.6406 - val_loss: 32287.6934 - val_root_mean_squared_error: 40532.7031\n",
            "Epoch 73/100\n",
            "25/25 [==============================] - 0s 4ms/step - loss: 32844.3867 - root_mean_squared_error: 41277.7695 - val_loss: 38735.8086 - val_root_mean_squared_error: 47915.9453\n",
            "Epoch 74/100\n",
            "25/25 [==============================] - 0s 4ms/step - loss: 32655.9043 - root_mean_squared_error: 41736.3750 - val_loss: 46769.9648 - val_root_mean_squared_error: 56270.4883\n",
            "Epoch 75/100\n",
            "25/25 [==============================] - 0s 4ms/step - loss: 35501.6406 - root_mean_squared_error: 45153.2734 - val_loss: 41642.8633 - val_root_mean_squared_error: 50542.2148\n",
            "Epoch 76/100\n",
            "25/25 [==============================] - 0s 4ms/step - loss: 35100.0195 - root_mean_squared_error: 44749.1641 - val_loss: 32351.2207 - val_root_mean_squared_error: 40385.0547\n",
            "Epoch 77/100\n",
            "25/25 [==============================] - 0s 4ms/step - loss: 31558.1328 - root_mean_squared_error: 40084.7109 - val_loss: 36554.9336 - val_root_mean_squared_error: 44843.6641\n",
            "Epoch 78/100\n",
            "25/25 [==============================] - 0s 4ms/step - loss: 31921.1934 - root_mean_squared_error: 40622.0977 - val_loss: 39079.4531 - val_root_mean_squared_error: 47497.2266\n",
            "Epoch 79/100\n",
            "25/25 [==============================] - 0s 5ms/step - loss: 34464.8164 - root_mean_squared_error: 43632.4883 - val_loss: 36070.8359 - val_root_mean_squared_error: 44324.8203\n",
            "Epoch 80/100\n",
            "25/25 [==============================] - 0s 4ms/step - loss: 36722.3594 - root_mean_squared_error: 46398.1562 - val_loss: 32660.5371 - val_root_mean_squared_error: 40659.0586\n",
            "Epoch 81/100\n",
            "25/25 [==============================] - 0s 4ms/step - loss: 31999.1367 - root_mean_squared_error: 40916.8281 - val_loss: 32455.7324 - val_root_mean_squared_error: 40757.4141\n",
            "Epoch 82/100\n",
            "25/25 [==============================] - 0s 4ms/step - loss: 31153.3008 - root_mean_squared_error: 39481.6797 - val_loss: 39677.6367 - val_root_mean_squared_error: 47973.2148\n",
            "Epoch 83/100\n",
            "25/25 [==============================] - 0s 4ms/step - loss: 34367.1719 - root_mean_squared_error: 43630.4414 - val_loss: 31505.1406 - val_root_mean_squared_error: 39734.9141\n",
            "Epoch 84/100\n",
            "25/25 [==============================] - 0s 4ms/step - loss: 41042.7930 - root_mean_squared_error: 51534.4766 - val_loss: 31732.4121 - val_root_mean_squared_error: 39909.1211\n",
            "Epoch 85/100\n",
            "25/25 [==============================] - 0s 4ms/step - loss: 40826.3516 - root_mean_squared_error: 51213.6523 - val_loss: 33025.2383 - val_root_mean_squared_error: 41090.8555\n",
            "Epoch 86/100\n",
            "25/25 [==============================] - 0s 4ms/step - loss: 43303.8945 - root_mean_squared_error: 54388.6406 - val_loss: 43703.0352 - val_root_mean_squared_error: 56253.3008\n",
            "Epoch 87/100\n",
            "25/25 [==============================] - 0s 4ms/step - loss: 43014.0039 - root_mean_squared_error: 53625.5000 - val_loss: 40273.8086 - val_root_mean_squared_error: 50454.7500\n",
            "Epoch 88/100\n",
            "25/25 [==============================] - 0s 4ms/step - loss: 39390.3789 - root_mean_squared_error: 48868.8281 - val_loss: 35827.4336 - val_root_mean_squared_error: 45282.2344\n",
            "Epoch 89/100\n",
            "25/25 [==============================] - 0s 4ms/step - loss: 37152.3477 - root_mean_squared_error: 47175.1992 - val_loss: 31475.3516 - val_root_mean_squared_error: 39703.9336\n",
            "Epoch 90/100\n",
            "25/25 [==============================] - 0s 4ms/step - loss: 34537.2188 - root_mean_squared_error: 43757.9219 - val_loss: 32596.7441 - val_root_mean_squared_error: 41166.2656\n",
            "Epoch 91/100\n",
            "25/25 [==============================] - 0s 4ms/step - loss: 34190.7656 - root_mean_squared_error: 43724.0469 - val_loss: 32273.9082 - val_root_mean_squared_error: 40917.1836\n",
            "Epoch 92/100\n",
            "25/25 [==============================] - 0s 4ms/step - loss: 32568.7949 - root_mean_squared_error: 41407.6641 - val_loss: 32991.0859 - val_root_mean_squared_error: 41584.7930\n",
            "Epoch 93/100\n",
            "25/25 [==============================] - 0s 4ms/step - loss: 31805.6641 - root_mean_squared_error: 40728.1719 - val_loss: 29942.5156 - val_root_mean_squared_error: 38073.6875\n",
            "Epoch 94/100\n",
            "25/25 [==============================] - 0s 4ms/step - loss: 30239.7422 - root_mean_squared_error: 38879.3164 - val_loss: 30974.1445 - val_root_mean_squared_error: 38884.6328\n",
            "Epoch 95/100\n",
            "25/25 [==============================] - 0s 5ms/step - loss: 29903.0273 - root_mean_squared_error: 38500.2383 - val_loss: 30898.6094 - val_root_mean_squared_error: 38919.6094\n",
            "Epoch 96/100\n",
            "25/25 [==============================] - 0s 4ms/step - loss: 30898.9121 - root_mean_squared_error: 39440.9336 - val_loss: 31998.2773 - val_root_mean_squared_error: 40284.3828\n",
            "Epoch 97/100\n",
            "25/25 [==============================] - 0s 4ms/step - loss: 30414.2852 - root_mean_squared_error: 39111.0820 - val_loss: 30976.7266 - val_root_mean_squared_error: 39180.2461\n",
            "Epoch 98/100\n",
            "25/25 [==============================] - 0s 4ms/step - loss: 30414.4609 - root_mean_squared_error: 38932.9688 - val_loss: 29496.8027 - val_root_mean_squared_error: 37494.1211\n",
            "Epoch 99/100\n",
            "25/25 [==============================] - 0s 4ms/step - loss: 30631.6777 - root_mean_squared_error: 39241.6367 - val_loss: 32290.3750 - val_root_mean_squared_error: 40478.5078\n",
            "Epoch 100/100\n",
            "25/25 [==============================] - 0s 4ms/step - loss: 33024.6914 - root_mean_squared_error: 42045.4258 - val_loss: 38918.1758 - val_root_mean_squared_error: 47278.9375\n"
          ]
        }
      ]
    },
    {
      "cell_type": "code",
      "metadata": {
        "colab": {
          "base_uri": "https://localhost:8080/",
          "height": 472
        },
        "id": "rclKXms6V0zg",
        "outputId": "0af67a7d-02d0-4033-982c-14f88faa387b"
      },
      "source": [
        "plt.plot(history.history['loss'])\n",
        "plt.plot(history.history['val_loss'])\n",
        "plt.title('model loss')\n",
        "plt.ylabel('loss')\n",
        "plt.xlabel('epoch')\n",
        "plt.legend(['train', 'val_loss'])\n",
        "plt.show()"
      ],
      "execution_count": 82,
      "outputs": [
        {
          "output_type": "display_data",
          "data": {
            "text/plain": [
              "<Figure size 640x480 with 1 Axes>"
            ],
            "image/png": "[encoded data removed]"
          },
          "metadata": {}
        }
      ]
    },
    {
      "cell_type": "code",
      "metadata": {
        "id": "Mklv2mvHZFtu"
      },
      "source": [],
      "execution_count": null,
      "outputs": []
    },
    {
      "cell_type": "code",
      "metadata": {
        "colab": {
          "base_uri": "https://localhost:8080/",
          "height": 472
        },
        "id": "FcqUS-lcV010",
        "outputId": "3c64d6c1-4bc0-463f-e0cc-81c2e57e24f9"
      },
      "source": [
        "plt.plot(history.history['root_mean_squared_error'])\n",
        "plt.plot(history.history['val_root_mean_squared_error'])\n",
        "plt.title('model performance')\n",
        "plt.ylabel('rmse')\n",
        "plt.xlabel('epoch')\n",
        "plt.legend(['train', 'val'])\n",
        "plt.show()"
      ],
      "execution_count": 83,
      "outputs": [
        {
          "output_type": "display_data",
          "data": {
            "text/plain": [
              "<Figure size 640x480 with 1 Axes>"
            ],
            "image/png": "[encoded data removed]"
          },
          "metadata": {}
        }
      ]
    },
    {
      "cell_type": "markdown",
      "metadata": {
        "id": "TSjCxq__LQkw"
      },
      "source": [
        "## **Model Evaluation and Testing**"
      ]
    },
    {
      "cell_type": "code",
      "metadata": {
        "id": "kuiLjiUxXLj4",
        "colab": {
          "base_uri": "https://localhost:8080/"
        },
        "outputId": "fdd53080-8bd2-42eb-88bd-cf723bcda70c"
      },
      "source": [
        "model.evaluate(X_test,y_test)"
      ],
      "execution_count": 84,
      "outputs": [
        {
          "output_type": "stream",
          "name": "stdout",
          "text": [
            "4/4 [==============================] - 0s 7ms/step - loss: 46553.1562 - root_mean_squared_error: 58142.8008\n"
          ]
        },
        {
          "output_type": "execute_result",
          "data": {
            "text/plain": [
              "[46553.15625, 58142.80078125]"
            ]
          },
          "metadata": {},
          "execution_count": 84
        }
      ]
    },
    {
      "cell_type": "code",
      "metadata": {
        "id": "nBrLEVAyXLmT"
      },
      "source": [],
      "execution_count": null,
      "outputs": []
    },
    {
      "cell_type": "code",
      "metadata": {
        "colab": {
          "base_uri": "https://localhost:8080/"
        },
        "id": "53c0mlV2WGI2",
        "outputId": "f3919b5d-cb01-4a9a-916c-6bbf5a8733c2"
      },
      "source": [
        "X_test.shape"
      ],
      "execution_count": 85,
      "outputs": [
        {
          "output_type": "execute_result",
          "data": {
            "text/plain": [
              "TensorShape([100, 8])"
            ]
          },
          "metadata": {},
          "execution_count": 85
        }
      ]
    },
    {
      "cell_type": "code",
      "metadata": {
        "id": "HeN7SJylXLpD",
        "colab": {
          "base_uri": "https://localhost:8080/"
        },
        "outputId": "e1f35095-a5b7-4ad8-b867-985f07846805"
      },
      "source": [
        "model.predict(tf.expand_dims(X_test[0], axis = 0 ))"
      ],
      "execution_count": 86,
      "outputs": [
        {
          "output_type": "stream",
          "name": "stdout",
          "text": [
            "1/1 [==============================] - 0s 85ms/step\n"
          ]
        },
        {
          "output_type": "execute_result",
          "data": {
            "text/plain": [
              "array([[200744.5]], dtype=float32)"
            ]
          },
          "metadata": {},
          "execution_count": 86
        }
      ]
    },
    {
      "cell_type": "code",
      "metadata": {
        "id": "5HbPIpC2XLrq",
        "colab": {
          "base_uri": "https://localhost:8080/"
        },
        "outputId": "d2c13cb9-5bfd-45e3-c22c-96523b0e7416"
      },
      "source": [
        "y_test[0]"
      ],
      "execution_count": 87,
      "outputs": [
        {
          "output_type": "execute_result",
          "data": {
            "text/plain": [
              "<tf.Tensor: shape=(1,), dtype=float32, numpy=array([334502.], dtype=float32)>"
            ]
          },
          "metadata": {},
          "execution_count": 87
        }
      ]
    },
    {
      "cell_type": "code",
      "metadata": {
        "id": "jscJH2wLXLuK"
      },
      "source": [
        "y_true = list(y_test[:,0].numpy())"
      ],
      "execution_count": 88,
      "outputs": []
    },
    {
      "cell_type": "code",
      "metadata": {
        "id": "qWCd5NDZie1L",
        "colab": {
          "base_uri": "https://localhost:8080/"
        },
        "outputId": "1ffbaa72-b946-4287-9e9c-81082a283f5c"
      },
      "source": [
        "y_pred = list(model.predict(X_test)[:,0])\n",
        "print(y_pred)"
      ],
      "execution_count": 89,
      "outputs": [
        {
          "output_type": "stream",
          "name": "stdout",
          "text": [
            "4/4 [==============================] - 0s 3ms/step\n",
            "[200744.53, 295115.53, 366168.47, 286781.3, 189381.45, 447144.12, 379197.2, 102789.94, 478701.16, 394404.62, 151949.73, 232955.38, 447775.12, 106201.03, 335578.34, 318841.3, 155243.28, 452890.34, 333238.34, 231744.44, 195182.23, 377220.94, 115314.914, 479988.75, 321498.53, 385392.47, 395709.22, 460785.94, 206097.25, 473580.88, 328187.25, 154592.08, 161824.92, 216868.84, 112177.17, 175850.77, 413476.12, 383521.66, 276696.62, 371673.2, 328107.47, 208439.98, 212525.7, 193863.97, 133022.7, 209899.0, 409290.25, 420841.94, 251713.48, 470027.22, 207673.98, 140032.27, 122987.71, 191469.5, 362683.94, 243811.9, 219957.72, 315664.7, 436044.22, 130300.625, 187435.44, 139646.06, 237787.75, 178841.64, 124347.516, 192729.5, 379601.8, 223043.92, 305126.4, 341912.78, 418796.66, 395194.62, 229948.47, 230196.64, 132217.45, 172714.16, 145882.38, 316581.06, 197824.53, 256024.19, 463060.5, 442843.16, 157187.23, 96620.06, 73988.766, 178538.78, 313697.47, 242715.6, 420670.94, 447875.8, 134460.25, 127901.7, 185702.03, 208853.66, 391497.94, 129103.99, 380991.97, 256296.27, 143376.44, 203712.9]\n"
          ]
        }
      ]
    },
    {
      "cell_type": "code",
      "metadata": {
        "id": "FJceF2FrXLxB",
        "colab": {
          "base_uri": "https://localhost:8080/",
          "height": 489
        },
        "outputId": "4895ce1c-851f-461b-9452-30c50dc54f82"
      },
      "source": [
        "ind = np.arange(100)\n",
        "plt.figure(figsize=(40,20))\n",
        "\n",
        "width = 0.1\n",
        "\n",
        "plt.bar(ind, y_pred, width, label='Predicted Car Price')\n",
        "plt.bar(ind + width, y_true, width, label='Actual Car Price')\n",
        "\n",
        "plt.xlabel('Actual vs Predicted Prices')\n",
        "plt.ylabel('Car Price Prices')\n",
        "\n",
        "plt.show()"
      ],
      "execution_count": 90,
      "outputs": [
        {
          "output_type": "display_data",
          "data": {
            "text/plain": [
              "<Figure size 4000x2000 with 1 Axes>"
            ],
            "image/png": "[encoded data removed]"
          },
          "metadata": {}
        }
      ]
    },
    {
      "cell_type": "code",
      "metadata": {
        "id": "Pj6Qk_wOXLz6"
      },
      "source": [],
      "execution_count": null,
      "outputs": []
    },
    {
      "cell_type": "code",
      "metadata": {
        "id": "U8aJm7HoXL2d"
      },
      "source": [],
      "execution_count": null,
      "outputs": []
    }
  ]
}