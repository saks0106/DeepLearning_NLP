{
  "nbformat": 4,
  "nbformat_minor": 0,
  "metadata": {
    "colab": {
      "provenance": [],
      "include_colab_link": true
    },
    "kernelspec": {
      "name": "python3",
      "display_name": "Python 3"
    },
    "language_info": {
      "name": "python"
    }
  },
  "cells": [
    {
      "cell_type": "markdown",
      "metadata": {
        "id": "view-in-github",
        "colab_type": "text"
      },
      "source": [
        "<a href=\"https://colab.research.google.com/github/saks0106/DeepLearning_NLP/blob/main/00_Basic_Commands.ipynb\" target=\"_parent\"><img src=\"https://colab.research.google.com/assets/colab-badge.svg\" alt=\"Open In Colab\"/></a>"
      ]
    },
    {
      "cell_type": "code",
      "source": [
        "import tensorflow as tf\n",
        "import numpy as np"
      ],
      "metadata": {
        "id": "pMpfCW68p1mf"
      },
      "execution_count": null,
      "outputs": []
    },
    {
      "cell_type": "code",
      "execution_count": null,
      "metadata": {
        "colab": {
          "base_uri": "https://localhost:8080/"
        },
        "id": "U4qDoLlznCRc",
        "outputId": "bfd80a54-f798-4829-d8f9-a0b7cfed2dbf"
      },
      "outputs": [
        {
          "output_type": "execute_result",
          "data": {
            "text/plain": [
              "<tf.Tensor: shape=(), dtype=int32, numpy=1>"
            ]
          },
          "metadata": {},
          "execution_count": 2
        }
      ],
      "source": [
        "t0 = tf.constant(1)\n",
        "t0"
      ]
    },
    {
      "cell_type": "code",
      "source": [
        "t1 = tf.constant([2,3,4],dtype=tf.float32) \n",
        "t1"
      ],
      "metadata": {
        "colab": {
          "base_uri": "https://localhost:8080/"
        },
        "id": "n-MkDaEtnZSt",
        "outputId": "4633818c-d4d8-4fd4-920b-7b00f0dc9e7e"
      },
      "execution_count": null,
      "outputs": [
        {
          "output_type": "execute_result",
          "data": {
            "text/plain": [
              "<tf.Tensor: shape=(3,), dtype=float32, numpy=array([2., 3., 4.], dtype=float32)>"
            ]
          },
          "metadata": {},
          "execution_count": 3
        }
      ]
    },
    {
      "cell_type": "code",
      "source": [
        "t2 = tf.constant([\n",
        "                [2,3,4],\n",
        "                [2,3,4],\n",
        "                [2,3,4]],dtype=tf.float16)\n",
        "t2"
      ],
      "metadata": {
        "colab": {
          "base_uri": "https://localhost:8080/"
        },
        "id": "yCVYfLWDn5qa",
        "outputId": "f4324c40-c985-4a54-e7b8-83f7fff77912"
      },
      "execution_count": null,
      "outputs": [
        {
          "output_type": "execute_result",
          "data": {
            "text/plain": [
              "<tf.Tensor: shape=(3, 3), dtype=float16, numpy=\n",
              "array([[2., 3., 4.],\n",
              "       [2., 3., 4.],\n",
              "       [2., 3., 4.]], dtype=float16)>"
            ]
          },
          "metadata": {},
          "execution_count": 4
        }
      ]
    },
    {
      "cell_type": "code",
      "source": [
        "t3  = tf.constant([[[2,3,4],\n",
        "                    [2,3,4]],\n",
        "                    [[2,3,4],\n",
        "                    [2,3,4]]],dtype=tf.float16)\n",
        "t3.ndim, t3"
      ],
      "metadata": {
        "colab": {
          "base_uri": "https://localhost:8080/"
        },
        "id": "TFdmvskGobYn",
        "outputId": "dfe91337-e8cd-41af-9bc6-5a7ad5a2e74e"
      },
      "execution_count": null,
      "outputs": [
        {
          "output_type": "execute_result",
          "data": {
            "text/plain": [
              "(3, <tf.Tensor: shape=(2, 2, 3), dtype=float16, numpy=\n",
              " array([[[2., 3., 4.],\n",
              "         [2., 3., 4.]],\n",
              " \n",
              "        [[2., 3., 4.],\n",
              "         [2., 3., 4.]]], dtype=float16)>)"
            ]
          },
          "metadata": {},
          "execution_count": 5
        }
      ]
    },
    {
      "cell_type": "code",
      "source": [
        "t4  = tf.constant([[[[2,3,4],\n",
        "                    [2,3,4]]],\n",
        "                   \n",
        "                    [[[2,3,4],\n",
        "                    [2,3,4]]]],dtype=tf.float16)\n",
        "t4.ndim, t4"
      ],
      "metadata": {
        "colab": {
          "base_uri": "https://localhost:8080/"
        },
        "id": "tAi8UzNRoqo5",
        "outputId": "3cae4e74-fbac-4efe-b8f7-c51ebed13756"
      },
      "execution_count": null,
      "outputs": [
        {
          "output_type": "execute_result",
          "data": {
            "text/plain": [
              "(4, <tf.Tensor: shape=(2, 1, 2, 3), dtype=float16, numpy=\n",
              " array([[[[2., 3., 4.],\n",
              "          [2., 3., 4.]]],\n",
              " \n",
              " \n",
              "        [[[2., 3., 4.],\n",
              "          [2., 3., 4.]]]], dtype=float16)>)"
            ]
          },
          "metadata": {},
          "execution_count": 6
        }
      ]
    },
    {
      "cell_type": "code",
      "source": [
        "x = tf.constant(1,shape=(4,4))\n",
        "x"
      ],
      "metadata": {
        "colab": {
          "base_uri": "https://localhost:8080/"
        },
        "id": "1ddnDdfmpmU-",
        "outputId": "de964d79-70c3-42a4-d4ba-6986cac666ad"
      },
      "execution_count": null,
      "outputs": [
        {
          "output_type": "execute_result",
          "data": {
            "text/plain": [
              "<tf.Tensor: shape=(4, 4), dtype=int32, numpy=\n",
              "array([[1, 1, 1, 1],\n",
              "       [1, 1, 1, 1],\n",
              "       [1, 1, 1, 1],\n",
              "       [1, 1, 1, 1]], dtype=int32)>"
            ]
          },
          "metadata": {},
          "execution_count": 7
        }
      ]
    },
    {
      "cell_type": "code",
      "source": [
        "a = np.array([1,2,3])\n",
        "a\n"
      ],
      "metadata": {
        "colab": {
          "base_uri": "https://localhost:8080/"
        },
        "id": "dDBDIc6Nprns",
        "outputId": "4b894124-c68e-4403-feb0-a8136a53e6be"
      },
      "execution_count": null,
      "outputs": [
        {
          "output_type": "execute_result",
          "data": {
            "text/plain": [
              "array([1, 2, 3])"
            ]
          },
          "metadata": {},
          "execution_count": 8
        }
      ]
    },
    {
      "cell_type": "code",
      "source": [
        "tf.constant(a), tf.convert_to_tensor(a,dtype=tf.float32)"
      ],
      "metadata": {
        "colab": {
          "base_uri": "https://localhost:8080/"
        },
        "id": "xg06sWpZqCVY",
        "outputId": "8721e181-a769-4154-90c0-7dff13c0bf52"
      },
      "execution_count": null,
      "outputs": [
        {
          "output_type": "execute_result",
          "data": {
            "text/plain": [
              "(<tf.Tensor: shape=(3,), dtype=int64, numpy=array([1, 2, 3])>,\n",
              " <tf.Tensor: shape=(3,), dtype=float32, numpy=array([1., 2., 3.], dtype=float32)>)"
            ]
          },
          "metadata": {},
          "execution_count": 9
        }
      ]
    },
    {
      "cell_type": "code",
      "source": [
        "tf.eye(3,3,batch_shape=[3],dtype=tf.float16)"
      ],
      "metadata": {
        "colab": {
          "base_uri": "https://localhost:8080/"
        },
        "id": "5-1I7OxJqF1N",
        "outputId": "bb145e87-24e8-444a-a974-eeaf835568b8"
      },
      "execution_count": null,
      "outputs": [
        {
          "output_type": "execute_result",
          "data": {
            "text/plain": [
              "<tf.Tensor: shape=(3, 3, 3), dtype=float16, numpy=\n",
              "array([[[1., 0., 0.],\n",
              "        [0., 1., 0.],\n",
              "        [0., 0., 1.]],\n",
              "\n",
              "       [[1., 0., 0.],\n",
              "        [0., 1., 0.],\n",
              "        [0., 0., 1.]],\n",
              "\n",
              "       [[1., 0., 0.],\n",
              "        [0., 1., 0.],\n",
              "        [0., 0., 1.]]], dtype=float16)>"
            ]
          },
          "metadata": {},
          "execution_count": 10
        }
      ]
    },
    {
      "cell_type": "code",
      "source": [
        "tf.fill([2,3],8.1)"
      ],
      "metadata": {
        "colab": {
          "base_uri": "https://localhost:8080/"
        },
        "id": "_d7oKQlcqkdG",
        "outputId": "0f9e8c06-05a9-4cb3-d269-e3b1923ce4b5"
      },
      "execution_count": null,
      "outputs": [
        {
          "output_type": "execute_result",
          "data": {
            "text/plain": [
              "<tf.Tensor: shape=(2, 3), dtype=float32, numpy=\n",
              "array([[8.1, 8.1, 8.1],\n",
              "       [8.1, 8.1, 8.1]], dtype=float32)>"
            ]
          },
          "metadata": {},
          "execution_count": 11
        }
      ]
    },
    {
      "cell_type": "code",
      "source": [
        "tf.ones([3,4],dtype=tf.float32) # tf.zeros()"
      ],
      "metadata": {
        "colab": {
          "base_uri": "https://localhost:8080/"
        },
        "id": "pldJrUPhq8C-",
        "outputId": "1c518b25-37e7-4d1b-9350-c652bd265b3e"
      },
      "execution_count": null,
      "outputs": [
        {
          "output_type": "execute_result",
          "data": {
            "text/plain": [
              "<tf.Tensor: shape=(3, 4), dtype=float32, numpy=\n",
              "array([[1., 1., 1., 1.],\n",
              "       [1., 1., 1., 1.],\n",
              "       [1., 1., 1., 1.]], dtype=float32)>"
            ]
          },
          "metadata": {},
          "execution_count": 12
        }
      ]
    },
    {
      "cell_type": "code",
      "source": [
        "a = tf.range(1,10,delta=2)\n",
        "a"
      ],
      "metadata": {
        "colab": {
          "base_uri": "https://localhost:8080/"
        },
        "id": "A4PJJDtTyVXE",
        "outputId": "55fab1a6-3c4b-4178-de19-576211c77875"
      },
      "execution_count": null,
      "outputs": [
        {
          "output_type": "execute_result",
          "data": {
            "text/plain": [
              "<tf.Tensor: shape=(5,), dtype=int32, numpy=array([1, 3, 5, 7, 9], dtype=int32)>"
            ]
          },
          "metadata": {},
          "execution_count": 13
        }
      ]
    },
    {
      "cell_type": "code",
      "source": [
        "tf.size(a)"
      ],
      "metadata": {
        "colab": {
          "base_uri": "https://localhost:8080/"
        },
        "id": "gd8e4vdxyo3v",
        "outputId": "f5216268-35ef-491d-b0b3-d8d8ba0ac7e9"
      },
      "execution_count": null,
      "outputs": [
        {
          "output_type": "execute_result",
          "data": {
            "text/plain": [
              "<tf.Tensor: shape=(), dtype=int32, numpy=5>"
            ]
          },
          "metadata": {},
          "execution_count": 14
        }
      ]
    },
    {
      "cell_type": "code",
      "source": [
        "a = tf.random.Generator.from_non_deterministic_state()\n",
        "a.normal(shape=(2,3))"
      ],
      "metadata": {
        "colab": {
          "base_uri": "https://localhost:8080/"
        },
        "id": "ogyPlYbuy0jM",
        "outputId": "b3a1c757-1c69-46c5-f7de-3b0718954999"
      },
      "execution_count": null,
      "outputs": [
        {
          "output_type": "execute_result",
          "data": {
            "text/plain": [
              "<tf.Tensor: shape=(2, 3), dtype=float32, numpy=\n",
              "array([[ 1.0157609 , -0.11274357,  1.0394523 ],\n",
              "       [-0.17210026, -0.6326218 ,  0.37123403]], dtype=float32)>"
            ]
          },
          "metadata": {},
          "execution_count": 15
        }
      ]
    },
    {
      "cell_type": "code",
      "source": [
        "a = tf.random.Generator.from_seed(1)\n",
        "a.normal(shape=(2,3))"
      ],
      "metadata": {
        "colab": {
          "base_uri": "https://localhost:8080/"
        },
        "id": "U1kgX9pgznR3",
        "outputId": "e525ea64-f216-4792-9047-a6c44c72d328"
      },
      "execution_count": null,
      "outputs": [
        {
          "output_type": "execute_result",
          "data": {
            "text/plain": [
              "<tf.Tensor: shape=(2, 3), dtype=float32, numpy=\n",
              "array([[ 0.43842274, -0.53439844, -0.07710262],\n",
              "       [ 1.5658046 , -0.1012345 , -0.2744976 ]], dtype=float32)>"
            ]
          },
          "metadata": {},
          "execution_count": 16
        }
      ]
    },
    {
      "cell_type": "code",
      "source": [
        "a.uniform(shape=(2,3),minval=0,maxval=100)"
      ],
      "metadata": {
        "colab": {
          "base_uri": "https://localhost:8080/"
        },
        "id": "F2LMoW8Szs4d",
        "outputId": "e59cfaa6-20f4-4556-92bf-eefccb569175"
      },
      "execution_count": null,
      "outputs": [
        {
          "output_type": "execute_result",
          "data": {
            "text/plain": [
              "<tf.Tensor: shape=(2, 3), dtype=float32, numpy=\n",
              "array([[24.2532  , 95.69695 , 27.728308],\n",
              "       [83.67728 , 83.967   , 42.220127]], dtype=float32)>"
            ]
          },
          "metadata": {},
          "execution_count": 17
        }
      ]
    },
    {
      "cell_type": "code",
      "source": [
        "tf.random.normal(shape=(3,4),mean=0,stddev=5,dtype=tf.dtypes.float32,seed=42)"
      ],
      "metadata": {
        "colab": {
          "base_uri": "https://localhost:8080/"
        },
        "id": "JKwjmbl-z3a-",
        "outputId": "b9974e93-fdc9-48ac-893f-3f67fdfb8543"
      },
      "execution_count": null,
      "outputs": [
        {
          "output_type": "execute_result",
          "data": {
            "text/plain": [
              "<tf.Tensor: shape=(3, 4), dtype=float32, numpy=\n",
              "array([[-1.4038754 , -0.6887605 , -3.381648  ,  0.12290207],\n",
              "       [-4.4679227 , -4.1423664 ,  6.034472  ,  6.9050784 ],\n",
              "       [-7.2789884 , -1.2310694 , -6.804203  ,  5.4398017 ]],\n",
              "      dtype=float32)>"
            ]
          },
          "metadata": {},
          "execution_count": 18
        }
      ]
    },
    {
      "cell_type": "code",
      "source": [
        "tf.random.uniform(shape=(3,4),minval=0,maxval=10,dtype=tf.dtypes.float32,seed=42)"
      ],
      "metadata": {
        "colab": {
          "base_uri": "https://localhost:8080/"
        },
        "id": "lUaK1ykg0TAG",
        "outputId": "e596ef15-f964-4455-8009-80b2fcfd0847"
      },
      "execution_count": null,
      "outputs": [
        {
          "output_type": "execute_result",
          "data": {
            "text/plain": [
              "<tf.Tensor: shape=(3, 4), dtype=float32, numpy=\n",
              "array([[9.522715 , 6.7740774, 7.953182 , 7.5578175],\n",
              "       [4.759556 , 6.3101482, 1.8602037, 1.1430776],\n",
              "       [3.3622181, 7.2333503, 2.1919966, 8.573376 ]], dtype=float32)>"
            ]
          },
          "metadata": {},
          "execution_count": 19
        }
      ]
    },
    {
      "cell_type": "code",
      "source": [
        "x = tf.constant([1,2,3,4],dtype=tf.float32)\n",
        "y = tf.constant([5.1],dtype=tf.float32)\n",
        "tf.math.add(x,y)"
      ],
      "metadata": {
        "colab": {
          "base_uri": "https://localhost:8080/"
        },
        "id": "PckFjKRH0r55",
        "outputId": "59e3eb36-f0b6-47f9-f2ed-1363284d291f"
      },
      "execution_count": null,
      "outputs": [
        {
          "output_type": "execute_result",
          "data": {
            "text/plain": [
              "<tf.Tensor: shape=(4,), dtype=float32, numpy=array([6.1, 7.1, 8.1, 9.1], dtype=float32)>"
            ]
          },
          "metadata": {},
          "execution_count": 20
        }
      ]
    },
    {
      "cell_type": "code",
      "source": [
        "x = tf.constant([[1,2,3,4],[1,2,3,4]],dtype=tf.float32)\n",
        "y = tf.constant([5.1],dtype=tf.float32)\n",
        "tf.math.add(x,y)"
      ],
      "metadata": {
        "colab": {
          "base_uri": "https://localhost:8080/"
        },
        "id": "4rfz5XwC1C4R",
        "outputId": "f6e8097b-e84d-4e56-806f-83d1ce534591"
      },
      "execution_count": null,
      "outputs": [
        {
          "output_type": "execute_result",
          "data": {
            "text/plain": [
              "<tf.Tensor: shape=(2, 4), dtype=float32, numpy=\n",
              "array([[6.1, 7.1, 8.1, 9.1],\n",
              "       [6.1, 7.1, 8.1, 9.1]], dtype=float32)>"
            ]
          },
          "metadata": {},
          "execution_count": 21
        }
      ]
    },
    {
      "cell_type": "code",
      "source": [
        "x = tf.constant([[1,2,3,4],[1,2,3,41]],dtype=tf.float32)\n",
        "y = tf.constant([5.1,6.1,8.1,9.1],dtype=tf.float32)\n",
        "tf.math.add(x,y)"
      ],
      "metadata": {
        "colab": {
          "base_uri": "https://localhost:8080/"
        },
        "id": "SAC-Gyci1eGa",
        "outputId": "66449939-a683-4e78-9415-21542697624b"
      },
      "execution_count": null,
      "outputs": [
        {
          "output_type": "execute_result",
          "data": {
            "text/plain": [
              "<tf.Tensor: shape=(2, 4), dtype=float32, numpy=\n",
              "array([[ 6.1,  8.1, 11.1, 13.1],\n",
              "       [ 6.1,  8.1, 11.1, 50.1]], dtype=float32)>"
            ]
          },
          "metadata": {},
          "execution_count": 22
        }
      ]
    },
    {
      "cell_type": "code",
      "source": [
        "x = tf.constant([[1,2,3,4],[1,2,3,41]],dtype=tf.float32)\n",
        "y = tf.constant([[5.0],[6.0]],dtype=tf.float32)\n",
        "tf.math.add(x,y)"
      ],
      "metadata": {
        "colab": {
          "base_uri": "https://localhost:8080/"
        },
        "id": "IYvjgO2R1jMh",
        "outputId": "0f6735ed-025a-43a2-e524-ec4eba97042e"
      },
      "execution_count": null,
      "outputs": [
        {
          "output_type": "execute_result",
          "data": {
            "text/plain": [
              "<tf.Tensor: shape=(2, 4), dtype=float32, numpy=\n",
              "array([[ 6.,  7.,  8.,  9.],\n",
              "       [ 7.,  8.,  9., 47.]], dtype=float32)>"
            ]
          },
          "metadata": {},
          "execution_count": 23
        }
      ]
    },
    {
      "cell_type": "code",
      "source": [
        " x = tf.constant([[1,2,3,9],\n",
        "                  [5,6,7,8],\n",
        "                  [0,9,8,1]])"
      ],
      "metadata": {
        "id": "ZmTVfjKg-lKJ"
      },
      "execution_count": null,
      "outputs": []
    },
    {
      "cell_type": "code",
      "source": [
        "tf.math.argmax(x,axis=0)"
      ],
      "metadata": {
        "colab": {
          "base_uri": "https://localhost:8080/"
        },
        "id": "LQIapEfO-ltV",
        "outputId": "01b40458-19ab-482d-fbf2-7dd521097a6b"
      },
      "execution_count": null,
      "outputs": [
        {
          "output_type": "execute_result",
          "data": {
            "text/plain": [
              "<tf.Tensor: shape=(4,), dtype=int64, numpy=array([1, 2, 2, 0])>"
            ]
          },
          "metadata": {},
          "execution_count": 25
        }
      ]
    },
    {
      "cell_type": "code",
      "source": [
        "x = tf.constant([[2,2],[3,4]])\n",
        "y = tf.constant([[2,3],[4,5]])\n",
        "tf.pow(x,y)"
      ],
      "metadata": {
        "colab": {
          "base_uri": "https://localhost:8080/"
        },
        "id": "mSd8RCIm-r6s",
        "outputId": "7101c8f5-e71f-4679-d803-7babf3e0f783"
      },
      "execution_count": null,
      "outputs": [
        {
          "output_type": "execute_result",
          "data": {
            "text/plain": [
              "<tf.Tensor: shape=(2, 2), dtype=int32, numpy=\n",
              "array([[   4,    8],\n",
              "       [  81, 1024]], dtype=int32)>"
            ]
          },
          "metadata": {},
          "execution_count": 26
        }
      ]
    },
    {
      "cell_type": "code",
      "source": [
        " x = tf.constant([[1,2,3,9],\n",
        "                  [5,6,7,8],\n",
        "                  [0,9,8,1]])\n",
        " \n",
        " tf.math.reduce_sum(x,axis=1,keepdims=False)"
      ],
      "metadata": {
        "colab": {
          "base_uri": "https://localhost:8080/"
        },
        "id": "RHLcGLQb_VWp",
        "outputId": "659840a8-8254-4f41-a624-0861ef4e7524"
      },
      "execution_count": null,
      "outputs": [
        {
          "output_type": "execute_result",
          "data": {
            "text/plain": [
              "<tf.Tensor: shape=(3,), dtype=int32, numpy=array([15, 26, 18], dtype=int32)>"
            ]
          },
          "metadata": {},
          "execution_count": 27
        }
      ]
    },
    {
      "cell_type": "code",
      "source": [
        " x = tf.constant([[1,2,3,9],\n",
        "                  [5,6,7,8],\n",
        "                  [0,9,8,1]],dtype=tf.float16)\n",
        "\n",
        "tf.math.reduce_mean(x,axis=1,keepdims=True)"
      ],
      "metadata": {
        "colab": {
          "base_uri": "https://localhost:8080/"
        },
        "id": "7OBapOJc_wQ4",
        "outputId": "313ab0d1-bfe2-463d-9270-f8c2c19166cf"
      },
      "execution_count": null,
      "outputs": [
        {
          "output_type": "execute_result",
          "data": {
            "text/plain": [
              "<tf.Tensor: shape=(3, 1), dtype=float16, numpy=\n",
              "array([[3.75],\n",
              "       [6.5 ],\n",
              "       [4.5 ]], dtype=float16)>"
            ]
          },
          "metadata": {},
          "execution_count": 28
        }
      ]
    },
    {
      "cell_type": "code",
      "source": [
        " x = tf.constant([[1,2,3,1],\n",
        "                  [5,6,7,8],\n",
        "                  [0,9,8,1]],dtype=tf.float16)\n",
        "\n",
        "tf.math.reduce_std(x,axis=1,keepdims=True)"
      ],
      "metadata": {
        "colab": {
          "base_uri": "https://localhost:8080/"
        },
        "id": "PCG-Xzpj_49Y",
        "outputId": "60207dc8-66ab-41de-ae10-fedc2590173e"
      },
      "execution_count": null,
      "outputs": [
        {
          "output_type": "execute_result",
          "data": {
            "text/plain": [
              "<tf.Tensor: shape=(3, 1), dtype=float16, numpy=\n",
              "array([[0.829],\n",
              "       [1.118],\n",
              "       [4.03 ]], dtype=float16)>"
            ]
          },
          "metadata": {},
          "execution_count": 29
        }
      ]
    },
    {
      "cell_type": "code",
      "source": [
        "tf.math.top_k(x,k=1)"
      ],
      "metadata": {
        "colab": {
          "base_uri": "https://localhost:8080/"
        },
        "id": "I-UEsnjMAlN2",
        "outputId": "f2d2627c-e7ae-4e53-d97d-02f0590cc675"
      },
      "execution_count": null,
      "outputs": [
        {
          "output_type": "execute_result",
          "data": {
            "text/plain": [
              "TopKV2(values=<tf.Tensor: shape=(3, 1), dtype=float16, numpy=\n",
              "array([[3.],\n",
              "       [8.],\n",
              "       [9.]], dtype=float16)>, indices=<tf.Tensor: shape=(3, 1), dtype=int32, numpy=\n",
              "array([[2],\n",
              "       [3],\n",
              "       [1]], dtype=int32)>)"
            ]
          },
          "metadata": {},
          "execution_count": 30
        }
      ]
    },
    {
      "cell_type": "code",
      "source": [
        "tf.math.top_k(x,k=2)"
      ],
      "metadata": {
        "colab": {
          "base_uri": "https://localhost:8080/"
        },
        "id": "tlhhNKPECWy5",
        "outputId": "aa145429-1959-467d-faf9-51d08a10ae87"
      },
      "execution_count": null,
      "outputs": [
        {
          "output_type": "execute_result",
          "data": {
            "text/plain": [
              "TopKV2(values=<tf.Tensor: shape=(3, 2), dtype=float16, numpy=\n",
              "array([[3., 2.],\n",
              "       [8., 7.],\n",
              "       [9., 8.]], dtype=float16)>, indices=<tf.Tensor: shape=(3, 2), dtype=int32, numpy=\n",
              "array([[2, 1],\n",
              "       [3, 2],\n",
              "       [1, 2]], dtype=int32)>)"
            ]
          },
          "metadata": {},
          "execution_count": 31
        }
      ]
    },
    {
      "cell_type": "code",
      "source": [
        "x = tf.constant([[1,2,3,1],\n",
        "                  [5,6,7,8],\n",
        "                  [0,9,8,1]],dtype=tf.float16)\n",
        "y = tf.constant([[1,2,3,9],\n",
        "                  [5,6,7,8],\n",
        "                  [0,9,8,1]],dtype=tf.float16)"
      ],
      "metadata": {
        "id": "MskPl9UvCr0W"
      },
      "execution_count": null,
      "outputs": []
    },
    {
      "cell_type": "code",
      "source": [
        "x.shape, y.shape"
      ],
      "metadata": {
        "colab": {
          "base_uri": "https://localhost:8080/"
        },
        "id": "SNfAzv_MC4fA",
        "outputId": "3901981e-36b4-465f-9fcc-d1b62435f51b"
      },
      "execution_count": null,
      "outputs": [
        {
          "output_type": "execute_result",
          "data": {
            "text/plain": [
              "(TensorShape([3, 4]), TensorShape([3, 4]))"
            ]
          },
          "metadata": {},
          "execution_count": 33
        }
      ]
    },
    {
      "cell_type": "code",
      "source": [
        "tf.linalg.matmul(x,y,transpose_b=True)"
      ],
      "metadata": {
        "colab": {
          "base_uri": "https://localhost:8080/"
        },
        "id": "U28RfgtWC6fK",
        "outputId": "751bdd39-a0a2-4d81-d72e-454ca1515b0c"
      },
      "execution_count": null,
      "outputs": [
        {
          "output_type": "execute_result",
          "data": {
            "text/plain": [
              "<tf.Tensor: shape=(3, 3), dtype=float16, numpy=\n",
              "array([[ 23.,  46.,  43.],\n",
              "       [110., 174., 118.],\n",
              "       [ 51., 118., 146.]], dtype=float16)>"
            ]
          },
          "metadata": {},
          "execution_count": 34
        }
      ]
    },
    {
      "cell_type": "code",
      "source": [
        "x@tf.transpose(y)"
      ],
      "metadata": {
        "colab": {
          "base_uri": "https://localhost:8080/"
        },
        "id": "-0RU368IDIcY",
        "outputId": "eba33bed-f31a-473c-cc78-bb11bcc4fa67"
      },
      "execution_count": null,
      "outputs": [
        {
          "output_type": "execute_result",
          "data": {
            "text/plain": [
              "<tf.Tensor: shape=(3, 3), dtype=float16, numpy=\n",
              "array([[ 23.,  46.,  43.],\n",
              "       [110., 174., 118.],\n",
              "       [ 51., 118., 146.]], dtype=float16)>"
            ]
          },
          "metadata": {},
          "execution_count": 35
        }
      ]
    },
    {
      "cell_type": "code",
      "source": [
        "np.matmul(x,tf.transpose(y))"
      ],
      "metadata": {
        "colab": {
          "base_uri": "https://localhost:8080/"
        },
        "id": "A4tOlFpCDZGr",
        "outputId": "8c50bc9b-52ac-45ce-e62c-f9bb8c49703e"
      },
      "execution_count": null,
      "outputs": [
        {
          "output_type": "execute_result",
          "data": {
            "text/plain": [
              "array([[ 23.,  46.,  43.],\n",
              "       [110., 174., 118.],\n",
              "       [ 51., 118., 146.]], dtype=float16)"
            ]
          },
          "metadata": {},
          "execution_count": 36
        }
      ]
    },
    {
      "cell_type": "code",
      "source": [
        "np.einsum('bij,bji-> bik',x,tf.transpose(y))"
      ],
      "metadata": {
        "id": "wnBayIeSEBsB",
        "colab": {
          "base_uri": "https://localhost:8080/",
          "height": 311
        },
        "outputId": "ee5e924d-aeb9-4835-a5dc-04439082fbba"
      },
      "execution_count": null,
      "outputs": [
        {
          "output_type": "error",
          "ename": "ValueError",
          "evalue": "ignored",
          "traceback": [
            "\u001b[0;31m---------------------------------------------------------------------------\u001b[0m",
            "\u001b[0;31mValueError\u001b[0m                                Traceback (most recent call last)",
            "\u001b[0;32m<ipython-input-37-a73828dabe95>\u001b[0m in \u001b[0;36m<module>\u001b[0;34m\u001b[0m\n\u001b[0;32m----> 1\u001b[0;31m \u001b[0mnp\u001b[0m\u001b[0;34m.\u001b[0m\u001b[0meinsum\u001b[0m\u001b[0;34m(\u001b[0m\u001b[0;34m'bij,bji-> bik'\u001b[0m\u001b[0;34m,\u001b[0m\u001b[0mx\u001b[0m\u001b[0;34m,\u001b[0m\u001b[0mtf\u001b[0m\u001b[0;34m.\u001b[0m\u001b[0mtranspose\u001b[0m\u001b[0;34m(\u001b[0m\u001b[0my\u001b[0m\u001b[0;34m)\u001b[0m\u001b[0;34m)\u001b[0m\u001b[0;34m\u001b[0m\u001b[0;34m\u001b[0m\u001b[0m\n\u001b[0m",
            "\u001b[0;32m/usr/local/lib/python3.9/dist-packages/numpy/core/overrides.py\u001b[0m in \u001b[0;36meinsum\u001b[0;34m(*args, **kwargs)\u001b[0m\n",
            "\u001b[0;32m/usr/local/lib/python3.9/dist-packages/numpy/core/einsumfunc.py\u001b[0m in \u001b[0;36meinsum\u001b[0;34m(out, optimize, *operands, **kwargs)\u001b[0m\n\u001b[1;32m   1357\u001b[0m         \u001b[0;32mif\u001b[0m \u001b[0mspecified_out\u001b[0m\u001b[0;34m:\u001b[0m\u001b[0;34m\u001b[0m\u001b[0;34m\u001b[0m\u001b[0m\n\u001b[1;32m   1358\u001b[0m             \u001b[0mkwargs\u001b[0m\u001b[0;34m[\u001b[0m\u001b[0;34m'out'\u001b[0m\u001b[0;34m]\u001b[0m \u001b[0;34m=\u001b[0m \u001b[0mout\u001b[0m\u001b[0;34m\u001b[0m\u001b[0;34m\u001b[0m\u001b[0m\n\u001b[0;32m-> 1359\u001b[0;31m         \u001b[0;32mreturn\u001b[0m \u001b[0mc_einsum\u001b[0m\u001b[0;34m(\u001b[0m\u001b[0;34m*\u001b[0m\u001b[0moperands\u001b[0m\u001b[0;34m,\u001b[0m \u001b[0;34m**\u001b[0m\u001b[0mkwargs\u001b[0m\u001b[0;34m)\u001b[0m\u001b[0;34m\u001b[0m\u001b[0;34m\u001b[0m\u001b[0m\n\u001b[0m\u001b[1;32m   1360\u001b[0m \u001b[0;34m\u001b[0m\u001b[0m\n\u001b[1;32m   1361\u001b[0m     \u001b[0;31m# Check the kwargs to avoid a more cryptic error later, without having to\u001b[0m\u001b[0;34m\u001b[0m\u001b[0;34m\u001b[0m\u001b[0m\n",
            "\u001b[0;31mValueError\u001b[0m: einstein sum subscripts string contains too many subscripts for operand 0"
          ]
        }
      ]
    },
    {
      "cell_type": "code",
      "source": [
        "x = tf.constant([[[1,2,3,1],\n",
        "                  [5,6,7,8],\n",
        "                  [0,9,8,1]],\n",
        "                 \n",
        "                 [[1,2,3,1],\n",
        "                  [5,6,7,8],\n",
        "                  [0,9,8,1]]],dtype=tf.float16)"
      ],
      "metadata": {
        "id": "5vXm5pwwE99G"
      },
      "execution_count": null,
      "outputs": []
    },
    {
      "cell_type": "code",
      "source": [
        "x = tf.constant([[1,2,3,1],\n",
        "                  [5,6,7,8],\n",
        "                  [0,9,8,1]],dtype=tf.float16)"
      ],
      "metadata": {
        "id": "0-D57JdmFNUh"
      },
      "execution_count": null,
      "outputs": []
    },
    {
      "cell_type": "code",
      "source": [
        "np.einsum('ij -> j',x)"
      ],
      "metadata": {
        "id": "kaqZWHDOEU_B"
      },
      "execution_count": null,
      "outputs": []
    },
    {
      "cell_type": "code",
      "source": [
        "tf.expand_dims(x,axis=0)"
      ],
      "metadata": {
        "id": "fSPYODJiE14X"
      },
      "execution_count": null,
      "outputs": []
    },
    {
      "cell_type": "code",
      "source": [
        "tf.expand_dims(x,axis=1)"
      ],
      "metadata": {
        "id": "LpdLL3jFFiSa"
      },
      "execution_count": null,
      "outputs": []
    },
    {
      "cell_type": "code",
      "source": [
        "tf.expand_dims(x,axis=2)"
      ],
      "metadata": {
        "id": "FPOCftByFl8L"
      },
      "execution_count": null,
      "outputs": []
    },
    {
      "cell_type": "code",
      "source": [
        "x=  tf.constant([[[[1,2,3,1]]]],dtype=tf.float16)\n",
        "x.shape"
      ],
      "metadata": {
        "id": "p_Ri6j5aFpgA"
      },
      "execution_count": null,
      "outputs": []
    },
    {
      "cell_type": "code",
      "source": [
        "tf.squeeze(x,axis=0)"
      ],
      "metadata": {
        "id": "_NdqeokpF_BV"
      },
      "execution_count": null,
      "outputs": []
    },
    {
      "cell_type": "code",
      "source": [
        "tf.squeeze(x,axis=2)"
      ],
      "metadata": {
        "id": "jX3d2hZFGH5v"
      },
      "execution_count": null,
      "outputs": []
    },
    {
      "cell_type": "code",
      "source": [
        "x=  tf.constant([1,2,3,1,3,8],dtype=tf.float16)\n",
        "x.shape"
      ],
      "metadata": {
        "id": "RWCLCRYaGJ7f"
      },
      "execution_count": null,
      "outputs": []
    },
    {
      "cell_type": "code",
      "source": [
        "a = tf.reshape(x,shape=(3,2))\n",
        "b = tf.reshape(x,shape=(3,2))"
      ],
      "metadata": {
        "id": "bM_4WS0aGc-G"
      },
      "execution_count": null,
      "outputs": []
    },
    {
      "cell_type": "code",
      "source": [
        "tf.reshape(x,shape=[6])"
      ],
      "metadata": {
        "id": "v2Q_OHsTGnOH"
      },
      "execution_count": null,
      "outputs": []
    },
    {
      "cell_type": "code",
      "source": [
        "tf.concat([a,b],0)"
      ],
      "metadata": {
        "id": "lBxLt9PoMfzB"
      },
      "execution_count": null,
      "outputs": []
    },
    {
      "cell_type": "code",
      "source": [
        "tf.stack([a,b],0)"
      ],
      "metadata": {
        "id": "OBumunFzM2XO"
      },
      "execution_count": null,
      "outputs": []
    },
    {
      "cell_type": "code",
      "source": [
        "a = tf.sparse.SparseTensor(indices=[[1,2],[3,4]], values=[11,56],dense_shape=[5,6])\n",
        "a"
      ],
      "metadata": {
        "id": "EJE5-GXVM-Xv"
      },
      "execution_count": null,
      "outputs": []
    },
    {
      "cell_type": "code",
      "source": [
        "tf.sparse.to_dense(a)"
      ],
      "metadata": {
        "id": "6fAq0t2NNYGT"
      },
      "execution_count": null,
      "outputs": []
    },
    {
      "cell_type": "code",
      "source": [
        "a = tf.constant(['hello','i','am'])\n",
        "a"
      ],
      "metadata": {
        "id": "7ootu_2FNh4I"
      },
      "execution_count": null,
      "outputs": []
    },
    {
      "cell_type": "code",
      "source": [
        "tf.strings.join(a,separator='+')"
      ],
      "metadata": {
        "id": "GFsnkf-ONz-A"
      },
      "execution_count": null,
      "outputs": []
    }
  ]
}